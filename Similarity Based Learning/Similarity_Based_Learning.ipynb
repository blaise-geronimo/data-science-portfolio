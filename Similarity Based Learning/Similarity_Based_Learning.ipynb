{
 "cells": [
  {
   "metadata": {},
   "cell_type": "markdown",
   "source": [
    "# Similarity Based Learning\n",
    "\n",
    "by: Blaise Geronimo"
   ]
  },
  {
   "cell_type": "code",
   "metadata": {
    "ExecuteTime": {
     "end_time": "2025-10-15T04:56:25.675065Z",
     "start_time": "2025-10-15T04:56:25.186645Z"
    }
   },
   "source": [
    "# import libraries\n",
    "import pandas as pd\n",
    "import seaborn as sns\n",
    "import re\n",
    "from itertools import combinations\n",
    "from collections import defaultdict, Counter\n",
    "import random\n",
    "import matplotlib.pyplot as plt\n",
    "from sklearn.feature_extraction.text import CountVectorizer\n",
    "import numpy as np\n",
    "from sklearn.preprocessing import LabelEncoder, StandardScaler\n",
    "from scipy.spatial.distance import squareform, pdist\n",
    "from sklearn.ensemble import RandomForestClassifier\n",
    "from wordcloud import WordCloud"
   ],
   "outputs": [],
   "execution_count": 1
  },
  {
   "cell_type": "code",
   "metadata": {
    "ExecuteTime": {
     "end_time": "2025-10-15T04:56:25.688838Z",
     "start_time": "2025-10-15T04:56:25.685321Z"
    }
   },
   "source": [
    "random.seed(16)\n",
    "random_seed = 16"
   ],
   "outputs": [],
   "execution_count": 2
  },
  {
   "cell_type": "markdown",
   "metadata": {
    "cell_id": "7d2cabec158245e5b394078f93153baa",
    "deepnote_cell_type": "markdown"
   },
   "source": "# Data Import and Exploration"
  },
  {
   "cell_type": "code",
   "metadata": {
    "ExecuteTime": {
     "end_time": "2025-10-15T04:56:26.602499Z",
     "start_time": "2025-10-15T04:56:25.688838Z"
    }
   },
   "source": "df = pd.read_csv('data/listings.csv')",
   "outputs": [],
   "execution_count": 3
  },
  {
   "cell_type": "code",
   "metadata": {
    "ExecuteTime": {
     "end_time": "2025-10-15T04:56:33.072657Z",
     "start_time": "2025-10-15T04:56:33.058061Z"
    }
   },
   "source": [
    "df.head(5)"
   ],
   "outputs": [
    {
     "data": {
      "text/plain": [
       "       id                          listing_url       scrape_id last_scraped  \\\n",
       "0  231497  https://www.airbnb.com/rooms/231497  20230922043705   2023-09-22   \n",
       "1  231516  https://www.airbnb.com/rooms/231516  20230922043705   2023-09-22   \n",
       "2  236991  https://www.airbnb.com/rooms/236991  20230922043705   2023-09-23   \n",
       "3   17878   https://www.airbnb.com/rooms/17878  20230922043705   2023-09-23   \n",
       "4   25026   https://www.airbnb.com/rooms/25026  20230922043705   2023-09-22   \n",
       "\n",
       "        source                                               name  \\\n",
       "0  city scrape  Rental unit in Rio de Janeiro · ★4.73 · 1 bedr...   \n",
       "1  city scrape  Rental unit in Rio de Janeiro · ★4.71 · 1 bedr...   \n",
       "2  city scrape  Rental unit in Rio de Janeiro · ★4.89 · 1 bedr...   \n",
       "3  city scrape  Condo in Rio de Janeiro · ★4.70 · 2 bedrooms ·...   \n",
       "4  city scrape  Rental unit in Rio de Janeiro · ★4.71 · 1 bedr...   \n",
       "\n",
       "                                         description  \\\n",
       "0  This is a big studio at the end of Copacabana,...   \n",
       "1  Special location of the building, on Copacaban...   \n",
       "2  Aconchegante, amplo, básico, arejado, iluminad...   \n",
       "3  Please note that elevated rates applies for Ne...   \n",
       "4  **Fully renovated  in Dec 2022, new kitchen, n...   \n",
       "\n",
       "                               neighborhood_overview  \\\n",
       "0                                                NaN   \n",
       "1                                                NaN   \n",
       "2  Copacabana, apelidada a princesinha do mar, fa...   \n",
       "3  This is the one of the bests spots in Rio. Bec...   \n",
       "4  Copacabana is a lively neighborhood and the ap...   \n",
       "\n",
       "                                         picture_url  host_id  ...  \\\n",
       "0  https://a0.muscache.com/pictures/3582382/ee8ac...  1207700  ...   \n",
       "1  https://a0.muscache.com/pictures/3671683/d74b4...  1207700  ...   \n",
       "2  https://a0.muscache.com/pictures/5725a59b-147d...  1241662  ...   \n",
       "3  https://a0.muscache.com/pictures/65320518/3069...    68997  ...   \n",
       "4  https://a0.muscache.com/pictures/a745aa21-b8dd...   102840  ...   \n",
       "\n",
       "  review_scores_communication review_scores_location review_scores_value  \\\n",
       "0                        4.92                   4.90                4.65   \n",
       "1                        4.86                   4.93                4.38   \n",
       "2                        4.96                   4.99                4.89   \n",
       "3                        4.91                   4.77                4.67   \n",
       "4                        4.92                   4.84                4.59   \n",
       "\n",
       "  license instant_bookable calculated_host_listings_count  \\\n",
       "0     NaN                f                              4   \n",
       "1     NaN                f                              4   \n",
       "2     NaN                f                              2   \n",
       "3     NaN                f                              1   \n",
       "4     NaN                f                              1   \n",
       "\n",
       "  calculated_host_listings_count_entire_homes  \\\n",
       "0                                           4   \n",
       "1                                           4   \n",
       "2                                           2   \n",
       "3                                           1   \n",
       "4                                           1   \n",
       "\n",
       "  calculated_host_listings_count_private_rooms  \\\n",
       "0                                            0   \n",
       "1                                            0   \n",
       "2                                            0   \n",
       "3                                            0   \n",
       "4                                            0   \n",
       "\n",
       "  calculated_host_listings_count_shared_rooms reviews_per_month  \n",
       "0                                           0              0.54  \n",
       "1                                           0              0.20  \n",
       "2                                           0              0.65  \n",
       "3                                           0              1.87  \n",
       "4                                           0              1.68  \n",
       "\n",
       "[5 rows x 75 columns]"
      ],
      "text/html": [
       "<div>\n",
       "<style scoped>\n",
       "    .dataframe tbody tr th:only-of-type {\n",
       "        vertical-align: middle;\n",
       "    }\n",
       "\n",
       "    .dataframe tbody tr th {\n",
       "        vertical-align: top;\n",
       "    }\n",
       "\n",
       "    .dataframe thead th {\n",
       "        text-align: right;\n",
       "    }\n",
       "</style>\n",
       "<table border=\"1\" class=\"dataframe\">\n",
       "  <thead>\n",
       "    <tr style=\"text-align: right;\">\n",
       "      <th></th>\n",
       "      <th>id</th>\n",
       "      <th>listing_url</th>\n",
       "      <th>scrape_id</th>\n",
       "      <th>last_scraped</th>\n",
       "      <th>source</th>\n",
       "      <th>name</th>\n",
       "      <th>description</th>\n",
       "      <th>neighborhood_overview</th>\n",
       "      <th>picture_url</th>\n",
       "      <th>host_id</th>\n",
       "      <th>...</th>\n",
       "      <th>review_scores_communication</th>\n",
       "      <th>review_scores_location</th>\n",
       "      <th>review_scores_value</th>\n",
       "      <th>license</th>\n",
       "      <th>instant_bookable</th>\n",
       "      <th>calculated_host_listings_count</th>\n",
       "      <th>calculated_host_listings_count_entire_homes</th>\n",
       "      <th>calculated_host_listings_count_private_rooms</th>\n",
       "      <th>calculated_host_listings_count_shared_rooms</th>\n",
       "      <th>reviews_per_month</th>\n",
       "    </tr>\n",
       "  </thead>\n",
       "  <tbody>\n",
       "    <tr>\n",
       "      <th>0</th>\n",
       "      <td>231497</td>\n",
       "      <td>https://www.airbnb.com/rooms/231497</td>\n",
       "      <td>20230922043705</td>\n",
       "      <td>2023-09-22</td>\n",
       "      <td>city scrape</td>\n",
       "      <td>Rental unit in Rio de Janeiro · ★4.73 · 1 bedr...</td>\n",
       "      <td>This is a big studio at the end of Copacabana,...</td>\n",
       "      <td>NaN</td>\n",
       "      <td>https://a0.muscache.com/pictures/3582382/ee8ac...</td>\n",
       "      <td>1207700</td>\n",
       "      <td>...</td>\n",
       "      <td>4.92</td>\n",
       "      <td>4.90</td>\n",
       "      <td>4.65</td>\n",
       "      <td>NaN</td>\n",
       "      <td>f</td>\n",
       "      <td>4</td>\n",
       "      <td>4</td>\n",
       "      <td>0</td>\n",
       "      <td>0</td>\n",
       "      <td>0.54</td>\n",
       "    </tr>\n",
       "    <tr>\n",
       "      <th>1</th>\n",
       "      <td>231516</td>\n",
       "      <td>https://www.airbnb.com/rooms/231516</td>\n",
       "      <td>20230922043705</td>\n",
       "      <td>2023-09-22</td>\n",
       "      <td>city scrape</td>\n",
       "      <td>Rental unit in Rio de Janeiro · ★4.71 · 1 bedr...</td>\n",
       "      <td>Special location of the building, on Copacaban...</td>\n",
       "      <td>NaN</td>\n",
       "      <td>https://a0.muscache.com/pictures/3671683/d74b4...</td>\n",
       "      <td>1207700</td>\n",
       "      <td>...</td>\n",
       "      <td>4.86</td>\n",
       "      <td>4.93</td>\n",
       "      <td>4.38</td>\n",
       "      <td>NaN</td>\n",
       "      <td>f</td>\n",
       "      <td>4</td>\n",
       "      <td>4</td>\n",
       "      <td>0</td>\n",
       "      <td>0</td>\n",
       "      <td>0.20</td>\n",
       "    </tr>\n",
       "    <tr>\n",
       "      <th>2</th>\n",
       "      <td>236991</td>\n",
       "      <td>https://www.airbnb.com/rooms/236991</td>\n",
       "      <td>20230922043705</td>\n",
       "      <td>2023-09-23</td>\n",
       "      <td>city scrape</td>\n",
       "      <td>Rental unit in Rio de Janeiro · ★4.89 · 1 bedr...</td>\n",
       "      <td>Aconchegante, amplo, básico, arejado, iluminad...</td>\n",
       "      <td>Copacabana, apelidada a princesinha do mar, fa...</td>\n",
       "      <td>https://a0.muscache.com/pictures/5725a59b-147d...</td>\n",
       "      <td>1241662</td>\n",
       "      <td>...</td>\n",
       "      <td>4.96</td>\n",
       "      <td>4.99</td>\n",
       "      <td>4.89</td>\n",
       "      <td>NaN</td>\n",
       "      <td>f</td>\n",
       "      <td>2</td>\n",
       "      <td>2</td>\n",
       "      <td>0</td>\n",
       "      <td>0</td>\n",
       "      <td>0.65</td>\n",
       "    </tr>\n",
       "    <tr>\n",
       "      <th>3</th>\n",
       "      <td>17878</td>\n",
       "      <td>https://www.airbnb.com/rooms/17878</td>\n",
       "      <td>20230922043705</td>\n",
       "      <td>2023-09-23</td>\n",
       "      <td>city scrape</td>\n",
       "      <td>Condo in Rio de Janeiro · ★4.70 · 2 bedrooms ·...</td>\n",
       "      <td>Please note that elevated rates applies for Ne...</td>\n",
       "      <td>This is the one of the bests spots in Rio. Bec...</td>\n",
       "      <td>https://a0.muscache.com/pictures/65320518/3069...</td>\n",
       "      <td>68997</td>\n",
       "      <td>...</td>\n",
       "      <td>4.91</td>\n",
       "      <td>4.77</td>\n",
       "      <td>4.67</td>\n",
       "      <td>NaN</td>\n",
       "      <td>f</td>\n",
       "      <td>1</td>\n",
       "      <td>1</td>\n",
       "      <td>0</td>\n",
       "      <td>0</td>\n",
       "      <td>1.87</td>\n",
       "    </tr>\n",
       "    <tr>\n",
       "      <th>4</th>\n",
       "      <td>25026</td>\n",
       "      <td>https://www.airbnb.com/rooms/25026</td>\n",
       "      <td>20230922043705</td>\n",
       "      <td>2023-09-22</td>\n",
       "      <td>city scrape</td>\n",
       "      <td>Rental unit in Rio de Janeiro · ★4.71 · 1 bedr...</td>\n",
       "      <td>**Fully renovated  in Dec 2022, new kitchen, n...</td>\n",
       "      <td>Copacabana is a lively neighborhood and the ap...</td>\n",
       "      <td>https://a0.muscache.com/pictures/a745aa21-b8dd...</td>\n",
       "      <td>102840</td>\n",
       "      <td>...</td>\n",
       "      <td>4.92</td>\n",
       "      <td>4.84</td>\n",
       "      <td>4.59</td>\n",
       "      <td>NaN</td>\n",
       "      <td>f</td>\n",
       "      <td>1</td>\n",
       "      <td>1</td>\n",
       "      <td>0</td>\n",
       "      <td>0</td>\n",
       "      <td>1.68</td>\n",
       "    </tr>\n",
       "  </tbody>\n",
       "</table>\n",
       "<p>5 rows × 75 columns</p>\n",
       "</div>"
      ]
     },
     "execution_count": 4,
     "metadata": {},
     "output_type": "execute_result"
    }
   ],
   "execution_count": 4
  },
  {
   "cell_type": "code",
   "metadata": {
    "ExecuteTime": {
     "end_time": "2025-10-15T04:56:33.265120Z",
     "start_time": "2025-10-15T04:56:33.164067Z"
    }
   },
   "source": [
    "df.describe()"
   ],
   "outputs": [
    {
     "data": {
      "text/plain": [
       "                 id     scrape_id       host_id  host_listings_count  \\\n",
       "count  3.196400e+04  3.196400e+04  3.196400e+04         31961.000000   \n",
       "mean   3.514699e+17  2.023092e+13  1.663077e+08            16.112450   \n",
       "std    3.999653e+17  0.000000e+00  1.684315e+08            89.082309   \n",
       "min    1.787800e+04  2.023092e+13  1.671000e+03             1.000000   \n",
       "25%    2.184739e+07  2.023092e+13  2.258631e+07             1.000000   \n",
       "50%    5.261496e+07  2.023092e+13  8.693849e+07             2.000000   \n",
       "75%    7.814279e+17  2.023092e+13  3.004090e+08             5.000000   \n",
       "max    9.855551e+17  2.023092e+13  5.379850e+08          1311.000000   \n",
       "\n",
       "       host_total_listings_count  neighbourhood_group_cleansed      latitude  \\\n",
       "count               31961.000000                           0.0  31964.000000   \n",
       "mean                   27.273020                           NaN    -22.967574   \n",
       "std                   134.207472                           NaN      0.035182   \n",
       "min                     1.000000                           NaN    -23.073276   \n",
       "25%                     1.000000                           NaN    -22.984820   \n",
       "50%                     3.000000                           NaN    -22.972860   \n",
       "75%                     7.000000                           NaN    -22.956165   \n",
       "max                  1803.000000                           NaN    -22.749690   \n",
       "\n",
       "          longitude  accommodates  bathrooms  ...  review_scores_checkin  \\\n",
       "count  31964.000000  31964.000000        0.0  ...           23668.000000   \n",
       "mean     -43.251361      4.041265        NaN  ...               4.881593   \n",
       "std        0.100595      2.370380        NaN  ...               0.321587   \n",
       "min      -43.723009      1.000000        NaN  ...               1.000000   \n",
       "25%      -43.310047      2.000000        NaN  ...               4.890000   \n",
       "50%      -43.195670      4.000000        NaN  ...               5.000000   \n",
       "75%      -43.185946      5.000000        NaN  ...               5.000000   \n",
       "max      -43.104400     16.000000        NaN  ...               5.000000   \n",
       "\n",
       "       review_scores_communication  review_scores_location  \\\n",
       "count                 23667.000000            23665.000000   \n",
       "mean                      4.866827                4.861961   \n",
       "std                       0.346049                0.322802   \n",
       "min                       1.000000                1.000000   \n",
       "25%                       4.870000                4.850000   \n",
       "50%                       5.000000                4.980000   \n",
       "75%                       5.000000                5.000000   \n",
       "max                       5.000000                5.000000   \n",
       "\n",
       "       review_scores_value  license  calculated_host_listings_count  \\\n",
       "count          23667.00000      0.0                    31964.000000   \n",
       "mean               4.69660      NaN                        8.839319   \n",
       "std                0.44839      NaN                       23.515196   \n",
       "min                1.00000      NaN                        1.000000   \n",
       "25%                4.61000      NaN                        1.000000   \n",
       "50%                4.81000      NaN                        2.000000   \n",
       "75%                5.00000      NaN                        4.000000   \n",
       "max                5.00000      NaN                      163.000000   \n",
       "\n",
       "       calculated_host_listings_count_entire_homes  \\\n",
       "count                                 31964.000000   \n",
       "mean                                      8.010825   \n",
       "std                                      23.328498   \n",
       "min                                       0.000000   \n",
       "25%                                       1.000000   \n",
       "50%                                       1.000000   \n",
       "75%                                       3.000000   \n",
       "max                                     159.000000   \n",
       "\n",
       "       calculated_host_listings_count_private_rooms  \\\n",
       "count                                  31964.000000   \n",
       "mean                                       0.707139   \n",
       "std                                        1.735520   \n",
       "min                                        0.000000   \n",
       "25%                                        0.000000   \n",
       "50%                                        0.000000   \n",
       "75%                                        1.000000   \n",
       "max                                       18.000000   \n",
       "\n",
       "       calculated_host_listings_count_shared_rooms  reviews_per_month  \n",
       "count                                 31964.000000       23824.000000  \n",
       "mean                                      0.111719           0.974190  \n",
       "std                                       0.918342           1.127053  \n",
       "min                                       0.000000           0.010000  \n",
       "25%                                       0.000000           0.170000  \n",
       "50%                                       0.000000           0.570000  \n",
       "75%                                       0.000000           1.380000  \n",
       "max                                      15.000000          14.780000  \n",
       "\n",
       "[8 rows x 41 columns]"
      ],
      "text/html": [
       "<div>\n",
       "<style scoped>\n",
       "    .dataframe tbody tr th:only-of-type {\n",
       "        vertical-align: middle;\n",
       "    }\n",
       "\n",
       "    .dataframe tbody tr th {\n",
       "        vertical-align: top;\n",
       "    }\n",
       "\n",
       "    .dataframe thead th {\n",
       "        text-align: right;\n",
       "    }\n",
       "</style>\n",
       "<table border=\"1\" class=\"dataframe\">\n",
       "  <thead>\n",
       "    <tr style=\"text-align: right;\">\n",
       "      <th></th>\n",
       "      <th>id</th>\n",
       "      <th>scrape_id</th>\n",
       "      <th>host_id</th>\n",
       "      <th>host_listings_count</th>\n",
       "      <th>host_total_listings_count</th>\n",
       "      <th>neighbourhood_group_cleansed</th>\n",
       "      <th>latitude</th>\n",
       "      <th>longitude</th>\n",
       "      <th>accommodates</th>\n",
       "      <th>bathrooms</th>\n",
       "      <th>...</th>\n",
       "      <th>review_scores_checkin</th>\n",
       "      <th>review_scores_communication</th>\n",
       "      <th>review_scores_location</th>\n",
       "      <th>review_scores_value</th>\n",
       "      <th>license</th>\n",
       "      <th>calculated_host_listings_count</th>\n",
       "      <th>calculated_host_listings_count_entire_homes</th>\n",
       "      <th>calculated_host_listings_count_private_rooms</th>\n",
       "      <th>calculated_host_listings_count_shared_rooms</th>\n",
       "      <th>reviews_per_month</th>\n",
       "    </tr>\n",
       "  </thead>\n",
       "  <tbody>\n",
       "    <tr>\n",
       "      <th>count</th>\n",
       "      <td>3.196400e+04</td>\n",
       "      <td>3.196400e+04</td>\n",
       "      <td>3.196400e+04</td>\n",
       "      <td>31961.000000</td>\n",
       "      <td>31961.000000</td>\n",
       "      <td>0.0</td>\n",
       "      <td>31964.000000</td>\n",
       "      <td>31964.000000</td>\n",
       "      <td>31964.000000</td>\n",
       "      <td>0.0</td>\n",
       "      <td>...</td>\n",
       "      <td>23668.000000</td>\n",
       "      <td>23667.000000</td>\n",
       "      <td>23665.000000</td>\n",
       "      <td>23667.00000</td>\n",
       "      <td>0.0</td>\n",
       "      <td>31964.000000</td>\n",
       "      <td>31964.000000</td>\n",
       "      <td>31964.000000</td>\n",
       "      <td>31964.000000</td>\n",
       "      <td>23824.000000</td>\n",
       "    </tr>\n",
       "    <tr>\n",
       "      <th>mean</th>\n",
       "      <td>3.514699e+17</td>\n",
       "      <td>2.023092e+13</td>\n",
       "      <td>1.663077e+08</td>\n",
       "      <td>16.112450</td>\n",
       "      <td>27.273020</td>\n",
       "      <td>NaN</td>\n",
       "      <td>-22.967574</td>\n",
       "      <td>-43.251361</td>\n",
       "      <td>4.041265</td>\n",
       "      <td>NaN</td>\n",
       "      <td>...</td>\n",
       "      <td>4.881593</td>\n",
       "      <td>4.866827</td>\n",
       "      <td>4.861961</td>\n",
       "      <td>4.69660</td>\n",
       "      <td>NaN</td>\n",
       "      <td>8.839319</td>\n",
       "      <td>8.010825</td>\n",
       "      <td>0.707139</td>\n",
       "      <td>0.111719</td>\n",
       "      <td>0.974190</td>\n",
       "    </tr>\n",
       "    <tr>\n",
       "      <th>std</th>\n",
       "      <td>3.999653e+17</td>\n",
       "      <td>0.000000e+00</td>\n",
       "      <td>1.684315e+08</td>\n",
       "      <td>89.082309</td>\n",
       "      <td>134.207472</td>\n",
       "      <td>NaN</td>\n",
       "      <td>0.035182</td>\n",
       "      <td>0.100595</td>\n",
       "      <td>2.370380</td>\n",
       "      <td>NaN</td>\n",
       "      <td>...</td>\n",
       "      <td>0.321587</td>\n",
       "      <td>0.346049</td>\n",
       "      <td>0.322802</td>\n",
       "      <td>0.44839</td>\n",
       "      <td>NaN</td>\n",
       "      <td>23.515196</td>\n",
       "      <td>23.328498</td>\n",
       "      <td>1.735520</td>\n",
       "      <td>0.918342</td>\n",
       "      <td>1.127053</td>\n",
       "    </tr>\n",
       "    <tr>\n",
       "      <th>min</th>\n",
       "      <td>1.787800e+04</td>\n",
       "      <td>2.023092e+13</td>\n",
       "      <td>1.671000e+03</td>\n",
       "      <td>1.000000</td>\n",
       "      <td>1.000000</td>\n",
       "      <td>NaN</td>\n",
       "      <td>-23.073276</td>\n",
       "      <td>-43.723009</td>\n",
       "      <td>1.000000</td>\n",
       "      <td>NaN</td>\n",
       "      <td>...</td>\n",
       "      <td>1.000000</td>\n",
       "      <td>1.000000</td>\n",
       "      <td>1.000000</td>\n",
       "      <td>1.00000</td>\n",
       "      <td>NaN</td>\n",
       "      <td>1.000000</td>\n",
       "      <td>0.000000</td>\n",
       "      <td>0.000000</td>\n",
       "      <td>0.000000</td>\n",
       "      <td>0.010000</td>\n",
       "    </tr>\n",
       "    <tr>\n",
       "      <th>25%</th>\n",
       "      <td>2.184739e+07</td>\n",
       "      <td>2.023092e+13</td>\n",
       "      <td>2.258631e+07</td>\n",
       "      <td>1.000000</td>\n",
       "      <td>1.000000</td>\n",
       "      <td>NaN</td>\n",
       "      <td>-22.984820</td>\n",
       "      <td>-43.310047</td>\n",
       "      <td>2.000000</td>\n",
       "      <td>NaN</td>\n",
       "      <td>...</td>\n",
       "      <td>4.890000</td>\n",
       "      <td>4.870000</td>\n",
       "      <td>4.850000</td>\n",
       "      <td>4.61000</td>\n",
       "      <td>NaN</td>\n",
       "      <td>1.000000</td>\n",
       "      <td>1.000000</td>\n",
       "      <td>0.000000</td>\n",
       "      <td>0.000000</td>\n",
       "      <td>0.170000</td>\n",
       "    </tr>\n",
       "    <tr>\n",
       "      <th>50%</th>\n",
       "      <td>5.261496e+07</td>\n",
       "      <td>2.023092e+13</td>\n",
       "      <td>8.693849e+07</td>\n",
       "      <td>2.000000</td>\n",
       "      <td>3.000000</td>\n",
       "      <td>NaN</td>\n",
       "      <td>-22.972860</td>\n",
       "      <td>-43.195670</td>\n",
       "      <td>4.000000</td>\n",
       "      <td>NaN</td>\n",
       "      <td>...</td>\n",
       "      <td>5.000000</td>\n",
       "      <td>5.000000</td>\n",
       "      <td>4.980000</td>\n",
       "      <td>4.81000</td>\n",
       "      <td>NaN</td>\n",
       "      <td>2.000000</td>\n",
       "      <td>1.000000</td>\n",
       "      <td>0.000000</td>\n",
       "      <td>0.000000</td>\n",
       "      <td>0.570000</td>\n",
       "    </tr>\n",
       "    <tr>\n",
       "      <th>75%</th>\n",
       "      <td>7.814279e+17</td>\n",
       "      <td>2.023092e+13</td>\n",
       "      <td>3.004090e+08</td>\n",
       "      <td>5.000000</td>\n",
       "      <td>7.000000</td>\n",
       "      <td>NaN</td>\n",
       "      <td>-22.956165</td>\n",
       "      <td>-43.185946</td>\n",
       "      <td>5.000000</td>\n",
       "      <td>NaN</td>\n",
       "      <td>...</td>\n",
       "      <td>5.000000</td>\n",
       "      <td>5.000000</td>\n",
       "      <td>5.000000</td>\n",
       "      <td>5.00000</td>\n",
       "      <td>NaN</td>\n",
       "      <td>4.000000</td>\n",
       "      <td>3.000000</td>\n",
       "      <td>1.000000</td>\n",
       "      <td>0.000000</td>\n",
       "      <td>1.380000</td>\n",
       "    </tr>\n",
       "    <tr>\n",
       "      <th>max</th>\n",
       "      <td>9.855551e+17</td>\n",
       "      <td>2.023092e+13</td>\n",
       "      <td>5.379850e+08</td>\n",
       "      <td>1311.000000</td>\n",
       "      <td>1803.000000</td>\n",
       "      <td>NaN</td>\n",
       "      <td>-22.749690</td>\n",
       "      <td>-43.104400</td>\n",
       "      <td>16.000000</td>\n",
       "      <td>NaN</td>\n",
       "      <td>...</td>\n",
       "      <td>5.000000</td>\n",
       "      <td>5.000000</td>\n",
       "      <td>5.000000</td>\n",
       "      <td>5.00000</td>\n",
       "      <td>NaN</td>\n",
       "      <td>163.000000</td>\n",
       "      <td>159.000000</td>\n",
       "      <td>18.000000</td>\n",
       "      <td>15.000000</td>\n",
       "      <td>14.780000</td>\n",
       "    </tr>\n",
       "  </tbody>\n",
       "</table>\n",
       "<p>8 rows × 41 columns</p>\n",
       "</div>"
      ]
     },
     "execution_count": 5,
     "metadata": {},
     "output_type": "execute_result"
    }
   ],
   "execution_count": 5
  },
  {
   "cell_type": "code",
   "metadata": {
    "ExecuteTime": {
     "end_time": "2025-10-15T04:56:33.813573Z",
     "start_time": "2025-10-15T04:56:33.763943Z"
    }
   },
   "source": [
    "df.isnull().sum()"
   ],
   "outputs": [
    {
     "data": {
      "text/plain": [
       "id                                                 0\n",
       "listing_url                                        0\n",
       "scrape_id                                          0\n",
       "last_scraped                                       0\n",
       "source                                             0\n",
       "                                                ... \n",
       "calculated_host_listings_count                     0\n",
       "calculated_host_listings_count_entire_homes        0\n",
       "calculated_host_listings_count_private_rooms       0\n",
       "calculated_host_listings_count_shared_rooms        0\n",
       "reviews_per_month                               8140\n",
       "Length: 75, dtype: int64"
      ]
     },
     "execution_count": 6,
     "metadata": {},
     "output_type": "execute_result"
    }
   ],
   "execution_count": 6
  },
  {
   "cell_type": "markdown",
   "metadata": {},
   "source": "# Data Exploration"
  },
  {
   "cell_type": "markdown",
   "metadata": {},
   "source": [
    "[Reference](https://docs.google.com/spreadsheets/d/1iWCNJcSutYqpULSQHlNyGInUvHg2BoUGoNRIGa6Szc4/edit?usp=sharing)"
   ]
  },
  {
   "cell_type": "code",
   "metadata": {
    "ExecuteTime": {
     "end_time": "2025-10-15T04:56:34.219078Z",
     "start_time": "2025-10-15T04:56:34.158499Z"
    }
   },
   "source": [
    "df.info()"
   ],
   "outputs": [
    {
     "name": "stdout",
     "output_type": "stream",
     "text": [
      "<class 'pandas.core.frame.DataFrame'>\n",
      "RangeIndex: 31964 entries, 0 to 31963\n",
      "Data columns (total 75 columns):\n",
      " #   Column                                        Non-Null Count  Dtype  \n",
      "---  ------                                        --------------  -----  \n",
      " 0   id                                            31964 non-null  int64  \n",
      " 1   listing_url                                   31964 non-null  object \n",
      " 2   scrape_id                                     31964 non-null  int64  \n",
      " 3   last_scraped                                  31964 non-null  object \n",
      " 4   source                                        31964 non-null  object \n",
      " 5   name                                          31964 non-null  object \n",
      " 6   description                                   31305 non-null  object \n",
      " 7   neighborhood_overview                         16739 non-null  object \n",
      " 8   picture_url                                   31964 non-null  object \n",
      " 9   host_id                                       31964 non-null  int64  \n",
      " 10  host_url                                      31964 non-null  object \n",
      " 11  host_name                                     31961 non-null  object \n",
      " 12  host_since                                    31961 non-null  object \n",
      " 13  host_location                                 25752 non-null  object \n",
      " 14  host_about                                    15843 non-null  object \n",
      " 15  host_response_time                            25256 non-null  object \n",
      " 16  host_response_rate                            25256 non-null  object \n",
      " 17  host_acceptance_rate                          27183 non-null  object \n",
      " 18  host_is_superhost                             31308 non-null  object \n",
      " 19  host_thumbnail_url                            31961 non-null  object \n",
      " 20  host_picture_url                              31961 non-null  object \n",
      " 21  host_neighbourhood                            23902 non-null  object \n",
      " 22  host_listings_count                           31961 non-null  float64\n",
      " 23  host_total_listings_count                     31961 non-null  float64\n",
      " 24  host_verifications                            31961 non-null  object \n",
      " 25  host_has_profile_pic                          31961 non-null  object \n",
      " 26  host_identity_verified                        31961 non-null  object \n",
      " 27  neighbourhood                                 16739 non-null  object \n",
      " 28  neighbourhood_cleansed                        31964 non-null  object \n",
      " 29  neighbourhood_group_cleansed                  0 non-null      float64\n",
      " 30  latitude                                      31964 non-null  float64\n",
      " 31  longitude                                     31964 non-null  float64\n",
      " 32  property_type                                 31964 non-null  object \n",
      " 33  room_type                                     31964 non-null  object \n",
      " 34  accommodates                                  31964 non-null  int64  \n",
      " 35  bathrooms                                     0 non-null      float64\n",
      " 36  bathrooms_text                                31936 non-null  object \n",
      " 37  bedrooms                                      24617 non-null  float64\n",
      " 38  beds                                          31789 non-null  float64\n",
      " 39  amenities                                     31964 non-null  object \n",
      " 40  price                                         31964 non-null  object \n",
      " 41  minimum_nights                                31964 non-null  int64  \n",
      " 42  maximum_nights                                31964 non-null  int64  \n",
      " 43  minimum_minimum_nights                        31964 non-null  int64  \n",
      " 44  maximum_minimum_nights                        31964 non-null  int64  \n",
      " 45  minimum_maximum_nights                        31964 non-null  int64  \n",
      " 46  maximum_maximum_nights                        31964 non-null  int64  \n",
      " 47  minimum_nights_avg_ntm                        31964 non-null  float64\n",
      " 48  maximum_nights_avg_ntm                        31964 non-null  float64\n",
      " 49  calendar_updated                              0 non-null      float64\n",
      " 50  has_availability                              31964 non-null  object \n",
      " 51  availability_30                               31964 non-null  int64  \n",
      " 52  availability_60                               31964 non-null  int64  \n",
      " 53  availability_90                               31964 non-null  int64  \n",
      " 54  availability_365                              31964 non-null  int64  \n",
      " 55  calendar_last_scraped                         31964 non-null  object \n",
      " 56  number_of_reviews                             31964 non-null  int64  \n",
      " 57  number_of_reviews_ltm                         31964 non-null  int64  \n",
      " 58  number_of_reviews_l30d                        31964 non-null  int64  \n",
      " 59  first_review                                  23824 non-null  object \n",
      " 60  last_review                                   23824 non-null  object \n",
      " 61  review_scores_rating                          23824 non-null  float64\n",
      " 62  review_scores_accuracy                        23667 non-null  float64\n",
      " 63  review_scores_cleanliness                     23668 non-null  float64\n",
      " 64  review_scores_checkin                         23668 non-null  float64\n",
      " 65  review_scores_communication                   23667 non-null  float64\n",
      " 66  review_scores_location                        23665 non-null  float64\n",
      " 67  review_scores_value                           23667 non-null  float64\n",
      " 68  license                                       0 non-null      float64\n",
      " 69  instant_bookable                              31964 non-null  object \n",
      " 70  calculated_host_listings_count                31964 non-null  int64  \n",
      " 71  calculated_host_listings_count_entire_homes   31964 non-null  int64  \n",
      " 72  calculated_host_listings_count_private_rooms  31964 non-null  int64  \n",
      " 73  calculated_host_listings_count_shared_rooms   31964 non-null  int64  \n",
      " 74  reviews_per_month                             23824 non-null  float64\n",
      "dtypes: float64(20), int64(21), object(34)\n",
      "memory usage: 18.3+ MB\n"
     ]
    }
   ],
   "execution_count": 7
  },
  {
   "cell_type": "markdown",
   "metadata": {},
   "source": [
    "### Data Dictionary\n",
    "\n",
    "| #  | Column Name                                      | Data Type  | Description |\n",
    "|----|-------------------------------------------------|-----------|-------------|\n",
    "| 1  | id                                             | integer   | Airbnb's unique identifier for the listing |\n",
    "| 2  | listing_url                                    | text      | URL to the Airbnb listing |\n",
    "| 3  | scrape_id                                      | bigint    | Inside Airbnb \"Scrape\" this was part of |\n",
    "| 4  | last_scraped                                   | datetime  | UTC. The date and time this listing was \"scraped\" |\n",
    "| 5  | source                                         | text      | Source of the listing data |\n",
    "| 6  | name                                           | text      | Name of the listing |\n",
    "| 7  | description                                    | text      | Detailed description of the listing |\n",
    "| 8  | neighborhood_overview                          | text      | Host's description of the neighborhood |\n",
    "| 9  | picture_url                                    | text      | URL to the Airbnb hosted regular-sized image for the listing |\n",
    "| 10 | host_id                                        | integer   | Airbnb's unique identifier for the host/user |\n",
    "| 11 | host_url                                       | text      | The Airbnb page for the host |\n",
    "| 12 | host_name                                      | text      | Name of the host. Usually just the first name(s) |\n",
    "| 13 | host_since                                     | date      | The date the host/user was created |\n",
    "| 14 | host_location                                  | text      | The host's self-reported location |\n",
    "| 15 | host_about                                     | text      | Description about the host |\n",
    "| 16 | host_response_time                             | text      | Host's average response time |\n",
    "| 17 | host_response_rate                             | text      | Percentage of messages the host responds to |\n",
    "| 18 | host_acceptance_rate                           | text      | The rate at which a host accepts booking requests |\n",
    "| 19 | host_is_superhost                              | boolean   | Whether the host is a superhost (t=true; f=false) |\n",
    "| 20 | host_thumbnail_url                             | text      | URL to the host's thumbnail image |\n",
    "| 21 | host_picture_url                               | text      | URL to the host's profile picture |\n",
    "| 22 | host_neighbourhood                            | text      | The neighborhood where the host is located |\n",
    "| 23 | host_listings_count                            | integer   | The number of listings the host has |\n",
    "| 24 | host_total_listings_count                      | integer   | The total number of listings the host has |\n",
    "| 25 | host_verifications                             | text      | Verification methods the host has completed |\n",
    "| 26 | host_has_profile_pic                           | boolean   | Whether the host has a profile picture (t=true; f=false) |\n",
    "| 27 | host_identity_verified                         | boolean   | Whether the host's identity is verified (t=true; f=false) |\n",
    "| 28 | neighbourhood                                  | text      | The neighborhood where the listing is located |\n",
    "| 29 | neighbourhood_cleansed                         | text      | The neighborhood as geocoded using latitude and longitude |\n",
    "| 30 | neighbourhood_group_cleansed                   | text      | The neighborhood group as geocoded using latitude and longitude |\n",
    "| 31 | latitude                                       | numeric   | Uses the World Geodetic System (WGS84) projection for latitude |\n",
    "| 32 | longitude                                      | numeric   | Uses the World Geodetic System (WGS84) projection for longitude |\n",
    "| 33 | property_type                                  | text      | Self-selected property type |\n",
    "| 34 | room_type                                      | text      | The type of room offered (Entire home/apt, Private room, Shared room) |\n",
    "| 35 | accommodates                                   | integer   | The maximum capacity of the listing |\n",
    "| 36 | bathrooms                                      | numeric   | The number of bathrooms in the listing |\n",
    "| 37 | bathrooms_text                                 | text      | Text description of the number of bathrooms |\n",
    "| 38 | bedrooms                                       | integer   | The number of bedrooms |\n",
    "| 39 | beds                                           | integer   | The number of beds |\n",
    "| 40 | amenities                                      | json      | List of amenities provided |\n",
    "| 41 | price                                          | currency  | Daily price in local currency |\n",
    "| 42 | minimum_nights                                 | integer   | Minimum number of nights required for a booking |\n",
    "| 43 | maximum_nights                                 | integer   | Maximum number of nights allowed for a booking |\n",
    "| 44 | minimum_minimum_nights                         | integer   | The smallest minimum_night value from the calendar |\n",
    "| 45 | maximum_minimum_nights                         | integer   | The largest minimum_night value from the calendar |\n",
    "| 46 | minimum_maximum_nights                         | integer   | The smallest maximum_night value from the calendar |\n",
    "| 47 | maximum_maximum_nights                         | integer   | The largest maximum_night value from the calendar |\n",
    "| 48 | minimum_nights_avg_ntm                         | numeric   | The average minimum_night value from the calendar |\n",
    "| 49 | maximum_nights_avg_ntm                         | numeric   | The average maximum_night value from the calendar |\n",
    "| 50 | calendar_updated                               | date      | The last time the calendar was updated |\n",
    "| 51 | has_availability                              | boolean   | Whether the listing has availability (t=true; f=false) |\n",
    "| 52 | availability_30                                | integer   | The availability of the listing in the next 30 days |\n",
    "| 53 | availability_60                                | integer   | The availability of the listing in the next 60 days |\n",
    "| 54 | availability_90                                | integer   | The availability of the listing in the next 90 days |\n",
    "| 55 | availability_365                               | integer   | The availability of the listing in the next 365 days |\n",
    "| 56 | calendar_last_scraped                          | date      | The last date the listing's calendar was scraped |\n",
    "| 57 | number_of_reviews                             | integer   | The total number of reviews for the listing |\n",
    "| 58 | number_of_reviews_ltm                         | integer   | The number of reviews in the last 12 months |\n",
    "| 59 | number_of_reviews_l30d                        | integer   | The number of reviews in the last 30 days |\n",
    "| 60 | first_review                                  | date      | The date of the first review received |\n",
    "| 61 | last_review                                   | date      | The date of the most recent review |\n",
    "| 62 | review_scores_rating                          | numeric   | The average rating score given to the listing |\n",
    "| 63 | review_scores_accuracy                        | numeric   | Accuracy rating of the listing |\n",
    "| 64 | review_scores_cleanliness                     | numeric   | Cleanliness rating of the listing |\n",
    "| 65 | review_scores_checkin                         | numeric   | Check-in experience rating |\n",
    "| 66 | review_scores_communication                   | numeric   | Communication rating of the host |\n",
    "| 67 | review_scores_location                        | numeric   | Location rating of the listing |\n",
    "| 68 | review_scores_value                           | numeric   | Value-for-money rating of the listing |\n",
    "| 69 | license                                       | text      | The license/permit/registration number of the listing |\n",
    "| 70 | instant_bookable                              | boolean   | Whether guests can book instantly (t=true; f=false) |\n",
    "| 71 | calculated_host_listings_count                | integer   | The number of listings the host has in the current scrape |\n",
    "| 72 | calculated_host_listings_count_entire_homes   | integer   | The number of entire home/apt listings the host has in the current scrape |\n",
    "| 73 | calculated_host_listings_count_private_rooms  | integer   | The number of private room listings the host has in the current scrape |\n",
    "| 74 | calculated_host_listings_count_shared_rooms   | integer   | The number of shared room listings the host has in the current scrape |\n",
    "| 75 | reviews_per_month                             | numeric   | The number of reviews per month the listing receives |\n",
    "\n"
   ]
  },
  {
   "cell_type": "markdown",
   "metadata": {
    "cell_id": "8933751deccc4f80b9d83b82fc5c7c50",
    "deepnote_cell_type": "markdown"
   },
   "source": "## Dataset Type"
  },
  {
   "cell_type": "code",
   "metadata": {
    "cell_id": "59a3c05ec9f44d3da2507559f2b761ec",
    "deepnote_cell_type": "code",
    "ExecuteTime": {
     "end_time": "2025-10-15T04:56:34.517456Z",
     "start_time": "2025-10-15T04:56:34.498880Z"
    }
   },
   "source": [
    "# Identify numeric columns (int, float)\n",
    "numerical_cols = df.select_dtypes(include=['int64', 'float64']).columns.tolist()\n",
    "\n",
    "# Identify categorical columns (object, boolean)\n",
    "categorical_cols = df.select_dtypes(include=['object', 'bool']).columns.tolist()\n",
    "\n",
    "# Identify columns that might be mixed or need further analysis\n",
    "mixed_cols = [col for col in df.columns if col not in numerical_cols + categorical_cols]"
   ],
   "outputs": [],
   "execution_count": 8
  },
  {
   "cell_type": "code",
   "metadata": {
    "ExecuteTime": {
     "end_time": "2025-10-15T04:56:34.563583Z",
     "start_time": "2025-10-15T04:56:34.560450Z"
    }
   },
   "source": [
    "print(\"Numerical Columns:\", numerical_cols)"
   ],
   "outputs": [
    {
     "name": "stdout",
     "output_type": "stream",
     "text": [
      "Numerical Columns: ['id', 'scrape_id', 'host_id', 'host_listings_count', 'host_total_listings_count', 'neighbourhood_group_cleansed', 'latitude', 'longitude', 'accommodates', 'bathrooms', 'bedrooms', 'beds', 'minimum_nights', 'maximum_nights', 'minimum_minimum_nights', 'maximum_minimum_nights', 'minimum_maximum_nights', 'maximum_maximum_nights', 'minimum_nights_avg_ntm', 'maximum_nights_avg_ntm', 'calendar_updated', 'availability_30', 'availability_60', 'availability_90', 'availability_365', 'number_of_reviews', 'number_of_reviews_ltm', 'number_of_reviews_l30d', 'review_scores_rating', 'review_scores_accuracy', 'review_scores_cleanliness', 'review_scores_checkin', 'review_scores_communication', 'review_scores_location', 'review_scores_value', 'license', 'calculated_host_listings_count', 'calculated_host_listings_count_entire_homes', 'calculated_host_listings_count_private_rooms', 'calculated_host_listings_count_shared_rooms', 'reviews_per_month']\n"
     ]
    }
   ],
   "execution_count": 9
  },
  {
   "cell_type": "code",
   "metadata": {
    "ExecuteTime": {
     "end_time": "2025-10-15T04:56:34.660300Z",
     "start_time": "2025-10-15T04:56:34.656905Z"
    }
   },
   "source": [
    "print(\"Categorical Columns:\", categorical_cols)"
   ],
   "outputs": [
    {
     "name": "stdout",
     "output_type": "stream",
     "text": [
      "Categorical Columns: ['listing_url', 'last_scraped', 'source', 'name', 'description', 'neighborhood_overview', 'picture_url', 'host_url', 'host_name', 'host_since', 'host_location', 'host_about', 'host_response_time', 'host_response_rate', 'host_acceptance_rate', 'host_is_superhost', 'host_thumbnail_url', 'host_picture_url', 'host_neighbourhood', 'host_verifications', 'host_has_profile_pic', 'host_identity_verified', 'neighbourhood', 'neighbourhood_cleansed', 'property_type', 'room_type', 'bathrooms_text', 'amenities', 'price', 'has_availability', 'calendar_last_scraped', 'first_review', 'last_review', 'instant_bookable']\n"
     ]
    }
   ],
   "execution_count": 10
  },
  {
   "cell_type": "code",
   "metadata": {
    "ExecuteTime": {
     "end_time": "2025-10-15T04:56:34.732287Z",
     "start_time": "2025-10-15T04:56:34.728078Z"
    }
   },
   "source": [
    "print(\"Potential Mixed Columns:\", mixed_cols)"
   ],
   "outputs": [
    {
     "name": "stdout",
     "output_type": "stream",
     "text": [
      "Potential Mixed Columns: []\n"
     ]
    }
   ],
   "execution_count": 11
  },
  {
   "cell_type": "markdown",
   "metadata": {},
   "source": [
    "The data is a mixed-type dataset with numeric, categorical, and text columns. The dataset includes structured data for Airbnb listigs, such as host information, property descriptionsw, neighborhood data, and availability. The absence of mixed-type columns means that the dataset is well-organized and ready for further analysis."
   ]
  },
  {
   "cell_type": "markdown",
   "metadata": {
    "cell_id": "7b99b495b2054825b305b6796556dc58",
    "deepnote_cell_type": "markdown"
   },
   "source": "## Data Quality Assessment"
  },
  {
   "cell_type": "code",
   "metadata": {
    "ExecuteTime": {
     "end_time": "2025-10-15T04:56:34.867709Z",
     "start_time": "2025-10-15T04:56:34.851416Z"
    }
   },
   "source": [
    "df_cleaned = df.copy()"
   ],
   "outputs": [],
   "execution_count": 12
  },
  {
   "cell_type": "code",
   "metadata": {
    "ExecuteTime": {
     "end_time": "2025-10-15T04:56:34.917934Z",
     "start_time": "2025-10-15T04:56:34.875845Z"
    }
   },
   "source": [
    "df_cleaned.info()"
   ],
   "outputs": [
    {
     "name": "stdout",
     "output_type": "stream",
     "text": [
      "<class 'pandas.core.frame.DataFrame'>\n",
      "RangeIndex: 31964 entries, 0 to 31963\n",
      "Data columns (total 75 columns):\n",
      " #   Column                                        Non-Null Count  Dtype  \n",
      "---  ------                                        --------------  -----  \n",
      " 0   id                                            31964 non-null  int64  \n",
      " 1   listing_url                                   31964 non-null  object \n",
      " 2   scrape_id                                     31964 non-null  int64  \n",
      " 3   last_scraped                                  31964 non-null  object \n",
      " 4   source                                        31964 non-null  object \n",
      " 5   name                                          31964 non-null  object \n",
      " 6   description                                   31305 non-null  object \n",
      " 7   neighborhood_overview                         16739 non-null  object \n",
      " 8   picture_url                                   31964 non-null  object \n",
      " 9   host_id                                       31964 non-null  int64  \n",
      " 10  host_url                                      31964 non-null  object \n",
      " 11  host_name                                     31961 non-null  object \n",
      " 12  host_since                                    31961 non-null  object \n",
      " 13  host_location                                 25752 non-null  object \n",
      " 14  host_about                                    15843 non-null  object \n",
      " 15  host_response_time                            25256 non-null  object \n",
      " 16  host_response_rate                            25256 non-null  object \n",
      " 17  host_acceptance_rate                          27183 non-null  object \n",
      " 18  host_is_superhost                             31308 non-null  object \n",
      " 19  host_thumbnail_url                            31961 non-null  object \n",
      " 20  host_picture_url                              31961 non-null  object \n",
      " 21  host_neighbourhood                            23902 non-null  object \n",
      " 22  host_listings_count                           31961 non-null  float64\n",
      " 23  host_total_listings_count                     31961 non-null  float64\n",
      " 24  host_verifications                            31961 non-null  object \n",
      " 25  host_has_profile_pic                          31961 non-null  object \n",
      " 26  host_identity_verified                        31961 non-null  object \n",
      " 27  neighbourhood                                 16739 non-null  object \n",
      " 28  neighbourhood_cleansed                        31964 non-null  object \n",
      " 29  neighbourhood_group_cleansed                  0 non-null      float64\n",
      " 30  latitude                                      31964 non-null  float64\n",
      " 31  longitude                                     31964 non-null  float64\n",
      " 32  property_type                                 31964 non-null  object \n",
      " 33  room_type                                     31964 non-null  object \n",
      " 34  accommodates                                  31964 non-null  int64  \n",
      " 35  bathrooms                                     0 non-null      float64\n",
      " 36  bathrooms_text                                31936 non-null  object \n",
      " 37  bedrooms                                      24617 non-null  float64\n",
      " 38  beds                                          31789 non-null  float64\n",
      " 39  amenities                                     31964 non-null  object \n",
      " 40  price                                         31964 non-null  object \n",
      " 41  minimum_nights                                31964 non-null  int64  \n",
      " 42  maximum_nights                                31964 non-null  int64  \n",
      " 43  minimum_minimum_nights                        31964 non-null  int64  \n",
      " 44  maximum_minimum_nights                        31964 non-null  int64  \n",
      " 45  minimum_maximum_nights                        31964 non-null  int64  \n",
      " 46  maximum_maximum_nights                        31964 non-null  int64  \n",
      " 47  minimum_nights_avg_ntm                        31964 non-null  float64\n",
      " 48  maximum_nights_avg_ntm                        31964 non-null  float64\n",
      " 49  calendar_updated                              0 non-null      float64\n",
      " 50  has_availability                              31964 non-null  object \n",
      " 51  availability_30                               31964 non-null  int64  \n",
      " 52  availability_60                               31964 non-null  int64  \n",
      " 53  availability_90                               31964 non-null  int64  \n",
      " 54  availability_365                              31964 non-null  int64  \n",
      " 55  calendar_last_scraped                         31964 non-null  object \n",
      " 56  number_of_reviews                             31964 non-null  int64  \n",
      " 57  number_of_reviews_ltm                         31964 non-null  int64  \n",
      " 58  number_of_reviews_l30d                        31964 non-null  int64  \n",
      " 59  first_review                                  23824 non-null  object \n",
      " 60  last_review                                   23824 non-null  object \n",
      " 61  review_scores_rating                          23824 non-null  float64\n",
      " 62  review_scores_accuracy                        23667 non-null  float64\n",
      " 63  review_scores_cleanliness                     23668 non-null  float64\n",
      " 64  review_scores_checkin                         23668 non-null  float64\n",
      " 65  review_scores_communication                   23667 non-null  float64\n",
      " 66  review_scores_location                        23665 non-null  float64\n",
      " 67  review_scores_value                           23667 non-null  float64\n",
      " 68  license                                       0 non-null      float64\n",
      " 69  instant_bookable                              31964 non-null  object \n",
      " 70  calculated_host_listings_count                31964 non-null  int64  \n",
      " 71  calculated_host_listings_count_entire_homes   31964 non-null  int64  \n",
      " 72  calculated_host_listings_count_private_rooms  31964 non-null  int64  \n",
      " 73  calculated_host_listings_count_shared_rooms   31964 non-null  int64  \n",
      " 74  reviews_per_month                             23824 non-null  float64\n",
      "dtypes: float64(20), int64(21), object(34)\n",
      "memory usage: 18.3+ MB\n"
     ]
    }
   ],
   "execution_count": 13
  },
  {
   "cell_type": "markdown",
   "metadata": {},
   "source": [
    "## Drop Unecessary Columns"
   ]
  },
  {
   "cell_type": "code",
   "metadata": {
    "ExecuteTime": {
     "end_time": "2025-10-15T04:56:34.956738Z",
     "start_time": "2025-10-15T04:56:34.938689Z"
    }
   },
   "source": [
    "df_cleaned.drop(columns=['listing_url', 'scrape_id', 'last_scraped', 'source', 'name', 'description', 'neighborhood_overview',\n",
    "                         'picture_url', 'host_url', 'host_name','host_location', 'host_about', 'host_thumbnail_url', 'host_picture_url',\n",
    "                         'bathrooms', 'neighbourhood','calendar_updated', 'calendar_last_scraped', 'license',\n",
    "                         'neighbourhood_group_cleansed'], axis=1, inplace=True)"
   ],
   "outputs": [],
   "execution_count": 14
  },
  {
   "cell_type": "markdown",
   "metadata": {},
   "source": [
    "**Reason for dropping:**\n",
    "\n",
    "| Column Name                    | Reason for Dropping                                                                            |\n",
    "|--------------------------------|------------------------------------------------------------------------------------------------|\n",
    "| `listing_url`                 | Not relevant for analysis; only useful for direct access to listings.                          |\n",
    "| `scrape_id`                   | Identifier related to the scraping process, not useful for analysis.                           |\n",
    "| `last_scraped`                | Date when data was scraped, not informative for predictive analysis.                           |\n",
    "| `source`                      | Indicates the data source but does not contribute to the analysis.                             |\n",
    "| `name`                        | Listing name is descriptive but not useful for modeling.                                       |\n",
    "| `description`                 | Contains unstructured text, requiring NLP processing, but not needed for the current analysis. |\n",
    "| `neighborhood_overview`       | Unstructured text field; redundant with structured neighborhood attributes.                    |\n",
    "| `picture_url`                 | Only provides an image link, irrelevant for numerical or categorical analysis.                 |\n",
    "| `host_url`                    | Provides a direct link to the host's page, unnecessary for analysis.                           |\n",
    "| `host_name`                   | Personal identification information, does not impact listing attributes.                       |\n",
    "| `host_location`               | Self-reported by the host, often inconsistent and redundant with geolocation data.             |\n",
    "| `host_about`                  | Unstructured text that does not contribute directly to numerical analysis.                     |\n",
    "| `host_thumbnail_url`          | Image link of the host, irrelevant for analysis.                                               |\n",
    "| `host_picture_url`            | Another host image link, unnecessary for numerical analysis.                                   |\n",
    "| `bathrooms`                   | Contains mostly missing values, replaced with `bathrooms_text`.                                |\n",
    "| `neighbourhood`               | Largely redundant due to `neighbourhood_cleansed`, which is cleaner and more structured.       |\n",
    "| `calendar_updated`            | All values are missing, offering no useful data.                                               |\n",
    "| `calendar_last_scraped`       | Similar to `last_scraped`, irrelevant for any prediction or analysis.                          |\n",
    "| `license`                     | Contains all null values, not useful for analysis.                                             |\n",
    "| `neighbourhood_group_cleansed` | Contains all null values, making it irrelevant for analysis.                                   |"
   ]
  },
  {
   "cell_type": "markdown",
   "metadata": {},
   "source": [
    "## Handle Missing Values"
   ]
  },
  {
   "cell_type": "code",
   "metadata": {
    "ExecuteTime": {
     "end_time": "2025-10-15T04:56:34.985141Z",
     "start_time": "2025-10-15T04:56:34.963788Z"
    }
   },
   "source": [
    "df_cleaned.isnull().sum()"
   ],
   "outputs": [
    {
     "data": {
      "text/plain": [
       "id                                                 0\n",
       "host_id                                            0\n",
       "host_since                                         3\n",
       "host_response_time                              6708\n",
       "host_response_rate                              6708\n",
       "host_acceptance_rate                            4781\n",
       "host_is_superhost                                656\n",
       "host_neighbourhood                              8062\n",
       "host_listings_count                                3\n",
       "host_total_listings_count                          3\n",
       "host_verifications                                 3\n",
       "host_has_profile_pic                               3\n",
       "host_identity_verified                             3\n",
       "neighbourhood_cleansed                             0\n",
       "latitude                                           0\n",
       "longitude                                          0\n",
       "property_type                                      0\n",
       "room_type                                          0\n",
       "accommodates                                       0\n",
       "bathrooms_text                                    28\n",
       "bedrooms                                        7347\n",
       "beds                                             175\n",
       "amenities                                          0\n",
       "price                                              0\n",
       "minimum_nights                                     0\n",
       "maximum_nights                                     0\n",
       "minimum_minimum_nights                             0\n",
       "maximum_minimum_nights                             0\n",
       "minimum_maximum_nights                             0\n",
       "maximum_maximum_nights                             0\n",
       "minimum_nights_avg_ntm                             0\n",
       "maximum_nights_avg_ntm                             0\n",
       "has_availability                                   0\n",
       "availability_30                                    0\n",
       "availability_60                                    0\n",
       "availability_90                                    0\n",
       "availability_365                                   0\n",
       "number_of_reviews                                  0\n",
       "number_of_reviews_ltm                              0\n",
       "number_of_reviews_l30d                             0\n",
       "first_review                                    8140\n",
       "last_review                                     8140\n",
       "review_scores_rating                            8140\n",
       "review_scores_accuracy                          8297\n",
       "review_scores_cleanliness                       8296\n",
       "review_scores_checkin                           8296\n",
       "review_scores_communication                     8297\n",
       "review_scores_location                          8299\n",
       "review_scores_value                             8297\n",
       "instant_bookable                                   0\n",
       "calculated_host_listings_count                     0\n",
       "calculated_host_listings_count_entire_homes        0\n",
       "calculated_host_listings_count_private_rooms       0\n",
       "calculated_host_listings_count_shared_rooms        0\n",
       "reviews_per_month                               8140\n",
       "dtype: int64"
      ]
     },
     "execution_count": 15,
     "metadata": {},
     "output_type": "execute_result"
    }
   ],
   "execution_count": 15
  },
  {
   "cell_type": "markdown",
   "metadata": {},
   "source": [
    "### Values Missing Complety at Random\n",
    "\n",
    "these will be values we cannot impute or not have enough data/information to impute"
   ]
  },
  {
   "cell_type": "code",
   "metadata": {
    "ExecuteTime": {
     "end_time": "2025-10-15T04:56:35.006629Z",
     "start_time": "2025-10-15T04:56:34.993034Z"
    }
   },
   "source": [
    "df_cleaned.dropna(subset=['first_review', 'last_review', 'reviews_per_month'], inplace=True)\n",
    "# a null value on these columns means that these listings have no reviews and highly likely unavailed"
   ],
   "outputs": [],
   "execution_count": 16
  },
  {
   "cell_type": "code",
   "metadata": {
    "ExecuteTime": {
     "end_time": "2025-10-15T04:56:35.023702Z",
     "start_time": "2025-10-15T04:56:35.012120Z"
    }
   },
   "source": [
    "df_cleaned.dropna(subset=['review_scores_accuracy', 'review_scores_cleanliness', 'review_scores_checkin', 'review_scores_communication',\n",
    "                          'review_scores_location', 'review_scores_value'], inplace=True)\n",
    "# review scores are highly subjective and cannot be reliably predicted"
   ],
   "outputs": [],
   "execution_count": 17
  },
  {
   "cell_type": "code",
   "metadata": {
    "ExecuteTime": {
     "end_time": "2025-10-15T04:56:35.037043Z",
     "start_time": "2025-10-15T04:56:35.027683Z"
    }
   },
   "source": [
    "df_cleaned.dropna(subset=['host_verifications'], inplace=True) # we cannot predict/impute host verifications"
   ],
   "outputs": [],
   "execution_count": 18
  },
  {
   "cell_type": "markdown",
   "metadata": {},
   "source": [
    "### Numerical Data"
   ]
  },
  {
   "cell_type": "code",
   "metadata": {
    "ExecuteTime": {
     "end_time": "2025-10-15T04:56:35.055338Z",
     "start_time": "2025-10-15T04:56:35.041108Z"
    }
   },
   "source": [
    "# convert to numerical\n",
    "df_cleaned['host_acceptance_rate'] = df_cleaned['host_acceptance_rate'].str.rstrip('%').astype(float) / 100\n",
    "df_cleaned['host_response_rate'] = df_cleaned['host_response_rate'].str.rstrip('%').astype(float) / 100"
   ],
   "outputs": [],
   "execution_count": 19
  },
  {
   "cell_type": "code",
   "metadata": {
    "ExecuteTime": {
     "end_time": "2025-10-15T04:56:35.065862Z",
     "start_time": "2025-10-15T04:56:35.059622Z"
    }
   },
   "source": [
    "# impute using median to preserve skew\n",
    "numerical_cols = ['host_response_rate', 'host_acceptance_rate', 'bedrooms', 'beds']\n",
    "for col in numerical_cols:\n",
    "    df_cleaned.loc[:, col] = df_cleaned[col].fillna(df_cleaned[col].median())"
   ],
   "outputs": [],
   "execution_count": 20
  },
  {
   "cell_type": "markdown",
   "metadata": {},
   "source": [
    "### Categorical Data"
   ]
  },
  {
   "cell_type": "code",
   "metadata": {
    "ExecuteTime": {
     "end_time": "2025-10-15T04:56:35.081288Z",
     "start_time": "2025-10-15T04:56:35.069898Z"
    }
   },
   "source": [
    "# check correlation between host_response_rate and host_response_time\n",
    "df_temp = df_cleaned[['host_response_rate', 'host_response_time']].dropna()\n",
    "\n",
    "# temporarily encode categorical values\n",
    "response_time_order = {\n",
    "    \"within an hour\": 1,\n",
    "    \"within a few hours\": 2,\n",
    "    \"within a day\": 3,\n",
    "    \"a few days or more\": 4\n",
    "}\n",
    "\n",
    "df_temp['host_response_time_numeric'] = df_temp['host_response_time'].map(response_time_order)\n",
    "correlation = df_temp[['host_response_rate', 'host_response_time_numeric']].corr().iloc[0, 1] # get correlation\n",
    "print(correlation)"
   ],
   "outputs": [
    {
     "name": "stdout",
     "output_type": "stream",
     "text": [
      "-0.7504701566106562\n"
     ]
    }
   ],
   "execution_count": 21
  },
  {
   "cell_type": "markdown",
   "metadata": {},
   "source": [
    "The correlation value of -0.75 suggests a strong negative correlation between host_response_rate and host_response_time. This means that as host response rate increases, response time tends to decrease (faster responses). We can impute this using a machine learning predictions. In this case, we will use [sklearn's randomforest](https://www.geeksforgeeks.org/handling-missing-values-with-random-forest/)"
   ]
  },
  {
   "cell_type": "code",
   "metadata": {
    "ExecuteTime": {
     "end_time": "2025-10-15T04:56:35.106124Z",
     "start_time": "2025-10-15T04:56:35.089205Z"
    }
   },
   "source": [
    "label_encoder = LabelEncoder()\n",
    "df_cleaned['host_response_time_encoded'] = label_encoder.fit_transform(df_cleaned['host_response_time'].astype(str))  # encode response time\n",
    "\n",
    "# separate null and non-null\n",
    "train_data = df_cleaned[df_cleaned['host_response_time'].notna()]\n",
    "null_data = df_cleaned[df_cleaned['host_response_time'].isna()]\n",
    "\n",
    "# define features (X) and target (y)\n",
    "X_train = train_data[['host_response_rate']]\n",
    "y_train = train_data['host_response_time_encoded']\n",
    "X_test = null_data[['host_response_rate']]"
   ],
   "outputs": [],
   "execution_count": 22
  },
  {
   "cell_type": "code",
   "metadata": {
    "ExecuteTime": {
     "end_time": "2025-10-15T04:56:35.383650Z",
     "start_time": "2025-10-15T04:56:35.111510Z"
    }
   },
   "source": [
    "clf = RandomForestClassifier(n_estimators=100, random_state=random_seed)  # RF model\n",
    "clf.fit(X_train, y_train)"
   ],
   "outputs": [
    {
     "data": {
      "text/plain": [
       "RandomForestClassifier(random_state=16)"
      ],
      "text/html": [
       "<style>#sk-container-id-1 {\n",
       "  /* Definition of color scheme common for light and dark mode */\n",
       "  --sklearn-color-text: #000;\n",
       "  --sklearn-color-text-muted: #666;\n",
       "  --sklearn-color-line: gray;\n",
       "  /* Definition of color scheme for unfitted estimators */\n",
       "  --sklearn-color-unfitted-level-0: #fff5e6;\n",
       "  --sklearn-color-unfitted-level-1: #f6e4d2;\n",
       "  --sklearn-color-unfitted-level-2: #ffe0b3;\n",
       "  --sklearn-color-unfitted-level-3: chocolate;\n",
       "  /* Definition of color scheme for fitted estimators */\n",
       "  --sklearn-color-fitted-level-0: #f0f8ff;\n",
       "  --sklearn-color-fitted-level-1: #d4ebff;\n",
       "  --sklearn-color-fitted-level-2: #b3dbfd;\n",
       "  --sklearn-color-fitted-level-3: cornflowerblue;\n",
       "\n",
       "  /* Specific color for light theme */\n",
       "  --sklearn-color-text-on-default-background: var(--sg-text-color, var(--theme-code-foreground, var(--jp-content-font-color1, black)));\n",
       "  --sklearn-color-background: var(--sg-background-color, var(--theme-background, var(--jp-layout-color0, white)));\n",
       "  --sklearn-color-border-box: var(--sg-text-color, var(--theme-code-foreground, var(--jp-content-font-color1, black)));\n",
       "  --sklearn-color-icon: #696969;\n",
       "\n",
       "  @media (prefers-color-scheme: dark) {\n",
       "    /* Redefinition of color scheme for dark theme */\n",
       "    --sklearn-color-text-on-default-background: var(--sg-text-color, var(--theme-code-foreground, var(--jp-content-font-color1, white)));\n",
       "    --sklearn-color-background: var(--sg-background-color, var(--theme-background, var(--jp-layout-color0, #111)));\n",
       "    --sklearn-color-border-box: var(--sg-text-color, var(--theme-code-foreground, var(--jp-content-font-color1, white)));\n",
       "    --sklearn-color-icon: #878787;\n",
       "  }\n",
       "}\n",
       "\n",
       "#sk-container-id-1 {\n",
       "  color: var(--sklearn-color-text);\n",
       "}\n",
       "\n",
       "#sk-container-id-1 pre {\n",
       "  padding: 0;\n",
       "}\n",
       "\n",
       "#sk-container-id-1 input.sk-hidden--visually {\n",
       "  border: 0;\n",
       "  clip: rect(1px 1px 1px 1px);\n",
       "  clip: rect(1px, 1px, 1px, 1px);\n",
       "  height: 1px;\n",
       "  margin: -1px;\n",
       "  overflow: hidden;\n",
       "  padding: 0;\n",
       "  position: absolute;\n",
       "  width: 1px;\n",
       "}\n",
       "\n",
       "#sk-container-id-1 div.sk-dashed-wrapped {\n",
       "  border: 1px dashed var(--sklearn-color-line);\n",
       "  margin: 0 0.4em 0.5em 0.4em;\n",
       "  box-sizing: border-box;\n",
       "  padding-bottom: 0.4em;\n",
       "  background-color: var(--sklearn-color-background);\n",
       "}\n",
       "\n",
       "#sk-container-id-1 div.sk-container {\n",
       "  /* jupyter's `normalize.less` sets `[hidden] { display: none; }`\n",
       "     but bootstrap.min.css set `[hidden] { display: none !important; }`\n",
       "     so we also need the `!important` here to be able to override the\n",
       "     default hidden behavior on the sphinx rendered scikit-learn.org.\n",
       "     See: https://github.com/scikit-learn/scikit-learn/issues/21755 */\n",
       "  display: inline-block !important;\n",
       "  position: relative;\n",
       "}\n",
       "\n",
       "#sk-container-id-1 div.sk-text-repr-fallback {\n",
       "  display: none;\n",
       "}\n",
       "\n",
       "div.sk-parallel-item,\n",
       "div.sk-serial,\n",
       "div.sk-item {\n",
       "  /* draw centered vertical line to link estimators */\n",
       "  background-image: linear-gradient(var(--sklearn-color-text-on-default-background), var(--sklearn-color-text-on-default-background));\n",
       "  background-size: 2px 100%;\n",
       "  background-repeat: no-repeat;\n",
       "  background-position: center center;\n",
       "}\n",
       "\n",
       "/* Parallel-specific style estimator block */\n",
       "\n",
       "#sk-container-id-1 div.sk-parallel-item::after {\n",
       "  content: \"\";\n",
       "  width: 100%;\n",
       "  border-bottom: 2px solid var(--sklearn-color-text-on-default-background);\n",
       "  flex-grow: 1;\n",
       "}\n",
       "\n",
       "#sk-container-id-1 div.sk-parallel {\n",
       "  display: flex;\n",
       "  align-items: stretch;\n",
       "  justify-content: center;\n",
       "  background-color: var(--sklearn-color-background);\n",
       "  position: relative;\n",
       "}\n",
       "\n",
       "#sk-container-id-1 div.sk-parallel-item {\n",
       "  display: flex;\n",
       "  flex-direction: column;\n",
       "}\n",
       "\n",
       "#sk-container-id-1 div.sk-parallel-item:first-child::after {\n",
       "  align-self: flex-end;\n",
       "  width: 50%;\n",
       "}\n",
       "\n",
       "#sk-container-id-1 div.sk-parallel-item:last-child::after {\n",
       "  align-self: flex-start;\n",
       "  width: 50%;\n",
       "}\n",
       "\n",
       "#sk-container-id-1 div.sk-parallel-item:only-child::after {\n",
       "  width: 0;\n",
       "}\n",
       "\n",
       "/* Serial-specific style estimator block */\n",
       "\n",
       "#sk-container-id-1 div.sk-serial {\n",
       "  display: flex;\n",
       "  flex-direction: column;\n",
       "  align-items: center;\n",
       "  background-color: var(--sklearn-color-background);\n",
       "  padding-right: 1em;\n",
       "  padding-left: 1em;\n",
       "}\n",
       "\n",
       "\n",
       "/* Toggleable style: style used for estimator/Pipeline/ColumnTransformer box that is\n",
       "clickable and can be expanded/collapsed.\n",
       "- Pipeline and ColumnTransformer use this feature and define the default style\n",
       "- Estimators will overwrite some part of the style using the `sk-estimator` class\n",
       "*/\n",
       "\n",
       "/* Pipeline and ColumnTransformer style (default) */\n",
       "\n",
       "#sk-container-id-1 div.sk-toggleable {\n",
       "  /* Default theme specific background. It is overwritten whether we have a\n",
       "  specific estimator or a Pipeline/ColumnTransformer */\n",
       "  background-color: var(--sklearn-color-background);\n",
       "}\n",
       "\n",
       "/* Toggleable label */\n",
       "#sk-container-id-1 label.sk-toggleable__label {\n",
       "  cursor: pointer;\n",
       "  display: flex;\n",
       "  width: 100%;\n",
       "  margin-bottom: 0;\n",
       "  padding: 0.5em;\n",
       "  box-sizing: border-box;\n",
       "  text-align: center;\n",
       "  align-items: start;\n",
       "  justify-content: space-between;\n",
       "  gap: 0.5em;\n",
       "}\n",
       "\n",
       "#sk-container-id-1 label.sk-toggleable__label .caption {\n",
       "  font-size: 0.6rem;\n",
       "  font-weight: lighter;\n",
       "  color: var(--sklearn-color-text-muted);\n",
       "}\n",
       "\n",
       "#sk-container-id-1 label.sk-toggleable__label-arrow:before {\n",
       "  /* Arrow on the left of the label */\n",
       "  content: \"▸\";\n",
       "  float: left;\n",
       "  margin-right: 0.25em;\n",
       "  color: var(--sklearn-color-icon);\n",
       "}\n",
       "\n",
       "#sk-container-id-1 label.sk-toggleable__label-arrow:hover:before {\n",
       "  color: var(--sklearn-color-text);\n",
       "}\n",
       "\n",
       "/* Toggleable content - dropdown */\n",
       "\n",
       "#sk-container-id-1 div.sk-toggleable__content {\n",
       "  display: none;\n",
       "  text-align: left;\n",
       "  /* unfitted */\n",
       "  background-color: var(--sklearn-color-unfitted-level-0);\n",
       "}\n",
       "\n",
       "#sk-container-id-1 div.sk-toggleable__content.fitted {\n",
       "  /* fitted */\n",
       "  background-color: var(--sklearn-color-fitted-level-0);\n",
       "}\n",
       "\n",
       "#sk-container-id-1 div.sk-toggleable__content pre {\n",
       "  margin: 0.2em;\n",
       "  border-radius: 0.25em;\n",
       "  color: var(--sklearn-color-text);\n",
       "  /* unfitted */\n",
       "  background-color: var(--sklearn-color-unfitted-level-0);\n",
       "}\n",
       "\n",
       "#sk-container-id-1 div.sk-toggleable__content.fitted pre {\n",
       "  /* unfitted */\n",
       "  background-color: var(--sklearn-color-fitted-level-0);\n",
       "}\n",
       "\n",
       "#sk-container-id-1 input.sk-toggleable__control:checked~div.sk-toggleable__content {\n",
       "  /* Expand drop-down */\n",
       "  display: block;\n",
       "  width: 100%;\n",
       "  overflow: visible;\n",
       "}\n",
       "\n",
       "#sk-container-id-1 input.sk-toggleable__control:checked~label.sk-toggleable__label-arrow:before {\n",
       "  content: \"▾\";\n",
       "}\n",
       "\n",
       "/* Pipeline/ColumnTransformer-specific style */\n",
       "\n",
       "#sk-container-id-1 div.sk-label input.sk-toggleable__control:checked~label.sk-toggleable__label {\n",
       "  color: var(--sklearn-color-text);\n",
       "  background-color: var(--sklearn-color-unfitted-level-2);\n",
       "}\n",
       "\n",
       "#sk-container-id-1 div.sk-label.fitted input.sk-toggleable__control:checked~label.sk-toggleable__label {\n",
       "  background-color: var(--sklearn-color-fitted-level-2);\n",
       "}\n",
       "\n",
       "/* Estimator-specific style */\n",
       "\n",
       "/* Colorize estimator box */\n",
       "#sk-container-id-1 div.sk-estimator input.sk-toggleable__control:checked~label.sk-toggleable__label {\n",
       "  /* unfitted */\n",
       "  background-color: var(--sklearn-color-unfitted-level-2);\n",
       "}\n",
       "\n",
       "#sk-container-id-1 div.sk-estimator.fitted input.sk-toggleable__control:checked~label.sk-toggleable__label {\n",
       "  /* fitted */\n",
       "  background-color: var(--sklearn-color-fitted-level-2);\n",
       "}\n",
       "\n",
       "#sk-container-id-1 div.sk-label label.sk-toggleable__label,\n",
       "#sk-container-id-1 div.sk-label label {\n",
       "  /* The background is the default theme color */\n",
       "  color: var(--sklearn-color-text-on-default-background);\n",
       "}\n",
       "\n",
       "/* On hover, darken the color of the background */\n",
       "#sk-container-id-1 div.sk-label:hover label.sk-toggleable__label {\n",
       "  color: var(--sklearn-color-text);\n",
       "  background-color: var(--sklearn-color-unfitted-level-2);\n",
       "}\n",
       "\n",
       "/* Label box, darken color on hover, fitted */\n",
       "#sk-container-id-1 div.sk-label.fitted:hover label.sk-toggleable__label.fitted {\n",
       "  color: var(--sklearn-color-text);\n",
       "  background-color: var(--sklearn-color-fitted-level-2);\n",
       "}\n",
       "\n",
       "/* Estimator label */\n",
       "\n",
       "#sk-container-id-1 div.sk-label label {\n",
       "  font-family: monospace;\n",
       "  font-weight: bold;\n",
       "  display: inline-block;\n",
       "  line-height: 1.2em;\n",
       "}\n",
       "\n",
       "#sk-container-id-1 div.sk-label-container {\n",
       "  text-align: center;\n",
       "}\n",
       "\n",
       "/* Estimator-specific */\n",
       "#sk-container-id-1 div.sk-estimator {\n",
       "  font-family: monospace;\n",
       "  border: 1px dotted var(--sklearn-color-border-box);\n",
       "  border-radius: 0.25em;\n",
       "  box-sizing: border-box;\n",
       "  margin-bottom: 0.5em;\n",
       "  /* unfitted */\n",
       "  background-color: var(--sklearn-color-unfitted-level-0);\n",
       "}\n",
       "\n",
       "#sk-container-id-1 div.sk-estimator.fitted {\n",
       "  /* fitted */\n",
       "  background-color: var(--sklearn-color-fitted-level-0);\n",
       "}\n",
       "\n",
       "/* on hover */\n",
       "#sk-container-id-1 div.sk-estimator:hover {\n",
       "  /* unfitted */\n",
       "  background-color: var(--sklearn-color-unfitted-level-2);\n",
       "}\n",
       "\n",
       "#sk-container-id-1 div.sk-estimator.fitted:hover {\n",
       "  /* fitted */\n",
       "  background-color: var(--sklearn-color-fitted-level-2);\n",
       "}\n",
       "\n",
       "/* Specification for estimator info (e.g. \"i\" and \"?\") */\n",
       "\n",
       "/* Common style for \"i\" and \"?\" */\n",
       "\n",
       ".sk-estimator-doc-link,\n",
       "a:link.sk-estimator-doc-link,\n",
       "a:visited.sk-estimator-doc-link {\n",
       "  float: right;\n",
       "  font-size: smaller;\n",
       "  line-height: 1em;\n",
       "  font-family: monospace;\n",
       "  background-color: var(--sklearn-color-background);\n",
       "  border-radius: 1em;\n",
       "  height: 1em;\n",
       "  width: 1em;\n",
       "  text-decoration: none !important;\n",
       "  margin-left: 0.5em;\n",
       "  text-align: center;\n",
       "  /* unfitted */\n",
       "  border: var(--sklearn-color-unfitted-level-1) 1pt solid;\n",
       "  color: var(--sklearn-color-unfitted-level-1);\n",
       "}\n",
       "\n",
       ".sk-estimator-doc-link.fitted,\n",
       "a:link.sk-estimator-doc-link.fitted,\n",
       "a:visited.sk-estimator-doc-link.fitted {\n",
       "  /* fitted */\n",
       "  border: var(--sklearn-color-fitted-level-1) 1pt solid;\n",
       "  color: var(--sklearn-color-fitted-level-1);\n",
       "}\n",
       "\n",
       "/* On hover */\n",
       "div.sk-estimator:hover .sk-estimator-doc-link:hover,\n",
       ".sk-estimator-doc-link:hover,\n",
       "div.sk-label-container:hover .sk-estimator-doc-link:hover,\n",
       ".sk-estimator-doc-link:hover {\n",
       "  /* unfitted */\n",
       "  background-color: var(--sklearn-color-unfitted-level-3);\n",
       "  color: var(--sklearn-color-background);\n",
       "  text-decoration: none;\n",
       "}\n",
       "\n",
       "div.sk-estimator.fitted:hover .sk-estimator-doc-link.fitted:hover,\n",
       ".sk-estimator-doc-link.fitted:hover,\n",
       "div.sk-label-container:hover .sk-estimator-doc-link.fitted:hover,\n",
       ".sk-estimator-doc-link.fitted:hover {\n",
       "  /* fitted */\n",
       "  background-color: var(--sklearn-color-fitted-level-3);\n",
       "  color: var(--sklearn-color-background);\n",
       "  text-decoration: none;\n",
       "}\n",
       "\n",
       "/* Span, style for the box shown on hovering the info icon */\n",
       ".sk-estimator-doc-link span {\n",
       "  display: none;\n",
       "  z-index: 9999;\n",
       "  position: relative;\n",
       "  font-weight: normal;\n",
       "  right: .2ex;\n",
       "  padding: .5ex;\n",
       "  margin: .5ex;\n",
       "  width: min-content;\n",
       "  min-width: 20ex;\n",
       "  max-width: 50ex;\n",
       "  color: var(--sklearn-color-text);\n",
       "  box-shadow: 2pt 2pt 4pt #999;\n",
       "  /* unfitted */\n",
       "  background: var(--sklearn-color-unfitted-level-0);\n",
       "  border: .5pt solid var(--sklearn-color-unfitted-level-3);\n",
       "}\n",
       "\n",
       ".sk-estimator-doc-link.fitted span {\n",
       "  /* fitted */\n",
       "  background: var(--sklearn-color-fitted-level-0);\n",
       "  border: var(--sklearn-color-fitted-level-3);\n",
       "}\n",
       "\n",
       ".sk-estimator-doc-link:hover span {\n",
       "  display: block;\n",
       "}\n",
       "\n",
       "/* \"?\"-specific style due to the `<a>` HTML tag */\n",
       "\n",
       "#sk-container-id-1 a.estimator_doc_link {\n",
       "  float: right;\n",
       "  font-size: 1rem;\n",
       "  line-height: 1em;\n",
       "  font-family: monospace;\n",
       "  background-color: var(--sklearn-color-background);\n",
       "  border-radius: 1rem;\n",
       "  height: 1rem;\n",
       "  width: 1rem;\n",
       "  text-decoration: none;\n",
       "  /* unfitted */\n",
       "  color: var(--sklearn-color-unfitted-level-1);\n",
       "  border: var(--sklearn-color-unfitted-level-1) 1pt solid;\n",
       "}\n",
       "\n",
       "#sk-container-id-1 a.estimator_doc_link.fitted {\n",
       "  /* fitted */\n",
       "  border: var(--sklearn-color-fitted-level-1) 1pt solid;\n",
       "  color: var(--sklearn-color-fitted-level-1);\n",
       "}\n",
       "\n",
       "/* On hover */\n",
       "#sk-container-id-1 a.estimator_doc_link:hover {\n",
       "  /* unfitted */\n",
       "  background-color: var(--sklearn-color-unfitted-level-3);\n",
       "  color: var(--sklearn-color-background);\n",
       "  text-decoration: none;\n",
       "}\n",
       "\n",
       "#sk-container-id-1 a.estimator_doc_link.fitted:hover {\n",
       "  /* fitted */\n",
       "  background-color: var(--sklearn-color-fitted-level-3);\n",
       "}\n",
       "\n",
       ".estimator-table summary {\n",
       "    padding: .5rem;\n",
       "    font-family: monospace;\n",
       "    cursor: pointer;\n",
       "}\n",
       "\n",
       ".estimator-table details[open] {\n",
       "    padding-left: 0.1rem;\n",
       "    padding-right: 0.1rem;\n",
       "    padding-bottom: 0.3rem;\n",
       "}\n",
       "\n",
       ".estimator-table .parameters-table {\n",
       "    margin-left: auto !important;\n",
       "    margin-right: auto !important;\n",
       "}\n",
       "\n",
       ".estimator-table .parameters-table tr:nth-child(odd) {\n",
       "    background-color: #fff;\n",
       "}\n",
       "\n",
       ".estimator-table .parameters-table tr:nth-child(even) {\n",
       "    background-color: #f6f6f6;\n",
       "}\n",
       "\n",
       ".estimator-table .parameters-table tr:hover {\n",
       "    background-color: #e0e0e0;\n",
       "}\n",
       "\n",
       ".estimator-table table td {\n",
       "    border: 1px solid rgba(106, 105, 104, 0.232);\n",
       "}\n",
       "\n",
       ".user-set td {\n",
       "    color:rgb(255, 94, 0);\n",
       "    text-align: left;\n",
       "}\n",
       "\n",
       ".user-set td.value pre {\n",
       "    color:rgb(255, 94, 0) !important;\n",
       "    background-color: transparent !important;\n",
       "}\n",
       "\n",
       ".default td {\n",
       "    color: black;\n",
       "    text-align: left;\n",
       "}\n",
       "\n",
       ".user-set td i,\n",
       ".default td i {\n",
       "    color: black;\n",
       "}\n",
       "\n",
       ".copy-paste-icon {\n",
       "    background-image: url(data:image/svg+xml;base64,PHN2ZyB4bWxucz0iaHR0cDovL3d3dy53My5vcmcvMjAwMC9zdmciIHZpZXdCb3g9IjAgMCA0NDggNTEyIj48IS0tIUZvbnQgQXdlc29tZSBGcmVlIDYuNy4yIGJ5IEBmb250YXdlc29tZSAtIGh0dHBzOi8vZm9udGF3ZXNvbWUuY29tIExpY2Vuc2UgLSBodHRwczovL2ZvbnRhd2Vzb21lLmNvbS9saWNlbnNlL2ZyZWUgQ29weXJpZ2h0IDIwMjUgRm9udGljb25zLCBJbmMuLS0+PHBhdGggZD0iTTIwOCAwTDMzMi4xIDBjMTIuNyAwIDI0LjkgNS4xIDMzLjkgMTQuMWw2Ny45IDY3LjljOSA5IDE0LjEgMjEuMiAxNC4xIDMzLjlMNDQ4IDMzNmMwIDI2LjUtMjEuNSA0OC00OCA0OGwtMTkyIDBjLTI2LjUgMC00OC0yMS41LTQ4LTQ4bDAtMjg4YzAtMjYuNSAyMS41LTQ4IDQ4LTQ4ek00OCAxMjhsODAgMCAwIDY0LTY0IDAgMCAyNTYgMTkyIDAgMC0zMiA2NCAwIDAgNDhjMCAyNi41LTIxLjUgNDgtNDggNDhMNDggNTEyYy0yNi41IDAtNDgtMjEuNS00OC00OEwwIDE3NmMwLTI2LjUgMjEuNS00OCA0OC00OHoiLz48L3N2Zz4=);\n",
       "    background-repeat: no-repeat;\n",
       "    background-size: 14px 14px;\n",
       "    background-position: 0;\n",
       "    display: inline-block;\n",
       "    width: 14px;\n",
       "    height: 14px;\n",
       "    cursor: pointer;\n",
       "}\n",
       "</style><body><div id=\"sk-container-id-1\" class=\"sk-top-container\"><div class=\"sk-text-repr-fallback\"><pre>RandomForestClassifier(random_state=16)</pre><b>In a Jupyter environment, please rerun this cell to show the HTML representation or trust the notebook. <br />On GitHub, the HTML representation is unable to render, please try loading this page with nbviewer.org.</b></div><div class=\"sk-container\" hidden><div class=\"sk-item\"><div class=\"sk-estimator fitted sk-toggleable\"><input class=\"sk-toggleable__control sk-hidden--visually\" id=\"sk-estimator-id-1\" type=\"checkbox\" checked><label for=\"sk-estimator-id-1\" class=\"sk-toggleable__label fitted sk-toggleable__label-arrow\"><div><div>RandomForestClassifier</div></div><div><a class=\"sk-estimator-doc-link fitted\" rel=\"noreferrer\" target=\"_blank\" href=\"https://scikit-learn.org/1.7/modules/generated/sklearn.ensemble.RandomForestClassifier.html\">?<span>Documentation for RandomForestClassifier</span></a><span class=\"sk-estimator-doc-link fitted\">i<span>Fitted</span></span></div></label><div class=\"sk-toggleable__content fitted\" data-param-prefix=\"\">\n",
       "        <div class=\"estimator-table\">\n",
       "            <details>\n",
       "                <summary>Parameters</summary>\n",
       "                <table class=\"parameters-table\">\n",
       "                  <tbody>\n",
       "                    \n",
       "        <tr class=\"default\">\n",
       "            <td><i class=\"copy-paste-icon\"\n",
       "                 onclick=\"copyToClipboard('n_estimators',\n",
       "                          this.parentElement.nextElementSibling)\"\n",
       "            ></i></td>\n",
       "            <td class=\"param\">n_estimators&nbsp;</td>\n",
       "            <td class=\"value\">100</td>\n",
       "        </tr>\n",
       "    \n",
       "\n",
       "        <tr class=\"default\">\n",
       "            <td><i class=\"copy-paste-icon\"\n",
       "                 onclick=\"copyToClipboard('criterion',\n",
       "                          this.parentElement.nextElementSibling)\"\n",
       "            ></i></td>\n",
       "            <td class=\"param\">criterion&nbsp;</td>\n",
       "            <td class=\"value\">&#x27;gini&#x27;</td>\n",
       "        </tr>\n",
       "    \n",
       "\n",
       "        <tr class=\"default\">\n",
       "            <td><i class=\"copy-paste-icon\"\n",
       "                 onclick=\"copyToClipboard('max_depth',\n",
       "                          this.parentElement.nextElementSibling)\"\n",
       "            ></i></td>\n",
       "            <td class=\"param\">max_depth&nbsp;</td>\n",
       "            <td class=\"value\">None</td>\n",
       "        </tr>\n",
       "    \n",
       "\n",
       "        <tr class=\"default\">\n",
       "            <td><i class=\"copy-paste-icon\"\n",
       "                 onclick=\"copyToClipboard('min_samples_split',\n",
       "                          this.parentElement.nextElementSibling)\"\n",
       "            ></i></td>\n",
       "            <td class=\"param\">min_samples_split&nbsp;</td>\n",
       "            <td class=\"value\">2</td>\n",
       "        </tr>\n",
       "    \n",
       "\n",
       "        <tr class=\"default\">\n",
       "            <td><i class=\"copy-paste-icon\"\n",
       "                 onclick=\"copyToClipboard('min_samples_leaf',\n",
       "                          this.parentElement.nextElementSibling)\"\n",
       "            ></i></td>\n",
       "            <td class=\"param\">min_samples_leaf&nbsp;</td>\n",
       "            <td class=\"value\">1</td>\n",
       "        </tr>\n",
       "    \n",
       "\n",
       "        <tr class=\"default\">\n",
       "            <td><i class=\"copy-paste-icon\"\n",
       "                 onclick=\"copyToClipboard('min_weight_fraction_leaf',\n",
       "                          this.parentElement.nextElementSibling)\"\n",
       "            ></i></td>\n",
       "            <td class=\"param\">min_weight_fraction_leaf&nbsp;</td>\n",
       "            <td class=\"value\">0.0</td>\n",
       "        </tr>\n",
       "    \n",
       "\n",
       "        <tr class=\"default\">\n",
       "            <td><i class=\"copy-paste-icon\"\n",
       "                 onclick=\"copyToClipboard('max_features',\n",
       "                          this.parentElement.nextElementSibling)\"\n",
       "            ></i></td>\n",
       "            <td class=\"param\">max_features&nbsp;</td>\n",
       "            <td class=\"value\">&#x27;sqrt&#x27;</td>\n",
       "        </tr>\n",
       "    \n",
       "\n",
       "        <tr class=\"default\">\n",
       "            <td><i class=\"copy-paste-icon\"\n",
       "                 onclick=\"copyToClipboard('max_leaf_nodes',\n",
       "                          this.parentElement.nextElementSibling)\"\n",
       "            ></i></td>\n",
       "            <td class=\"param\">max_leaf_nodes&nbsp;</td>\n",
       "            <td class=\"value\">None</td>\n",
       "        </tr>\n",
       "    \n",
       "\n",
       "        <tr class=\"default\">\n",
       "            <td><i class=\"copy-paste-icon\"\n",
       "                 onclick=\"copyToClipboard('min_impurity_decrease',\n",
       "                          this.parentElement.nextElementSibling)\"\n",
       "            ></i></td>\n",
       "            <td class=\"param\">min_impurity_decrease&nbsp;</td>\n",
       "            <td class=\"value\">0.0</td>\n",
       "        </tr>\n",
       "    \n",
       "\n",
       "        <tr class=\"default\">\n",
       "            <td><i class=\"copy-paste-icon\"\n",
       "                 onclick=\"copyToClipboard('bootstrap',\n",
       "                          this.parentElement.nextElementSibling)\"\n",
       "            ></i></td>\n",
       "            <td class=\"param\">bootstrap&nbsp;</td>\n",
       "            <td class=\"value\">True</td>\n",
       "        </tr>\n",
       "    \n",
       "\n",
       "        <tr class=\"default\">\n",
       "            <td><i class=\"copy-paste-icon\"\n",
       "                 onclick=\"copyToClipboard('oob_score',\n",
       "                          this.parentElement.nextElementSibling)\"\n",
       "            ></i></td>\n",
       "            <td class=\"param\">oob_score&nbsp;</td>\n",
       "            <td class=\"value\">False</td>\n",
       "        </tr>\n",
       "    \n",
       "\n",
       "        <tr class=\"default\">\n",
       "            <td><i class=\"copy-paste-icon\"\n",
       "                 onclick=\"copyToClipboard('n_jobs',\n",
       "                          this.parentElement.nextElementSibling)\"\n",
       "            ></i></td>\n",
       "            <td class=\"param\">n_jobs&nbsp;</td>\n",
       "            <td class=\"value\">None</td>\n",
       "        </tr>\n",
       "    \n",
       "\n",
       "        <tr class=\"user-set\">\n",
       "            <td><i class=\"copy-paste-icon\"\n",
       "                 onclick=\"copyToClipboard('random_state',\n",
       "                          this.parentElement.nextElementSibling)\"\n",
       "            ></i></td>\n",
       "            <td class=\"param\">random_state&nbsp;</td>\n",
       "            <td class=\"value\">16</td>\n",
       "        </tr>\n",
       "    \n",
       "\n",
       "        <tr class=\"default\">\n",
       "            <td><i class=\"copy-paste-icon\"\n",
       "                 onclick=\"copyToClipboard('verbose',\n",
       "                          this.parentElement.nextElementSibling)\"\n",
       "            ></i></td>\n",
       "            <td class=\"param\">verbose&nbsp;</td>\n",
       "            <td class=\"value\">0</td>\n",
       "        </tr>\n",
       "    \n",
       "\n",
       "        <tr class=\"default\">\n",
       "            <td><i class=\"copy-paste-icon\"\n",
       "                 onclick=\"copyToClipboard('warm_start',\n",
       "                          this.parentElement.nextElementSibling)\"\n",
       "            ></i></td>\n",
       "            <td class=\"param\">warm_start&nbsp;</td>\n",
       "            <td class=\"value\">False</td>\n",
       "        </tr>\n",
       "    \n",
       "\n",
       "        <tr class=\"default\">\n",
       "            <td><i class=\"copy-paste-icon\"\n",
       "                 onclick=\"copyToClipboard('class_weight',\n",
       "                          this.parentElement.nextElementSibling)\"\n",
       "            ></i></td>\n",
       "            <td class=\"param\">class_weight&nbsp;</td>\n",
       "            <td class=\"value\">None</td>\n",
       "        </tr>\n",
       "    \n",
       "\n",
       "        <tr class=\"default\">\n",
       "            <td><i class=\"copy-paste-icon\"\n",
       "                 onclick=\"copyToClipboard('ccp_alpha',\n",
       "                          this.parentElement.nextElementSibling)\"\n",
       "            ></i></td>\n",
       "            <td class=\"param\">ccp_alpha&nbsp;</td>\n",
       "            <td class=\"value\">0.0</td>\n",
       "        </tr>\n",
       "    \n",
       "\n",
       "        <tr class=\"default\">\n",
       "            <td><i class=\"copy-paste-icon\"\n",
       "                 onclick=\"copyToClipboard('max_samples',\n",
       "                          this.parentElement.nextElementSibling)\"\n",
       "            ></i></td>\n",
       "            <td class=\"param\">max_samples&nbsp;</td>\n",
       "            <td class=\"value\">None</td>\n",
       "        </tr>\n",
       "    \n",
       "\n",
       "        <tr class=\"default\">\n",
       "            <td><i class=\"copy-paste-icon\"\n",
       "                 onclick=\"copyToClipboard('monotonic_cst',\n",
       "                          this.parentElement.nextElementSibling)\"\n",
       "            ></i></td>\n",
       "            <td class=\"param\">monotonic_cst&nbsp;</td>\n",
       "            <td class=\"value\">None</td>\n",
       "        </tr>\n",
       "    \n",
       "                  </tbody>\n",
       "                </table>\n",
       "            </details>\n",
       "        </div>\n",
       "    </div></div></div></div></div><script>function copyToClipboard(text, element) {\n",
       "    // Get the parameter prefix from the closest toggleable content\n",
       "    const toggleableContent = element.closest('.sk-toggleable__content');\n",
       "    const paramPrefix = toggleableContent ? toggleableContent.dataset.paramPrefix : '';\n",
       "    const fullParamName = paramPrefix ? `${paramPrefix}${text}` : text;\n",
       "\n",
       "    const originalStyle = element.style;\n",
       "    const computedStyle = window.getComputedStyle(element);\n",
       "    const originalWidth = computedStyle.width;\n",
       "    const originalHTML = element.innerHTML.replace('Copied!', '');\n",
       "\n",
       "    navigator.clipboard.writeText(fullParamName)\n",
       "        .then(() => {\n",
       "            element.style.width = originalWidth;\n",
       "            element.style.color = 'green';\n",
       "            element.innerHTML = \"Copied!\";\n",
       "\n",
       "            setTimeout(() => {\n",
       "                element.innerHTML = originalHTML;\n",
       "                element.style = originalStyle;\n",
       "            }, 2000);\n",
       "        })\n",
       "        .catch(err => {\n",
       "            console.error('Failed to copy:', err);\n",
       "            element.style.color = 'red';\n",
       "            element.innerHTML = \"Failed!\";\n",
       "            setTimeout(() => {\n",
       "                element.innerHTML = originalHTML;\n",
       "                element.style = originalStyle;\n",
       "            }, 2000);\n",
       "        });\n",
       "    return false;\n",
       "}\n",
       "\n",
       "document.querySelectorAll('.fa-regular.fa-copy').forEach(function(element) {\n",
       "    const toggleableContent = element.closest('.sk-toggleable__content');\n",
       "    const paramPrefix = toggleableContent ? toggleableContent.dataset.paramPrefix : '';\n",
       "    const paramName = element.parentElement.nextElementSibling.textContent.trim();\n",
       "    const fullParamName = paramPrefix ? `${paramPrefix}${paramName}` : paramName;\n",
       "\n",
       "    element.setAttribute('title', fullParamName);\n",
       "});\n",
       "</script></body>"
      ]
     },
     "execution_count": 23,
     "metadata": {},
     "output_type": "execute_result"
    }
   ],
   "execution_count": 23
  },
  {
   "cell_type": "code",
   "metadata": {
    "ExecuteTime": {
     "end_time": "2025-10-15T04:56:35.410015Z",
     "start_time": "2025-10-15T04:56:35.394947Z"
    }
   },
   "source": [
    "y_pred = clf.predict(X_test)  # predict missing values\n",
    "\n",
    "df_cleaned.loc[df_cleaned['host_response_time'].isna(), 'host_response_time_encoded'] = y_pred  # reassign predicted to df\n",
    "\n",
    "df_cleaned['host_response_time'] = label_encoder.inverse_transform(df_cleaned['host_response_time_encoded'])  # revert to original, to be transformed later"
   ],
   "outputs": [],
   "execution_count": 24
  },
  {
   "cell_type": "code",
   "metadata": {
    "ExecuteTime": {
     "end_time": "2025-10-15T04:56:35.424285Z",
     "start_time": "2025-10-15T04:56:35.414031Z"
    }
   },
   "source": [
    "df_cleaned.drop(columns=['host_response_time_encoded'], inplace=True)  # drop temporary encoded column"
   ],
   "outputs": [],
   "execution_count": 25
  },
  {
   "cell_type": "code",
   "metadata": {
    "ExecuteTime": {
     "end_time": "2025-10-15T04:56:35.434956Z",
     "start_time": "2025-10-15T04:56:35.428328Z"
    }
   },
   "source": [
    "df_cleaned.loc[:, 'host_is_superhost'] = df_cleaned['host_is_superhost'].fillna('f')  # assume host is not superhost\n",
    "df_cleaned.loc[:, 'host_neighbourhood'] = df_cleaned['host_neighbourhood'].fillna('unknown')  # since we cant assume host location"
   ],
   "outputs": [],
   "execution_count": 26
  },
  {
   "cell_type": "code",
   "metadata": {
    "ExecuteTime": {
     "end_time": "2025-10-15T04:56:35.443893Z",
     "start_time": "2025-10-15T04:56:35.439600Z"
    }
   },
   "source": [
    "print(df_cleaned['bathrooms_text'].unique())"
   ],
   "outputs": [
    {
     "name": "stdout",
     "output_type": "stream",
     "text": [
      "['1 bath' nan '2 baths' '1.5 baths' '7 baths' '3 baths' '4 baths'\n",
      " '2.5 baths' '1 shared bath' '1 private bath' '5 shared baths'\n",
      " '2 shared baths' '0 shared baths' '4.5 baths' '0 baths'\n",
      " '1.5 shared baths' '5 baths' '2.5 shared baths' 'Shared half-bath'\n",
      " '10 baths' '3.5 baths' '6 baths' '6.5 baths' '3 shared baths'\n",
      " '3.5 shared baths' '5.5 baths' '7.5 baths' '8 baths' '4 shared baths'\n",
      " '15 baths' '8.5 baths' '20 shared baths' '4.5 shared baths'\n",
      " '6.5 shared baths' '15.5 baths' 'Half-bath' '6 shared baths'\n",
      " '7 shared baths' '9 baths' '11 baths' '16 baths' '11.5 baths'\n",
      " '10.5 baths' '8 shared baths' 'Private half-bath']\n"
     ]
    }
   ],
   "execution_count": 27
  },
  {
   "cell_type": "markdown",
   "metadata": {},
   "source": [
    "The `bathrooms_text` column contains text-based values describing the number and type of bathrooms. This includes:\n",
    "* Numeric values (\"1 bath\", \"2.5 baths\", \"10 baths\")\n",
    "* Shared/private distinctions (\"1 shared bath\", \"3.5 shared baths\", \"Private half-bath\")\n",
    "* Half-baths (\"Shared half-bath\", \"Half-bath\")\n",
    "* Missing values (nan)\n",
    "\n",
    "Since this is an unstructured categorical feature, it cannot be directly used in analysis or modeling. We can instead, convert `bathrooms_text` into numeric features:\n",
    "* `bathrooms_private` = The number of private bathrooms.\n",
    "* `bathrooms_shared` = The number of shared bathrooms"
   ]
  },
  {
   "cell_type": "code",
   "metadata": {
    "ExecuteTime": {
     "end_time": "2025-10-15T04:56:35.454446Z",
     "start_time": "2025-10-15T04:56:35.450333Z"
    }
   },
   "source": [
    "def categorize_bathrooms(value):\n",
    "    if pd.isna(value):\n",
    "        return np.nan, np.nan  # keep nan as nan\n",
    "\n",
    "    value = value.lower()\n",
    "\n",
    "    # extract numeric part\n",
    "    num_baths = float(value.split(' ')[0]) if value.split(' ')[0].replace('.', '').isdigit() else 0\n",
    "\n",
    "    # classify as shared or private\n",
    "    if 'shared' in value:\n",
    "        return 0, num_baths  # all shared\n",
    "    elif 'private' in value:\n",
    "        return num_baths, 0  # all private\n",
    "    elif 'half' in value:\n",
    "        return 0.5, 0  # private half-bath\n",
    "    else:\n",
    "        return num_baths, 0  # default to private in case unspecified"
   ],
   "outputs": [],
   "execution_count": 28
  },
  {
   "cell_type": "code",
   "metadata": {
    "ExecuteTime": {
     "end_time": "2025-10-15T04:56:35.492494Z",
     "start_time": "2025-10-15T04:56:35.458761Z"
    }
   },
   "source": [
    "# storage for new values\n",
    "bathrooms_private_list = []\n",
    "bathrooms_shared_list = []\n",
    "\n",
    "for value in df_cleaned['bathrooms_text']:  # iterate over the column and apply function\n",
    "    private, shared = categorize_bathrooms(value)\n",
    "    bathrooms_private_list.append(private)\n",
    "    bathrooms_shared_list.append(shared)\n",
    "\n",
    "# put arrays to dataframe column\n",
    "df_cleaned['bathrooms_private'] = bathrooms_private_list\n",
    "df_cleaned['bathrooms_shared'] = bathrooms_shared_list"
   ],
   "outputs": [],
   "execution_count": 29
  },
  {
   "cell_type": "code",
   "metadata": {
    "ExecuteTime": {
     "end_time": "2025-10-15T04:56:35.507019Z",
     "start_time": "2025-10-15T04:56:35.496603Z"
    }
   },
   "source": [
    "df_cleaned.drop(columns=['bathrooms_text'], inplace=True)  # drop original"
   ],
   "outputs": [],
   "execution_count": 30
  },
  {
   "cell_type": "code",
   "metadata": {
    "ExecuteTime": {
     "end_time": "2025-10-15T04:56:35.520077Z",
     "start_time": "2025-10-15T04:56:35.513502Z"
    }
   },
   "source": [
    "# mode imputation\n",
    "df_cleaned.loc[:, 'bathrooms_private'] = df_cleaned['bathrooms_private'].fillna(df_cleaned['bathrooms_private'].mode()[0])\n",
    "df_cleaned.loc[:, 'bathrooms_shared'] = df_cleaned['bathrooms_shared'].fillna(df_cleaned['bathrooms_shared'].mode()[0])"
   ],
   "outputs": [],
   "execution_count": 31
  },
  {
   "cell_type": "code",
   "metadata": {
    "ExecuteTime": {
     "end_time": "2025-10-15T04:56:35.531084Z",
     "start_time": "2025-10-15T04:56:35.524728Z"
    }
   },
   "source": [
    "df_cleaned[['bathrooms_private', 'bathrooms_shared']].head()"
   ],
   "outputs": [
    {
     "data": {
      "text/plain": [
       "   bathrooms_private  bathrooms_shared\n",
       "0                1.0               0.0\n",
       "1                1.0               0.0\n",
       "2                1.0               0.0\n",
       "3                1.0               0.0\n",
       "4                1.0               0.0"
      ],
      "text/html": [
       "<div>\n",
       "<style scoped>\n",
       "    .dataframe tbody tr th:only-of-type {\n",
       "        vertical-align: middle;\n",
       "    }\n",
       "\n",
       "    .dataframe tbody tr th {\n",
       "        vertical-align: top;\n",
       "    }\n",
       "\n",
       "    .dataframe thead th {\n",
       "        text-align: right;\n",
       "    }\n",
       "</style>\n",
       "<table border=\"1\" class=\"dataframe\">\n",
       "  <thead>\n",
       "    <tr style=\"text-align: right;\">\n",
       "      <th></th>\n",
       "      <th>bathrooms_private</th>\n",
       "      <th>bathrooms_shared</th>\n",
       "    </tr>\n",
       "  </thead>\n",
       "  <tbody>\n",
       "    <tr>\n",
       "      <th>0</th>\n",
       "      <td>1.0</td>\n",
       "      <td>0.0</td>\n",
       "    </tr>\n",
       "    <tr>\n",
       "      <th>1</th>\n",
       "      <td>1.0</td>\n",
       "      <td>0.0</td>\n",
       "    </tr>\n",
       "    <tr>\n",
       "      <th>2</th>\n",
       "      <td>1.0</td>\n",
       "      <td>0.0</td>\n",
       "    </tr>\n",
       "    <tr>\n",
       "      <th>3</th>\n",
       "      <td>1.0</td>\n",
       "      <td>0.0</td>\n",
       "    </tr>\n",
       "    <tr>\n",
       "      <th>4</th>\n",
       "      <td>1.0</td>\n",
       "      <td>0.0</td>\n",
       "    </tr>\n",
       "  </tbody>\n",
       "</table>\n",
       "</div>"
      ]
     },
     "execution_count": 32,
     "metadata": {},
     "output_type": "execute_result"
    }
   ],
   "execution_count": 32
  },
  {
   "cell_type": "code",
   "metadata": {
    "ExecuteTime": {
     "end_time": "2025-10-15T04:56:35.566444Z",
     "start_time": "2025-10-15T04:56:35.539698Z"
    }
   },
   "source": [
    "df_cleaned.isnull().sum()[df_cleaned.isnull().sum() > 0]  # check for any missing values left"
   ],
   "outputs": [
    {
     "data": {
      "text/plain": [
       "Series([], dtype: int64)"
      ]
     },
     "execution_count": 33,
     "metadata": {},
     "output_type": "execute_result"
    }
   ],
   "execution_count": 33
  },
  {
   "cell_type": "markdown",
   "metadata": {},
   "source": [
    "## Handle Date Attributes\n",
    "Since time series analysis will not be performed, the date columns will be transformed into numerical values. Specifically, they will be converted to \"days since\" a reference date, which is the date when the data was scraped (collected). This approach standardizes the time-related information for easier analysis."
   ]
  },
  {
   "cell_type": "code",
   "metadata": {
    "ExecuteTime": {
     "end_time": "2025-10-15T04:56:35.599553Z",
     "start_time": "2025-10-15T04:56:35.572181Z"
    }
   },
   "source": [
    "# get the most recent scrape day\n",
    "df['calendar_last_scraped'] = pd.to_datetime(df['calendar_last_scraped'], errors='coerce')\n",
    "reference_date = df['calendar_last_scraped'].max()"
   ],
   "outputs": [],
   "execution_count": 34
  },
  {
   "cell_type": "code",
   "metadata": {
    "ExecuteTime": {
     "end_time": "2025-10-15T04:56:35.627285Z",
     "start_time": "2025-10-15T04:56:35.603579Z"
    }
   },
   "source": [
    "date_cols = ['host_since', 'first_review', 'last_review']  # identified date columns\n",
    "\n",
    "# convert date columns to datetime then compute days since reference date and rename columns\n",
    "for col in date_cols:\n",
    "    df_cleaned[f'days_since_{col}'] = abs((pd.to_datetime(df_cleaned[col], errors='coerce') - reference_date).dt.days)"
   ],
   "outputs": [],
   "execution_count": 35
  },
  {
   "cell_type": "code",
   "metadata": {
    "ExecuteTime": {
     "end_time": "2025-10-15T04:56:35.640979Z",
     "start_time": "2025-10-15T04:56:35.634848Z"
    }
   },
   "source": [
    "df_cleaned[['days_since_host_since', 'days_since_first_review', 'days_since_last_review']].head()"
   ],
   "outputs": [
    {
     "data": {
      "text/plain": [
       "   days_since_host_since  days_since_first_review  days_since_last_review\n",
       "0                   4381                     4328                      12\n",
       "1                   4381                     4343                    2589\n",
       "2                   4373                     3491                      18\n",
       "3                   5006                     4818                      12\n",
       "4                   4921                     4856                      16"
      ],
      "text/html": [
       "<div>\n",
       "<style scoped>\n",
       "    .dataframe tbody tr th:only-of-type {\n",
       "        vertical-align: middle;\n",
       "    }\n",
       "\n",
       "    .dataframe tbody tr th {\n",
       "        vertical-align: top;\n",
       "    }\n",
       "\n",
       "    .dataframe thead th {\n",
       "        text-align: right;\n",
       "    }\n",
       "</style>\n",
       "<table border=\"1\" class=\"dataframe\">\n",
       "  <thead>\n",
       "    <tr style=\"text-align: right;\">\n",
       "      <th></th>\n",
       "      <th>days_since_host_since</th>\n",
       "      <th>days_since_first_review</th>\n",
       "      <th>days_since_last_review</th>\n",
       "    </tr>\n",
       "  </thead>\n",
       "  <tbody>\n",
       "    <tr>\n",
       "      <th>0</th>\n",
       "      <td>4381</td>\n",
       "      <td>4328</td>\n",
       "      <td>12</td>\n",
       "    </tr>\n",
       "    <tr>\n",
       "      <th>1</th>\n",
       "      <td>4381</td>\n",
       "      <td>4343</td>\n",
       "      <td>2589</td>\n",
       "    </tr>\n",
       "    <tr>\n",
       "      <th>2</th>\n",
       "      <td>4373</td>\n",
       "      <td>3491</td>\n",
       "      <td>18</td>\n",
       "    </tr>\n",
       "    <tr>\n",
       "      <th>3</th>\n",
       "      <td>5006</td>\n",
       "      <td>4818</td>\n",
       "      <td>12</td>\n",
       "    </tr>\n",
       "    <tr>\n",
       "      <th>4</th>\n",
       "      <td>4921</td>\n",
       "      <td>4856</td>\n",
       "      <td>16</td>\n",
       "    </tr>\n",
       "  </tbody>\n",
       "</table>\n",
       "</div>"
      ]
     },
     "execution_count": 36,
     "metadata": {},
     "output_type": "execute_result"
    }
   ],
   "execution_count": 36
  },
  {
   "cell_type": "code",
   "metadata": {
    "ExecuteTime": {
     "end_time": "2025-10-15T04:56:35.700560Z",
     "start_time": "2025-10-15T04:56:35.690098Z"
    }
   },
   "source": [
    "df_cleaned.drop(columns=date_cols, inplace=True)  # drop original date columns"
   ],
   "outputs": [],
   "execution_count": 37
  },
  {
   "cell_type": "markdown",
   "metadata": {},
   "source": [
    "## Convert Attributes"
   ]
  },
  {
   "cell_type": "code",
   "metadata": {
    "ExecuteTime": {
     "end_time": "2025-10-15T04:56:35.856758Z",
     "start_time": "2025-10-15T04:56:35.836247Z"
    }
   },
   "source": [
    "# price\n",
    "df_cleaned['price'] = df_cleaned['price'].str.replace('[$,]', '', regex=True).astype(float)\n",
    "df_cleaned[['price']].head()"
   ],
   "outputs": [
    {
     "data": {
      "text/plain": [
       "   price\n",
       "0  180.0\n",
       "1  350.0\n",
       "2  190.0\n",
       "3  279.0\n",
       "4  330.0"
      ],
      "text/html": [
       "<div>\n",
       "<style scoped>\n",
       "    .dataframe tbody tr th:only-of-type {\n",
       "        vertical-align: middle;\n",
       "    }\n",
       "\n",
       "    .dataframe tbody tr th {\n",
       "        vertical-align: top;\n",
       "    }\n",
       "\n",
       "    .dataframe thead th {\n",
       "        text-align: right;\n",
       "    }\n",
       "</style>\n",
       "<table border=\"1\" class=\"dataframe\">\n",
       "  <thead>\n",
       "    <tr style=\"text-align: right;\">\n",
       "      <th></th>\n",
       "      <th>price</th>\n",
       "    </tr>\n",
       "  </thead>\n",
       "  <tbody>\n",
       "    <tr>\n",
       "      <th>0</th>\n",
       "      <td>180.0</td>\n",
       "    </tr>\n",
       "    <tr>\n",
       "      <th>1</th>\n",
       "      <td>350.0</td>\n",
       "    </tr>\n",
       "    <tr>\n",
       "      <th>2</th>\n",
       "      <td>190.0</td>\n",
       "    </tr>\n",
       "    <tr>\n",
       "      <th>3</th>\n",
       "      <td>279.0</td>\n",
       "    </tr>\n",
       "    <tr>\n",
       "      <th>4</th>\n",
       "      <td>330.0</td>\n",
       "    </tr>\n",
       "  </tbody>\n",
       "</table>\n",
       "</div>"
      ]
     },
     "execution_count": 38,
     "metadata": {},
     "output_type": "execute_result"
    }
   ],
   "execution_count": 38
  },
  {
   "cell_type": "markdown",
   "metadata": {},
   "source": [
    "## Feature Generation"
   ]
  },
  {
   "cell_type": "markdown",
   "metadata": {},
   "source": [
    "### Combine `host_neighbourhood` and `neighbourhood_cleansed`\n",
    "This will be done because both columns have too high cardinality. The location of the listing can be referenced through its longitude/latitude which will also be transformed later on."
   ]
  },
  {
   "cell_type": "code",
   "metadata": {
    "ExecuteTime": {
     "end_time": "2025-10-15T04:56:35.952576Z",
     "start_time": "2025-10-15T04:56:35.942846Z"
    }
   },
   "source": [
    "df_cleaned['if_host_in_neighbourhood'] = df_cleaned['host_neighbourhood'] == df_cleaned['neighbourhood_cleansed']\n",
    "df_cleaned[['if_host_in_neighbourhood']].head()"
   ],
   "outputs": [
    {
     "data": {
      "text/plain": [
       "   if_host_in_neighbourhood\n",
       "0                      True\n",
       "1                      True\n",
       "2                      True\n",
       "3                      True\n",
       "4                      True"
      ],
      "text/html": [
       "<div>\n",
       "<style scoped>\n",
       "    .dataframe tbody tr th:only-of-type {\n",
       "        vertical-align: middle;\n",
       "    }\n",
       "\n",
       "    .dataframe tbody tr th {\n",
       "        vertical-align: top;\n",
       "    }\n",
       "\n",
       "    .dataframe thead th {\n",
       "        text-align: right;\n",
       "    }\n",
       "</style>\n",
       "<table border=\"1\" class=\"dataframe\">\n",
       "  <thead>\n",
       "    <tr style=\"text-align: right;\">\n",
       "      <th></th>\n",
       "      <th>if_host_in_neighbourhood</th>\n",
       "    </tr>\n",
       "  </thead>\n",
       "  <tbody>\n",
       "    <tr>\n",
       "      <th>0</th>\n",
       "      <td>True</td>\n",
       "    </tr>\n",
       "    <tr>\n",
       "      <th>1</th>\n",
       "      <td>True</td>\n",
       "    </tr>\n",
       "    <tr>\n",
       "      <th>2</th>\n",
       "      <td>True</td>\n",
       "    </tr>\n",
       "    <tr>\n",
       "      <th>3</th>\n",
       "      <td>True</td>\n",
       "    </tr>\n",
       "    <tr>\n",
       "      <th>4</th>\n",
       "      <td>True</td>\n",
       "    </tr>\n",
       "  </tbody>\n",
       "</table>\n",
       "</div>"
      ]
     },
     "execution_count": 39,
     "metadata": {},
     "output_type": "execute_result"
    }
   ],
   "execution_count": 39
  },
  {
   "cell_type": "code",
   "metadata": {
    "ExecuteTime": {
     "end_time": "2025-10-15T04:56:36.175959Z",
     "start_time": "2025-10-15T04:56:36.165943Z"
    }
   },
   "source": [
    "df_cleaned.drop(columns=['host_neighbourhood', 'neighbourhood_cleansed'], inplace=True)  # drop original columns"
   ],
   "outputs": [],
   "execution_count": 40
  },
  {
   "cell_type": "markdown",
   "metadata": {},
   "source": [
    "### Generalize Property Types\n",
    "`property_type` is another column with high cardinality. We should attempt to generalize them into common categories. To accomplish this, we extract common bigrams in the column to see common occuring words."
   ]
  },
  {
   "cell_type": "code",
   "metadata": {
    "ExecuteTime": {
     "end_time": "2025-10-15T04:56:36.333239Z",
     "start_time": "2025-10-15T04:56:36.232044Z"
    }
   },
   "source": [
    "property_texts = df_cleaned['property_type'].dropna().str.lower()  # standardize the case of property type\n",
    "\n",
    "vectorizer = CountVectorizer(ngram_range=(2, 2), stop_words='english')  # use NLTK CountVectorizer to extract bigrams\n",
    "X = vectorizer.fit_transform(property_texts)"
   ],
   "outputs": [],
   "execution_count": 41
  },
  {
   "cell_type": "code",
   "metadata": {
    "ExecuteTime": {
     "end_time": "2025-10-15T04:56:36.352115Z",
     "start_time": "2025-10-15T04:56:36.343621Z"
    }
   },
   "source": [
    "# get bigram counts\n",
    "bigram_counts = np.array(X.sum(axis=0)).flatten()\n",
    "bigram_features = vectorizer.get_feature_names_out()\n",
    "\n",
    "# convert to dataframe for easier visualization\n",
    "bigram_df = pd.DataFrame({'bigram': bigram_features, 'count': bigram_counts}).sort_values(by='count', ascending=False)\n",
    "bigram_df.head()"
   ],
   "outputs": [
    {
     "data": {
      "text/plain": [
       "           bigram  count\n",
       "25    rental unit  17367\n",
       "16  entire rental  14614\n",
       "24   private room   4271\n",
       "45    room rental   2753\n",
       "9    entire condo   1607"
      ],
      "text/html": [
       "<div>\n",
       "<style scoped>\n",
       "    .dataframe tbody tr th:only-of-type {\n",
       "        vertical-align: middle;\n",
       "    }\n",
       "\n",
       "    .dataframe tbody tr th {\n",
       "        vertical-align: top;\n",
       "    }\n",
       "\n",
       "    .dataframe thead th {\n",
       "        text-align: right;\n",
       "    }\n",
       "</style>\n",
       "<table border=\"1\" class=\"dataframe\">\n",
       "  <thead>\n",
       "    <tr style=\"text-align: right;\">\n",
       "      <th></th>\n",
       "      <th>bigram</th>\n",
       "      <th>count</th>\n",
       "    </tr>\n",
       "  </thead>\n",
       "  <tbody>\n",
       "    <tr>\n",
       "      <th>25</th>\n",
       "      <td>rental unit</td>\n",
       "      <td>17367</td>\n",
       "    </tr>\n",
       "    <tr>\n",
       "      <th>16</th>\n",
       "      <td>entire rental</td>\n",
       "      <td>14614</td>\n",
       "    </tr>\n",
       "    <tr>\n",
       "      <th>24</th>\n",
       "      <td>private room</td>\n",
       "      <td>4271</td>\n",
       "    </tr>\n",
       "    <tr>\n",
       "      <th>45</th>\n",
       "      <td>room rental</td>\n",
       "      <td>2753</td>\n",
       "    </tr>\n",
       "    <tr>\n",
       "      <th>9</th>\n",
       "      <td>entire condo</td>\n",
       "      <td>1607</td>\n",
       "    </tr>\n",
       "  </tbody>\n",
       "</table>\n",
       "</div>"
      ]
     },
     "execution_count": 42,
     "metadata": {},
     "output_type": "execute_result"
    }
   ],
   "execution_count": 42
  },
  {
   "cell_type": "code",
   "metadata": {
    "ExecuteTime": {
     "end_time": "2025-10-15T04:56:36.739519Z",
     "start_time": "2025-10-15T04:56:36.418273Z"
    }
   },
   "source": [
    "# visualize bigram frequency\n",
    "plt.figure(figsize=(12, 6))\n",
    "sns.barplot(x=bigram_df['count'].head(15), y=bigram_df['bigram'].head(15), hue= bigram_df['count'].head(15),\n",
    "            palette=\"viridis\")\n",
    "plt.xlabel(\"Count\")\n",
    "plt.ylabel(\"Bigram\")\n",
    "plt.title(\"Most Common Bigrams in Property Type Column\")\n",
    "plt.show()"
   ],
   "outputs": [
    {
     "data": {
      "text/plain": [
       "<Figure size 1200x600 with 1 Axes>"
      ],
      "image/png": "[encoded data removed]"
     },
     "metadata": {},
     "output_type": "display_data",
     "jetTransient": {
      "display_id": null
     }
    }
   ],
   "execution_count": 43
  },
  {
   "cell_type": "markdown",
   "metadata": {},
   "source": [
    "Based on the common bigrams above, we can logically group the property_type values into four categories:\n",
    "\n",
    "**Proposed Categories:**\n",
    "* **Entire rental**: Includes \"entire rental\", \"entire condo\", \"entire home\", \"entire loft\", \"entire serviced apartment\"\n",
    "* **Private room**: Includes \"private room\", \"room rental\", \"room home\", \"room condo\"\n",
    "* **Shared room**: Includes \"shared room\"\n",
    "* **Other**: Includes less frequent property types such as \"bed breakfast\", \"room hotel\", etc."
   ]
  },
  {
   "cell_type": "code",
   "metadata": {
    "ExecuteTime": {
     "end_time": "2025-10-15T04:56:36.791298Z",
     "start_time": "2025-10-15T04:56:36.787197Z"
    }
   },
   "source": [
    "def categorize_property(prop):\n",
    "    prop = str(prop).lower()\n",
    "    # entire rental\n",
    "    if \"entire rental\" in prop or \"entire condo\" in prop or \"entire home\" in prop or \"entire loft\" in prop or \"entire serviced\" in prop:\n",
    "        return \"entire_rental\"\n",
    "\n",
    "    # private room\n",
    "    elif \"private room\" in prop or \"room rental\" in prop or \"room home\" in prop or \"room condo\" in prop:\n",
    "        return \"private_room\"\n",
    "\n",
    "    # shared room\n",
    "    elif \"shared room\" in prop:\n",
    "        return \"shared_room\"\n",
    "\n",
    "    # others\n",
    "    else:\n",
    "        return \"other\""
   ],
   "outputs": [],
   "execution_count": 44
  },
  {
   "cell_type": "code",
   "metadata": {
    "ExecuteTime": {
     "end_time": "2025-10-15T04:56:36.837068Z",
     "start_time": "2025-10-15T04:56:36.824714Z"
    }
   },
   "source": [
    "df_cleaned['property_category'] = df_cleaned['property_type'].apply(categorize_property)\n",
    "df_cleaned[['property_category']].head()"
   ],
   "outputs": [
    {
     "data": {
      "text/plain": [
       "  property_category\n",
       "0     entire_rental\n",
       "1     entire_rental\n",
       "2     entire_rental\n",
       "3     entire_rental\n",
       "4     entire_rental"
      ],
      "text/html": [
       "<div>\n",
       "<style scoped>\n",
       "    .dataframe tbody tr th:only-of-type {\n",
       "        vertical-align: middle;\n",
       "    }\n",
       "\n",
       "    .dataframe tbody tr th {\n",
       "        vertical-align: top;\n",
       "    }\n",
       "\n",
       "    .dataframe thead th {\n",
       "        text-align: right;\n",
       "    }\n",
       "</style>\n",
       "<table border=\"1\" class=\"dataframe\">\n",
       "  <thead>\n",
       "    <tr style=\"text-align: right;\">\n",
       "      <th></th>\n",
       "      <th>property_category</th>\n",
       "    </tr>\n",
       "  </thead>\n",
       "  <tbody>\n",
       "    <tr>\n",
       "      <th>0</th>\n",
       "      <td>entire_rental</td>\n",
       "    </tr>\n",
       "    <tr>\n",
       "      <th>1</th>\n",
       "      <td>entire_rental</td>\n",
       "    </tr>\n",
       "    <tr>\n",
       "      <th>2</th>\n",
       "      <td>entire_rental</td>\n",
       "    </tr>\n",
       "    <tr>\n",
       "      <th>3</th>\n",
       "      <td>entire_rental</td>\n",
       "    </tr>\n",
       "    <tr>\n",
       "      <th>4</th>\n",
       "      <td>entire_rental</td>\n",
       "    </tr>\n",
       "  </tbody>\n",
       "</table>\n",
       "</div>"
      ]
     },
     "execution_count": 45,
     "metadata": {},
     "output_type": "execute_result"
    }
   ],
   "execution_count": 45
  },
  {
   "cell_type": "code",
   "metadata": {
    "ExecuteTime": {
     "end_time": "2025-10-15T04:56:37.038166Z",
     "start_time": "2025-10-15T04:56:36.915017Z"
    }
   },
   "source": [
    "# show bar chart for property_category frequencies\n",
    "property_category_counts = df_cleaned['property_category'].value_counts()\n",
    "\n",
    "plt.figure(figsize=(10, 6))\n",
    "property_category_counts.plot(kind='bar', color='skyblue', edgecolor='black')\n",
    "plt.title(\"Distribution of Property Categories\")\n",
    "plt.xlabel(\"Property Category\")\n",
    "plt.ylabel(\"Count\")\n",
    "plt.xticks(rotation=45)\n",
    "plt.show()"
   ],
   "outputs": [
    {
     "data": {
      "text/plain": [
       "<Figure size 1000x600 with 1 Axes>"
      ],
      "image/png": "[encoded data removed]"
     },
     "metadata": {},
     "output_type": "display_data",
     "jetTransient": {
      "display_id": null
     }
    }
   ],
   "execution_count": 46
  },
  {
   "cell_type": "code",
   "metadata": {
    "ExecuteTime": {
     "end_time": "2025-10-15T04:56:37.096373Z",
     "start_time": "2025-10-15T04:56:37.083786Z"
    }
   },
   "source": [
    "df_cleaned.drop(columns=['property_type'], inplace=True)  # drop original"
   ],
   "outputs": [],
   "execution_count": 47
  },
  {
   "cell_type": "markdown",
   "metadata": {},
   "source": [
    "### Create `distance_to_major_tourist_location`\n",
    "\n",
    "Since `latitude` and `longitude` are not directly useful for our analysis, especially given that the focus is localized to the Philippines rather than particular geographic patterns, we will derive a more meaningful attribute which will speak about the listing's distance to a major tourist location.\n",
    "\n",
    "The major tourist location's reference is [Christ the Redeemer](https://latitude.to/articles-by-country/br/brazil/325/christ-the-redeemer-statue) since the listings are in Brazil and it is [the most famous tourist attraction in Brazil](https://edition.cnn.com/travel/christ-redeemer-rio-de-janeiro-brazil-history/index.html). The distance formula to be used is the [haversine formula](https://www.movable-type.co.uk/scripts/latlong.html) as [suggested in stackoverflow](https://stackoverflow.com/questions/27928/calculate-distance-between-two-latitude-longitude-points-haversine-formula)"
   ]
  },
  {
   "cell_type": "code",
   "metadata": {
    "ExecuteTime": {
     "end_time": "2025-10-15T04:56:37.144639Z",
     "start_time": "2025-10-15T04:56:37.140512Z"
    }
   },
   "source": [
    "ref_lat, ref_lon = -22.950996196, -43.206499174  # Christ the redeemer coordinates\n",
    "\n",
    "def haversine_distance(lat1, lon1, lat2, lon2):\n",
    "    R = 6371  # Earth's radius in KM\n",
    "    lat1, lon1, lat2, lon2 = map(np.radians, [lat1, lon1, lat2, lon2])\n",
    "    dlat = lat2 - lat1\n",
    "    dlon = lon2 - lon1\n",
    "    a = np.sin(dlat/2)**2 + np.cos(lat1) * np.cos(lat2) * np.sin(dlon/2)**2\n",
    "    c = 2 * np.arctan2(np.sqrt(a), np.sqrt(1-a))\n",
    "    return round((R * c), 2)  # return d in KM"
   ],
   "outputs": [],
   "execution_count": 48
  },
  {
   "cell_type": "code",
   "metadata": {
    "ExecuteTime": {
     "end_time": "2025-10-15T04:56:37.509661Z",
     "start_time": "2025-10-15T04:56:37.168504Z"
    }
   },
   "source": [
    "df_cleaned['distance_to_major_tourist_location'] = list(map(\n",
    "    # apply haversine distance\n",
    "    haversine_distance,\n",
    "\n",
    "    # coordinates for each row\n",
    "    df_cleaned['latitude'],\n",
    "    df_cleaned['longitude'],\n",
    "\n",
    "    # list of reference latitude and longitude\n",
    "    [ref_lat] * len(df_cleaned),\n",
    "    [ref_lon] * len(df_cleaned)\n",
    "))"
   ],
   "outputs": [],
   "execution_count": 49
  },
  {
   "cell_type": "code",
   "metadata": {
    "ExecuteTime": {
     "end_time": "2025-10-15T04:56:37.524800Z",
     "start_time": "2025-10-15T04:56:37.519702Z"
    }
   },
   "source": [
    "df_cleaned[['distance_to_major_tourist_location']].head()"
   ],
   "outputs": [
    {
     "data": {
      "text/plain": [
       "   distance_to_major_tourist_location\n",
       "0                                3.79\n",
       "1                                3.54\n",
       "2                                3.60\n",
       "3                                3.24\n",
       "4                                3.33"
      ],
      "text/html": [
       "<div>\n",
       "<style scoped>\n",
       "    .dataframe tbody tr th:only-of-type {\n",
       "        vertical-align: middle;\n",
       "    }\n",
       "\n",
       "    .dataframe tbody tr th {\n",
       "        vertical-align: top;\n",
       "    }\n",
       "\n",
       "    .dataframe thead th {\n",
       "        text-align: right;\n",
       "    }\n",
       "</style>\n",
       "<table border=\"1\" class=\"dataframe\">\n",
       "  <thead>\n",
       "    <tr style=\"text-align: right;\">\n",
       "      <th></th>\n",
       "      <th>distance_to_major_tourist_location</th>\n",
       "    </tr>\n",
       "  </thead>\n",
       "  <tbody>\n",
       "    <tr>\n",
       "      <th>0</th>\n",
       "      <td>3.79</td>\n",
       "    </tr>\n",
       "    <tr>\n",
       "      <th>1</th>\n",
       "      <td>3.54</td>\n",
       "    </tr>\n",
       "    <tr>\n",
       "      <th>2</th>\n",
       "      <td>3.60</td>\n",
       "    </tr>\n",
       "    <tr>\n",
       "      <th>3</th>\n",
       "      <td>3.24</td>\n",
       "    </tr>\n",
       "    <tr>\n",
       "      <th>4</th>\n",
       "      <td>3.33</td>\n",
       "    </tr>\n",
       "  </tbody>\n",
       "</table>\n",
       "</div>"
      ]
     },
     "execution_count": 50,
     "metadata": {},
     "output_type": "execute_result"
    }
   ],
   "execution_count": 50
  },
  {
   "cell_type": "code",
   "metadata": {
    "ExecuteTime": {
     "end_time": "2025-10-15T04:56:37.603116Z",
     "start_time": "2025-10-15T04:56:37.593961Z"
    }
   },
   "source": [
    "df_cleaned.drop(columns=['latitude', 'longitude'], inplace=True)  # drop original columns"
   ],
   "outputs": [],
   "execution_count": 51
  },
  {
   "cell_type": "markdown",
   "metadata": {},
   "source": [
    "### Generalize Verification Types"
   ]
  },
  {
   "cell_type": "code",
   "metadata": {
    "ExecuteTime": {
     "end_time": "2025-10-15T04:56:37.725123Z",
     "start_time": "2025-10-15T04:56:37.719345Z"
    }
   },
   "source": [
    "df_cleaned['host_verifications'].unique()"
   ],
   "outputs": [
    {
     "data": {
      "text/plain": [
       "array([\"['email', 'phone']\", \"['email', 'phone', 'work_email']\",\n",
       "       \"['phone', 'work_email']\", \"['phone']\", \"['email']\", '[]',\n",
       "       \"['email', 'phone', 'photographer']\"], dtype=object)"
      ]
     },
     "execution_count": 52,
     "metadata": {},
     "output_type": "execute_result"
    }
   ],
   "execution_count": 52
  },
  {
   "cell_type": "code",
   "metadata": {
    "ExecuteTime": {
     "end_time": "2025-10-15T04:56:37.803180Z",
     "start_time": "2025-10-15T04:56:37.795894Z"
    }
   },
   "source": [
    "# ensure the column is a string and make nans empty\n",
    "df_cleaned['host_verifications'] = df_cleaned['host_verifications'].astype(str)\n",
    "df_cleaned['host_verifications'] = df_cleaned['host_verifications'].replace(['None', 'nan', '[]'], '')"
   ],
   "outputs": [],
   "execution_count": 53
  },
  {
   "cell_type": "code",
   "metadata": {
    "ExecuteTime": {
     "end_time": "2025-10-15T04:56:37.841382Z",
     "start_time": "2025-10-15T04:56:37.811595Z"
    }
   },
   "source": [
    "df_cleaned['host_verifications'] = df_cleaned['host_verifications'].str.replace(r\"[\\[\\]']\", \"\", regex=True)  # remove brackets and clean entries"
   ],
   "outputs": [],
   "execution_count": 54
  },
  {
   "cell_type": "code",
   "metadata": {
    "ExecuteTime": {
     "end_time": "2025-10-15T04:56:37.851421Z",
     "start_time": "2025-10-15T04:56:37.848082Z"
    }
   },
   "source": [
    "def split_verifications(value):\n",
    "    if value:\n",
    "        return value.split(\", \")\n",
    "    return []"
   ],
   "outputs": [],
   "execution_count": 55
  },
  {
   "cell_type": "code",
   "metadata": {
    "ExecuteTime": {
     "end_time": "2025-10-15T04:56:37.869110Z",
     "start_time": "2025-10-15T04:56:37.857565Z"
    }
   },
   "source": [
    "df_cleaned['host_verifications'] = df_cleaned['host_verifications'].apply(split_verifications)  # split each verification"
   ],
   "outputs": [],
   "execution_count": 56
  },
  {
   "cell_type": "code",
   "metadata": {
    "ExecuteTime": {
     "end_time": "2025-10-15T04:56:37.882197Z",
     "start_time": "2025-10-15T04:56:37.873313Z"
    }
   },
   "source": [
    "unique_verifications = set()  # so no duplicates\n",
    "for verifications in df_cleaned['host_verifications']:  # extract verification types\n",
    "    unique_verifications.update(verifications)\n",
    "\n",
    "unique_verifications.discard(\"\")  # in case empties get included"
   ],
   "outputs": [],
   "execution_count": 57
  },
  {
   "cell_type": "code",
   "metadata": {
    "ExecuteTime": {
     "end_time": "2025-10-15T04:56:37.892611Z",
     "start_time": "2025-10-15T04:56:37.888027Z"
    }
   },
   "source": [
    "clean_verifications = {verif.strip(): f\"host_verif_{verif.strip().replace(' ', '_')}\" for verif in unique_verifications}  # initialize column namess\n",
    "\n",
    "# initialize binary columns with 0s\n",
    "for clean_name in clean_verifications.values():\n",
    "    df_cleaned[clean_name] = 0"
   ],
   "outputs": [],
   "execution_count": 58
  },
  {
   "cell_type": "code",
   "metadata": {
    "ExecuteTime": {
     "end_time": "2025-10-15T04:56:39.614295Z",
     "start_time": "2025-10-15T04:56:37.899110Z"
    }
   },
   "source": [
    "# assign 1s accordingly to records with corresponding verification type\n",
    "for index, row in df_cleaned.iterrows():\n",
    "    for verification in row['host_verifications']:\n",
    "        verification = verification.strip()  # clean extra spaces\n",
    "        if verification in clean_verifications:\n",
    "            df_cleaned.at[index, clean_verifications[verification]] = 1"
   ],
   "outputs": [],
   "execution_count": 59
  },
  {
   "cell_type": "code",
   "metadata": {
    "ExecuteTime": {
     "end_time": "2025-10-15T04:56:39.661687Z",
     "start_time": "2025-10-15T04:56:39.655027Z"
    }
   },
   "source": [
    "df_cleaned[['host_verif_work_email', 'host_verif_email', 'host_verif_phone']].head()"
   ],
   "outputs": [
    {
     "data": {
      "text/plain": [
       "   host_verif_work_email  host_verif_email  host_verif_phone\n",
       "0                      0                 1                 1\n",
       "1                      0                 1                 1\n",
       "2                      0                 1                 1\n",
       "3                      0                 1                 1\n",
       "4                      0                 1                 1"
      ],
      "text/html": [
       "<div>\n",
       "<style scoped>\n",
       "    .dataframe tbody tr th:only-of-type {\n",
       "        vertical-align: middle;\n",
       "    }\n",
       "\n",
       "    .dataframe tbody tr th {\n",
       "        vertical-align: top;\n",
       "    }\n",
       "\n",
       "    .dataframe thead th {\n",
       "        text-align: right;\n",
       "    }\n",
       "</style>\n",
       "<table border=\"1\" class=\"dataframe\">\n",
       "  <thead>\n",
       "    <tr style=\"text-align: right;\">\n",
       "      <th></th>\n",
       "      <th>host_verif_work_email</th>\n",
       "      <th>host_verif_email</th>\n",
       "      <th>host_verif_phone</th>\n",
       "    </tr>\n",
       "  </thead>\n",
       "  <tbody>\n",
       "    <tr>\n",
       "      <th>0</th>\n",
       "      <td>0</td>\n",
       "      <td>1</td>\n",
       "      <td>1</td>\n",
       "    </tr>\n",
       "    <tr>\n",
       "      <th>1</th>\n",
       "      <td>0</td>\n",
       "      <td>1</td>\n",
       "      <td>1</td>\n",
       "    </tr>\n",
       "    <tr>\n",
       "      <th>2</th>\n",
       "      <td>0</td>\n",
       "      <td>1</td>\n",
       "      <td>1</td>\n",
       "    </tr>\n",
       "    <tr>\n",
       "      <th>3</th>\n",
       "      <td>0</td>\n",
       "      <td>1</td>\n",
       "      <td>1</td>\n",
       "    </tr>\n",
       "    <tr>\n",
       "      <th>4</th>\n",
       "      <td>0</td>\n",
       "      <td>1</td>\n",
       "      <td>1</td>\n",
       "    </tr>\n",
       "  </tbody>\n",
       "</table>\n",
       "</div>"
      ]
     },
     "execution_count": 60,
     "metadata": {},
     "output_type": "execute_result"
    }
   ],
   "execution_count": 60
  },
  {
   "cell_type": "code",
   "metadata": {
    "ExecuteTime": {
     "end_time": "2025-10-15T04:56:39.729726Z",
     "start_time": "2025-10-15T04:56:39.719774Z"
    }
   },
   "source": [
    "df_cleaned.drop(columns=['host_verifications',  # drop original\n",
    "                         'host_verif_photographer'  # only one record has photographer = 1\n",
    "                         ], inplace=True)"
   ],
   "outputs": [],
   "execution_count": 61
  },
  {
   "cell_type": "markdown",
   "metadata": {},
   "source": [
    "### Create `average_ratings` column"
   ]
  },
  {
   "cell_type": "code",
   "metadata": {
    "ExecuteTime": {
     "end_time": "2025-10-15T04:56:39.833023Z",
     "start_time": "2025-10-15T04:56:39.823448Z"
    }
   },
   "source": [
    "df_cleaned['average_ratings'] = round(df_cleaned[['review_scores_rating', 'review_scores_accuracy', 'review_scores_cleanliness', 'review_scores_checkin',\n",
    "                            'review_scores_communication', 'review_scores_location', 'review_scores_value']].mean(axis=1), 2)\n",
    "\n",
    "df_cleaned[['average_ratings']].head()"
   ],
   "outputs": [
    {
     "data": {
      "text/plain": [
       "   average_ratings\n",
       "0             4.83\n",
       "1             4.71\n",
       "2             4.94\n",
       "3             4.76\n",
       "4             4.76"
      ],
      "text/html": [
       "<div>\n",
       "<style scoped>\n",
       "    .dataframe tbody tr th:only-of-type {\n",
       "        vertical-align: middle;\n",
       "    }\n",
       "\n",
       "    .dataframe tbody tr th {\n",
       "        vertical-align: top;\n",
       "    }\n",
       "\n",
       "    .dataframe thead th {\n",
       "        text-align: right;\n",
       "    }\n",
       "</style>\n",
       "<table border=\"1\" class=\"dataframe\">\n",
       "  <thead>\n",
       "    <tr style=\"text-align: right;\">\n",
       "      <th></th>\n",
       "      <th>average_ratings</th>\n",
       "    </tr>\n",
       "  </thead>\n",
       "  <tbody>\n",
       "    <tr>\n",
       "      <th>0</th>\n",
       "      <td>4.83</td>\n",
       "    </tr>\n",
       "    <tr>\n",
       "      <th>1</th>\n",
       "      <td>4.71</td>\n",
       "    </tr>\n",
       "    <tr>\n",
       "      <th>2</th>\n",
       "      <td>4.94</td>\n",
       "    </tr>\n",
       "    <tr>\n",
       "      <th>3</th>\n",
       "      <td>4.76</td>\n",
       "    </tr>\n",
       "    <tr>\n",
       "      <th>4</th>\n",
       "      <td>4.76</td>\n",
       "    </tr>\n",
       "  </tbody>\n",
       "</table>\n",
       "</div>"
      ]
     },
     "execution_count": 62,
     "metadata": {},
     "output_type": "execute_result"
    }
   ],
   "execution_count": 62
  },
  {
   "cell_type": "markdown",
   "metadata": {},
   "source": [
    "## Label Encoding"
   ]
  },
  {
   "cell_type": "code",
   "metadata": {
    "ExecuteTime": {
     "end_time": "2025-10-15T04:56:39.947566Z",
     "start_time": "2025-10-15T04:56:39.919020Z"
    }
   },
   "source": [
    "# columns to label encode\n",
    "label_encode_cols = [\n",
    "    'host_response_time', 'host_is_superhost', 'host_has_profile_pic',\n",
    "    'host_identity_verified', 'room_type', 'has_availability',\n",
    "    'instant_bookable', 'property_category'\n",
    "]\n",
    "\n",
    "# initialize LabelEncoders\n",
    "label_encoders = {}\n",
    "for col in label_encode_cols:\n",
    "    le = LabelEncoder()\n",
    "    df_cleaned[col] = le.fit_transform(df_cleaned[col].astype(str))  # Convert to string if needed\n",
    "    label_encoders[col] = le  # Store encoders for reference"
   ],
   "outputs": [],
   "execution_count": 63
  },
  {
   "cell_type": "code",
   "metadata": {
    "ExecuteTime": {
     "end_time": "2025-10-15T04:56:40.059475Z",
     "start_time": "2025-10-15T04:56:40.030346Z"
    }
   },
   "source": [
    "# one-hot encode the categorical columns\n",
    "one_hot_cols = [col for col in label_encode_cols if df_cleaned[col].nunique() > 2]  # keep only non-binary cols\n",
    "df_cleaned = pd.get_dummies(df_cleaned, columns=one_hot_cols, dtype=int)"
   ],
   "outputs": [],
   "execution_count": 64
  },
  {
   "cell_type": "code",
   "metadata": {
    "ExecuteTime": {
     "end_time": "2025-10-15T04:56:40.071935Z",
     "start_time": "2025-10-15T04:56:40.067385Z"
    }
   },
   "source": [
    "# identify binary columns\n",
    "binary_cols = [col for col in label_encode_cols if col in df_cleaned.columns and df_cleaned[col].nunique() == 2]"
   ],
   "outputs": [],
   "execution_count": 65
  },
  {
   "cell_type": "code",
   "metadata": {
    "ExecuteTime": {
     "end_time": "2025-10-15T04:56:40.103411Z",
     "start_time": "2025-10-15T04:56:40.094619Z"
    }
   },
   "source": [
    "df_cleaned.drop(columns=binary_cols, inplace=True)  # drop original"
   ],
   "outputs": [],
   "execution_count": 66
  },
  {
   "cell_type": "code",
   "metadata": {
    "ExecuteTime": {
     "end_time": "2025-10-15T04:56:40.117105Z",
     "start_time": "2025-10-15T04:56:40.112319Z"
    }
   },
   "source": [
    "label_mappings = {}  # to store label mappings\n",
    "\n",
    "# retrieve original labels and their encoded values\n",
    "for col, encoder in label_encoders.items():\n",
    "    original_labels = encoder.classes_  # original categories before encoding\n",
    "    encoded_values = encoder.transform(original_labels)  # encoded values\n",
    "    label_mappings[col] = dict(zip(encoded_values, original_labels))  # store mapping\n",
    "\n",
    "# for reference\n",
    "print(label_mappings)"
   ],
   "outputs": [
    {
     "name": "stdout",
     "output_type": "stream",
     "text": [
      "{'host_response_time': {np.int64(0): 'a few days or more', np.int64(1): 'within a day', np.int64(2): 'within a few hours', np.int64(3): 'within an hour'}, 'host_is_superhost': {np.int64(0): 'f', np.int64(1): 't'}, 'host_has_profile_pic': {np.int64(0): 'f', np.int64(1): 't'}, 'host_identity_verified': {np.int64(0): 'f', np.int64(1): 't'}, 'room_type': {np.int64(0): 'Entire home/apt', np.int64(1): 'Hotel room', np.int64(2): 'Private room', np.int64(3): 'Shared room'}, 'has_availability': {np.int64(0): 'f', np.int64(1): 't'}, 'instant_bookable': {np.int64(0): 'f', np.int64(1): 't'}, 'property_category': {np.int64(0): 'entire_rental', np.int64(1): 'other', np.int64(2): 'private_room', np.int64(3): 'shared_room'}}\n"
     ]
    }
   ],
   "execution_count": 67
  },
  {
   "cell_type": "markdown",
   "metadata": {},
   "source": [
    "## Prepare `amenities` attribute for Apriori analysis"
   ]
  },
  {
   "cell_type": "code",
   "metadata": {
    "ExecuteTime": {
     "end_time": "2025-10-15T04:56:40.164885Z",
     "start_time": "2025-10-15T04:56:40.160306Z"
    }
   },
   "source": [
    "def clean_amenities(amenities_str):\n",
    "    try:\n",
    "        # extract amenities from string\n",
    "        amenities_list = re.findall(r'\"([^\"]+)\"', amenities_str)\n",
    "\n",
    "        # etandardize and clean amenities\n",
    "        cleaned_amenities = []\n",
    "        for amenity in amenities_list:\n",
    "            amenity = amenity.lower().strip()  # convert to lowercase and strip spaces\n",
    "            amenity = re.sub(r'[^\\w\\s-]', '', amenity)  # remove special characters except hyphens\n",
    "\n",
    "            if amenity:  # ensure non-empty entries\n",
    "                cleaned_amenities.append(amenity)\n",
    "\n",
    "        # remove duplicates within the same row\n",
    "        cleaned_amenities = list(set(cleaned_amenities))\n",
    "\n",
    "        return cleaned_amenities\n",
    "    except Exception as e:\n",
    "        return [f\"Error: {str(e)}\"]  # for debugging"
   ],
   "outputs": [],
   "execution_count": 68
  },
  {
   "cell_type": "code",
   "metadata": {
    "ExecuteTime": {
     "end_time": "2025-10-15T04:56:40.838884Z",
     "start_time": "2025-10-15T04:56:40.183789Z"
    }
   },
   "source": [
    "df_cleaned['cleaned_amenities'] = df_cleaned['amenities'].astype(str).apply(clean_amenities)  # apply"
   ],
   "outputs": [],
   "execution_count": 69
  },
  {
   "cell_type": "code",
   "metadata": {
    "ExecuteTime": {
     "end_time": "2025-10-15T04:56:40.847664Z",
     "start_time": "2025-10-15T04:56:40.844565Z"
    }
   },
   "source": [
    "def join_amenities(amenities):\n",
    "    if isinstance(amenities, list):\n",
    "        return ', '.join(amenities)\n",
    "    return ''"
   ],
   "outputs": [],
   "execution_count": 70
  },
  {
   "cell_type": "code",
   "metadata": {
    "ExecuteTime": {
     "end_time": "2025-10-15T04:56:40.881690Z",
     "start_time": "2025-10-15T04:56:40.853953Z"
    }
   },
   "source": [
    "df_cleaned['cleaned_amenities'] = df_cleaned['cleaned_amenities'].apply(join_amenities)  # comma separated"
   ],
   "outputs": [],
   "execution_count": 71
  },
  {
   "cell_type": "code",
   "metadata": {
    "ExecuteTime": {
     "end_time": "2025-10-15T04:56:40.897411Z",
     "start_time": "2025-10-15T04:56:40.891047Z"
    }
   },
   "source": [
    "df_cleaned[['cleaned_amenities']].head()"
   ],
   "outputs": [
    {
     "data": {
      "text/plain": [
       "                                   cleaned_amenities\n",
       "0  air conditioning, tv, hangers, gas stove, micr...\n",
       "1      air conditioning, tv, wifi, elevator, kitchen\n",
       "2  public or shared beach access, esmaltec gas st...\n",
       "3  building staff, air conditioning, hangers, coo...\n",
       "4  hangers, cooking basics, microwave, kitchen, r..."
      ],
      "text/html": [
       "<div>\n",
       "<style scoped>\n",
       "    .dataframe tbody tr th:only-of-type {\n",
       "        vertical-align: middle;\n",
       "    }\n",
       "\n",
       "    .dataframe tbody tr th {\n",
       "        vertical-align: top;\n",
       "    }\n",
       "\n",
       "    .dataframe thead th {\n",
       "        text-align: right;\n",
       "    }\n",
       "</style>\n",
       "<table border=\"1\" class=\"dataframe\">\n",
       "  <thead>\n",
       "    <tr style=\"text-align: right;\">\n",
       "      <th></th>\n",
       "      <th>cleaned_amenities</th>\n",
       "    </tr>\n",
       "  </thead>\n",
       "  <tbody>\n",
       "    <tr>\n",
       "      <th>0</th>\n",
       "      <td>air conditioning, tv, hangers, gas stove, micr...</td>\n",
       "    </tr>\n",
       "    <tr>\n",
       "      <th>1</th>\n",
       "      <td>air conditioning, tv, wifi, elevator, kitchen</td>\n",
       "    </tr>\n",
       "    <tr>\n",
       "      <th>2</th>\n",
       "      <td>public or shared beach access, esmaltec gas st...</td>\n",
       "    </tr>\n",
       "    <tr>\n",
       "      <th>3</th>\n",
       "      <td>building staff, air conditioning, hangers, coo...</td>\n",
       "    </tr>\n",
       "    <tr>\n",
       "      <th>4</th>\n",
       "      <td>hangers, cooking basics, microwave, kitchen, r...</td>\n",
       "    </tr>\n",
       "  </tbody>\n",
       "</table>\n",
       "</div>"
      ]
     },
     "execution_count": 72,
     "metadata": {},
     "output_type": "execute_result"
    }
   ],
   "execution_count": 72
  },
  {
   "cell_type": "code",
   "metadata": {
    "ExecuteTime": {
     "end_time": "2025-10-15T04:56:41.141962Z",
     "start_time": "2025-10-15T04:56:40.944872Z"
    }
   },
   "source": [
    "# make new column, no_of_amenities\n",
    "df_cleaned['no_of_amenities'] = df_cleaned['cleaned_amenities'].str.split(',').apply(len)\n",
    "df_cleaned[['no_of_amenities']].head()"
   ],
   "outputs": [
    {
     "data": {
      "text/plain": [
       "   no_of_amenities\n",
       "0               21\n",
       "1                5\n",
       "2                7\n",
       "3               26\n",
       "4               32"
      ],
      "text/html": [
       "<div>\n",
       "<style scoped>\n",
       "    .dataframe tbody tr th:only-of-type {\n",
       "        vertical-align: middle;\n",
       "    }\n",
       "\n",
       "    .dataframe tbody tr th {\n",
       "        vertical-align: top;\n",
       "    }\n",
       "\n",
       "    .dataframe thead th {\n",
       "        text-align: right;\n",
       "    }\n",
       "</style>\n",
       "<table border=\"1\" class=\"dataframe\">\n",
       "  <thead>\n",
       "    <tr style=\"text-align: right;\">\n",
       "      <th></th>\n",
       "      <th>no_of_amenities</th>\n",
       "    </tr>\n",
       "  </thead>\n",
       "  <tbody>\n",
       "    <tr>\n",
       "      <th>0</th>\n",
       "      <td>21</td>\n",
       "    </tr>\n",
       "    <tr>\n",
       "      <th>1</th>\n",
       "      <td>5</td>\n",
       "    </tr>\n",
       "    <tr>\n",
       "      <th>2</th>\n",
       "      <td>7</td>\n",
       "    </tr>\n",
       "    <tr>\n",
       "      <th>3</th>\n",
       "      <td>26</td>\n",
       "    </tr>\n",
       "    <tr>\n",
       "      <th>4</th>\n",
       "      <td>32</td>\n",
       "    </tr>\n",
       "  </tbody>\n",
       "</table>\n",
       "</div>"
      ]
     },
     "execution_count": 73,
     "metadata": {},
     "output_type": "execute_result"
    }
   ],
   "execution_count": 73
  },
  {
   "cell_type": "code",
   "metadata": {
    "ExecuteTime": {
     "end_time": "2025-10-15T04:56:41.251338Z",
     "start_time": "2025-10-15T04:56:41.242966Z"
    }
   },
   "source": [
    "df_cleaned.drop(columns=['amenities'], inplace=True, axis=1)  # drop original"
   ],
   "outputs": [],
   "execution_count": 74
  },
  {
   "cell_type": "code",
   "metadata": {
    "ExecuteTime": {
     "end_time": "2025-10-15T04:56:41.304579Z",
     "start_time": "2025-10-15T04:56:41.290115Z"
    }
   },
   "source": [
    "df_cleaned.head()"
   ],
   "outputs": [
    {
     "data": {
      "text/plain": [
       "       id  host_id  host_response_rate  host_acceptance_rate  \\\n",
       "0  231497  1207700                 1.0                  0.82   \n",
       "1  231516  1207700                 1.0                  0.82   \n",
       "2  236991  1241662                 1.0                  0.96   \n",
       "3   17878    68997                 1.0                  0.96   \n",
       "4   25026   102840                 1.0                  0.73   \n",
       "\n",
       "   host_listings_count  host_total_listings_count  accommodates  bedrooms  \\\n",
       "0                  4.0                        8.0             4       1.0   \n",
       "1                  4.0                        8.0             4       1.0   \n",
       "2                  2.0                        2.0             5       1.0   \n",
       "3                  2.0                        5.0             5       2.0   \n",
       "4                  1.0                        5.0             3       1.0   \n",
       "\n",
       "   beds  price  ...  room_type_0  room_type_1  room_type_2  room_type_3  \\\n",
       "0   1.0  180.0  ...            1            0            0            0   \n",
       "1   1.0  350.0  ...            1            0            0            0   \n",
       "2   4.0  190.0  ...            1            0            0            0   \n",
       "3   2.0  279.0  ...            1            0            0            0   \n",
       "4   1.0  330.0  ...            1            0            0            0   \n",
       "\n",
       "   property_category_0  property_category_1  property_category_2  \\\n",
       "0                    1                    0                    0   \n",
       "1                    1                    0                    0   \n",
       "2                    1                    0                    0   \n",
       "3                    1                    0                    0   \n",
       "4                    1                    0                    0   \n",
       "\n",
       "   property_category_3                                  cleaned_amenities  \\\n",
       "0                    0  air conditioning, tv, hangers, gas stove, micr...   \n",
       "1                    0      air conditioning, tv, wifi, elevator, kitchen   \n",
       "2                    0  public or shared beach access, esmaltec gas st...   \n",
       "3                    0  building staff, air conditioning, hangers, coo...   \n",
       "4                    0  hangers, cooking basics, microwave, kitchen, r...   \n",
       "\n",
       "   no_of_amenities  \n",
       "0               21  \n",
       "1                5  \n",
       "2                7  \n",
       "3               26  \n",
       "4               32  \n",
       "\n",
       "[5 rows x 62 columns]"
      ],
      "text/html": [
       "<div>\n",
       "<style scoped>\n",
       "    .dataframe tbody tr th:only-of-type {\n",
       "        vertical-align: middle;\n",
       "    }\n",
       "\n",
       "    .dataframe tbody tr th {\n",
       "        vertical-align: top;\n",
       "    }\n",
       "\n",
       "    .dataframe thead th {\n",
       "        text-align: right;\n",
       "    }\n",
       "</style>\n",
       "<table border=\"1\" class=\"dataframe\">\n",
       "  <thead>\n",
       "    <tr style=\"text-align: right;\">\n",
       "      <th></th>\n",
       "      <th>id</th>\n",
       "      <th>host_id</th>\n",
       "      <th>host_response_rate</th>\n",
       "      <th>host_acceptance_rate</th>\n",
       "      <th>host_listings_count</th>\n",
       "      <th>host_total_listings_count</th>\n",
       "      <th>accommodates</th>\n",
       "      <th>bedrooms</th>\n",
       "      <th>beds</th>\n",
       "      <th>price</th>\n",
       "      <th>...</th>\n",
       "      <th>room_type_0</th>\n",
       "      <th>room_type_1</th>\n",
       "      <th>room_type_2</th>\n",
       "      <th>room_type_3</th>\n",
       "      <th>property_category_0</th>\n",
       "      <th>property_category_1</th>\n",
       "      <th>property_category_2</th>\n",
       "      <th>property_category_3</th>\n",
       "      <th>cleaned_amenities</th>\n",
       "      <th>no_of_amenities</th>\n",
       "    </tr>\n",
       "  </thead>\n",
       "  <tbody>\n",
       "    <tr>\n",
       "      <th>0</th>\n",
       "      <td>231497</td>\n",
       "      <td>1207700</td>\n",
       "      <td>1.0</td>\n",
       "      <td>0.82</td>\n",
       "      <td>4.0</td>\n",
       "      <td>8.0</td>\n",
       "      <td>4</td>\n",
       "      <td>1.0</td>\n",
       "      <td>1.0</td>\n",
       "      <td>180.0</td>\n",
       "      <td>...</td>\n",
       "      <td>1</td>\n",
       "      <td>0</td>\n",
       "      <td>0</td>\n",
       "      <td>0</td>\n",
       "      <td>1</td>\n",
       "      <td>0</td>\n",
       "      <td>0</td>\n",
       "      <td>0</td>\n",
       "      <td>air conditioning, tv, hangers, gas stove, micr...</td>\n",
       "      <td>21</td>\n",
       "    </tr>\n",
       "    <tr>\n",
       "      <th>1</th>\n",
       "      <td>231516</td>\n",
       "      <td>1207700</td>\n",
       "      <td>1.0</td>\n",
       "      <td>0.82</td>\n",
       "      <td>4.0</td>\n",
       "      <td>8.0</td>\n",
       "      <td>4</td>\n",
       "      <td>1.0</td>\n",
       "      <td>1.0</td>\n",
       "      <td>350.0</td>\n",
       "      <td>...</td>\n",
       "      <td>1</td>\n",
       "      <td>0</td>\n",
       "      <td>0</td>\n",
       "      <td>0</td>\n",
       "      <td>1</td>\n",
       "      <td>0</td>\n",
       "      <td>0</td>\n",
       "      <td>0</td>\n",
       "      <td>air conditioning, tv, wifi, elevator, kitchen</td>\n",
       "      <td>5</td>\n",
       "    </tr>\n",
       "    <tr>\n",
       "      <th>2</th>\n",
       "      <td>236991</td>\n",
       "      <td>1241662</td>\n",
       "      <td>1.0</td>\n",
       "      <td>0.96</td>\n",
       "      <td>2.0</td>\n",
       "      <td>2.0</td>\n",
       "      <td>5</td>\n",
       "      <td>1.0</td>\n",
       "      <td>4.0</td>\n",
       "      <td>190.0</td>\n",
       "      <td>...</td>\n",
       "      <td>1</td>\n",
       "      <td>0</td>\n",
       "      <td>0</td>\n",
       "      <td>0</td>\n",
       "      <td>1</td>\n",
       "      <td>0</td>\n",
       "      <td>0</td>\n",
       "      <td>0</td>\n",
       "      <td>public or shared beach access, esmaltec gas st...</td>\n",
       "      <td>7</td>\n",
       "    </tr>\n",
       "    <tr>\n",
       "      <th>3</th>\n",
       "      <td>17878</td>\n",
       "      <td>68997</td>\n",
       "      <td>1.0</td>\n",
       "      <td>0.96</td>\n",
       "      <td>2.0</td>\n",
       "      <td>5.0</td>\n",
       "      <td>5</td>\n",
       "      <td>2.0</td>\n",
       "      <td>2.0</td>\n",
       "      <td>279.0</td>\n",
       "      <td>...</td>\n",
       "      <td>1</td>\n",
       "      <td>0</td>\n",
       "      <td>0</td>\n",
       "      <td>0</td>\n",
       "      <td>1</td>\n",
       "      <td>0</td>\n",
       "      <td>0</td>\n",
       "      <td>0</td>\n",
       "      <td>building staff, air conditioning, hangers, coo...</td>\n",
       "      <td>26</td>\n",
       "    </tr>\n",
       "    <tr>\n",
       "      <th>4</th>\n",
       "      <td>25026</td>\n",
       "      <td>102840</td>\n",
       "      <td>1.0</td>\n",
       "      <td>0.73</td>\n",
       "      <td>1.0</td>\n",
       "      <td>5.0</td>\n",
       "      <td>3</td>\n",
       "      <td>1.0</td>\n",
       "      <td>1.0</td>\n",
       "      <td>330.0</td>\n",
       "      <td>...</td>\n",
       "      <td>1</td>\n",
       "      <td>0</td>\n",
       "      <td>0</td>\n",
       "      <td>0</td>\n",
       "      <td>1</td>\n",
       "      <td>0</td>\n",
       "      <td>0</td>\n",
       "      <td>0</td>\n",
       "      <td>hangers, cooking basics, microwave, kitchen, r...</td>\n",
       "      <td>32</td>\n",
       "    </tr>\n",
       "  </tbody>\n",
       "</table>\n",
       "<p>5 rows × 62 columns</p>\n",
       "</div>"
      ]
     },
     "execution_count": 75,
     "metadata": {},
     "output_type": "execute_result"
    }
   ],
   "execution_count": 75
  },
  {
   "cell_type": "code",
   "metadata": {
    "ExecuteTime": {
     "end_time": "2025-10-15T04:56:42.040618Z",
     "start_time": "2025-10-15T04:56:41.367884Z"
    }
   },
   "source": "df_cleaned.to_csv('data/cleaned_listings.csv', index=False)",
   "outputs": [],
   "execution_count": 76
  },
  {
   "cell_type": "markdown",
   "metadata": {},
   "source": [
    "## Standardize Columns"
   ]
  },
  {
   "cell_type": "code",
   "metadata": {
    "ExecuteTime": {
     "end_time": "2025-10-15T04:56:42.099968Z",
     "start_time": "2025-10-15T04:56:42.095507Z"
    }
   },
   "source": [
    "columns_to_standardize = [col for col in df_cleaned.columns if col not in ['cleaned_amenities', 'id', 'host_id']]\n",
    "\n",
    "scaler = StandardScaler()  # scaler"
   ],
   "outputs": [],
   "execution_count": 77
  },
  {
   "cell_type": "code",
   "metadata": {
    "ExecuteTime": {
     "end_time": "2025-10-15T04:56:42.346790Z",
     "start_time": "2025-10-15T04:56:42.268919Z"
    }
   },
   "source": [
    "df_standardized = df_cleaned.copy()\n",
    "\n",
    "df_standardized[columns_to_standardize] = scaler.fit_transform(df_cleaned[columns_to_standardize])  # apply scaler"
   ],
   "outputs": [],
   "execution_count": 78
  },
  {
   "cell_type": "code",
   "metadata": {
    "ExecuteTime": {
     "end_time": "2025-10-15T04:56:42.379473Z",
     "start_time": "2025-10-15T04:56:42.358096Z"
    }
   },
   "source": [
    "df_standardized.drop(columns=['cleaned_amenities']).head()"
   ],
   "outputs": [
    {
     "data": {
      "text/plain": [
       "       id  host_id  host_response_rate  host_acceptance_rate  \\\n",
       "0  231497  1207700            0.359127             -0.109928   \n",
       "1  231516  1207700            0.359127             -0.109928   \n",
       "2  236991  1241662            0.359127              0.488212   \n",
       "3   17878    68997            0.359127              0.488212   \n",
       "4   25026   102840            0.359127             -0.494446   \n",
       "\n",
       "   host_listings_count  host_total_listings_count  accommodates  bedrooms  \\\n",
       "0            -0.131599                  -0.138987      0.030127 -0.594523   \n",
       "1            -0.131599                  -0.138987      0.030127 -0.594523   \n",
       "2            -0.153245                  -0.182817      0.484816 -0.594523   \n",
       "3            -0.153245                  -0.160902      0.484816  0.490910   \n",
       "4            -0.164068                  -0.160902     -0.424562 -0.594523   \n",
       "\n",
       "       beds     price  ...  host_response_time_3  room_type_0  room_type_1  \\\n",
       "0 -0.722014 -0.074779  ...             -1.447860     0.503233    -0.043648   \n",
       "1 -0.722014 -0.042027  ...             -1.447860     0.503233    -0.043648   \n",
       "2  0.769689 -0.072852  ...              0.690675     0.503233    -0.043648   \n",
       "3 -0.224780 -0.055706  ...              0.690675     0.503233    -0.043648   \n",
       "4 -0.722014 -0.045880  ...             -1.447860     0.503233    -0.043648   \n",
       "\n",
       "   room_type_2  room_type_3  property_category_0  property_category_1  \\\n",
       "0    -0.477305     -0.12181             0.531981              -0.1617   \n",
       "1    -0.477305     -0.12181             0.531981              -0.1617   \n",
       "2    -0.477305     -0.12181             0.531981              -0.1617   \n",
       "3    -0.477305     -0.12181             0.531981              -0.1617   \n",
       "4    -0.477305     -0.12181             0.531981              -0.1617   \n",
       "\n",
       "   property_category_2  property_category_3  no_of_amenities  \n",
       "0            -0.469279             -0.12181        -0.157597  \n",
       "1            -0.469279             -0.12181        -1.341578  \n",
       "2            -0.469279             -0.12181        -1.193581  \n",
       "3            -0.469279             -0.12181         0.212397  \n",
       "4            -0.469279             -0.12181         0.656390  \n",
       "\n",
       "[5 rows x 61 columns]"
      ],
      "text/html": [
       "<div>\n",
       "<style scoped>\n",
       "    .dataframe tbody tr th:only-of-type {\n",
       "        vertical-align: middle;\n",
       "    }\n",
       "\n",
       "    .dataframe tbody tr th {\n",
       "        vertical-align: top;\n",
       "    }\n",
       "\n",
       "    .dataframe thead th {\n",
       "        text-align: right;\n",
       "    }\n",
       "</style>\n",
       "<table border=\"1\" class=\"dataframe\">\n",
       "  <thead>\n",
       "    <tr style=\"text-align: right;\">\n",
       "      <th></th>\n",
       "      <th>id</th>\n",
       "      <th>host_id</th>\n",
       "      <th>host_response_rate</th>\n",
       "      <th>host_acceptance_rate</th>\n",
       "      <th>host_listings_count</th>\n",
       "      <th>host_total_listings_count</th>\n",
       "      <th>accommodates</th>\n",
       "      <th>bedrooms</th>\n",
       "      <th>beds</th>\n",
       "      <th>price</th>\n",
       "      <th>...</th>\n",
       "      <th>host_response_time_3</th>\n",
       "      <th>room_type_0</th>\n",
       "      <th>room_type_1</th>\n",
       "      <th>room_type_2</th>\n",
       "      <th>room_type_3</th>\n",
       "      <th>property_category_0</th>\n",
       "      <th>property_category_1</th>\n",
       "      <th>property_category_2</th>\n",
       "      <th>property_category_3</th>\n",
       "      <th>no_of_amenities</th>\n",
       "    </tr>\n",
       "  </thead>\n",
       "  <tbody>\n",
       "    <tr>\n",
       "      <th>0</th>\n",
       "      <td>231497</td>\n",
       "      <td>1207700</td>\n",
       "      <td>0.359127</td>\n",
       "      <td>-0.109928</td>\n",
       "      <td>-0.131599</td>\n",
       "      <td>-0.138987</td>\n",
       "      <td>0.030127</td>\n",
       "      <td>-0.594523</td>\n",
       "      <td>-0.722014</td>\n",
       "      <td>-0.074779</td>\n",
       "      <td>...</td>\n",
       "      <td>-1.447860</td>\n",
       "      <td>0.503233</td>\n",
       "      <td>-0.043648</td>\n",
       "      <td>-0.477305</td>\n",
       "      <td>-0.12181</td>\n",
       "      <td>0.531981</td>\n",
       "      <td>-0.1617</td>\n",
       "      <td>-0.469279</td>\n",
       "      <td>-0.12181</td>\n",
       "      <td>-0.157597</td>\n",
       "    </tr>\n",
       "    <tr>\n",
       "      <th>1</th>\n",
       "      <td>231516</td>\n",
       "      <td>1207700</td>\n",
       "      <td>0.359127</td>\n",
       "      <td>-0.109928</td>\n",
       "      <td>-0.131599</td>\n",
       "      <td>-0.138987</td>\n",
       "      <td>0.030127</td>\n",
       "      <td>-0.594523</td>\n",
       "      <td>-0.722014</td>\n",
       "      <td>-0.042027</td>\n",
       "      <td>...</td>\n",
       "      <td>-1.447860</td>\n",
       "      <td>0.503233</td>\n",
       "      <td>-0.043648</td>\n",
       "      <td>-0.477305</td>\n",
       "      <td>-0.12181</td>\n",
       "      <td>0.531981</td>\n",
       "      <td>-0.1617</td>\n",
       "      <td>-0.469279</td>\n",
       "      <td>-0.12181</td>\n",
       "      <td>-1.341578</td>\n",
       "    </tr>\n",
       "    <tr>\n",
       "      <th>2</th>\n",
       "      <td>236991</td>\n",
       "      <td>1241662</td>\n",
       "      <td>0.359127</td>\n",
       "      <td>0.488212</td>\n",
       "      <td>-0.153245</td>\n",
       "      <td>-0.182817</td>\n",
       "      <td>0.484816</td>\n",
       "      <td>-0.594523</td>\n",
       "      <td>0.769689</td>\n",
       "      <td>-0.072852</td>\n",
       "      <td>...</td>\n",
       "      <td>0.690675</td>\n",
       "      <td>0.503233</td>\n",
       "      <td>-0.043648</td>\n",
       "      <td>-0.477305</td>\n",
       "      <td>-0.12181</td>\n",
       "      <td>0.531981</td>\n",
       "      <td>-0.1617</td>\n",
       "      <td>-0.469279</td>\n",
       "      <td>-0.12181</td>\n",
       "      <td>-1.193581</td>\n",
       "    </tr>\n",
       "    <tr>\n",
       "      <th>3</th>\n",
       "      <td>17878</td>\n",
       "      <td>68997</td>\n",
       "      <td>0.359127</td>\n",
       "      <td>0.488212</td>\n",
       "      <td>-0.153245</td>\n",
       "      <td>-0.160902</td>\n",
       "      <td>0.484816</td>\n",
       "      <td>0.490910</td>\n",
       "      <td>-0.224780</td>\n",
       "      <td>-0.055706</td>\n",
       "      <td>...</td>\n",
       "      <td>0.690675</td>\n",
       "      <td>0.503233</td>\n",
       "      <td>-0.043648</td>\n",
       "      <td>-0.477305</td>\n",
       "      <td>-0.12181</td>\n",
       "      <td>0.531981</td>\n",
       "      <td>-0.1617</td>\n",
       "      <td>-0.469279</td>\n",
       "      <td>-0.12181</td>\n",
       "      <td>0.212397</td>\n",
       "    </tr>\n",
       "    <tr>\n",
       "      <th>4</th>\n",
       "      <td>25026</td>\n",
       "      <td>102840</td>\n",
       "      <td>0.359127</td>\n",
       "      <td>-0.494446</td>\n",
       "      <td>-0.164068</td>\n",
       "      <td>-0.160902</td>\n",
       "      <td>-0.424562</td>\n",
       "      <td>-0.594523</td>\n",
       "      <td>-0.722014</td>\n",
       "      <td>-0.045880</td>\n",
       "      <td>...</td>\n",
       "      <td>-1.447860</td>\n",
       "      <td>0.503233</td>\n",
       "      <td>-0.043648</td>\n",
       "      <td>-0.477305</td>\n",
       "      <td>-0.12181</td>\n",
       "      <td>0.531981</td>\n",
       "      <td>-0.1617</td>\n",
       "      <td>-0.469279</td>\n",
       "      <td>-0.12181</td>\n",
       "      <td>0.656390</td>\n",
       "    </tr>\n",
       "  </tbody>\n",
       "</table>\n",
       "<p>5 rows × 61 columns</p>\n",
       "</div>"
      ]
     },
     "execution_count": 79,
     "metadata": {},
     "output_type": "execute_result"
    }
   ],
   "execution_count": 79
  },
  {
   "cell_type": "markdown",
   "metadata": {
    "cell_id": "f28900f0a25f4174ade01a5d3dce8347",
    "deepnote_cell_type": "markdown"
   },
   "source": "# Distance Analysis"
  },
  {
   "cell_type": "code",
   "metadata": {
    "ExecuteTime": {
     "end_time": "2025-10-15T04:56:42.438725Z",
     "start_time": "2025-10-15T04:56:42.424830Z"
    }
   },
   "source": [
    "df_proximity = df_standardized.copy()"
   ],
   "outputs": [],
   "execution_count": 80
  },
  {
   "cell_type": "code",
   "metadata": {
    "ExecuteTime": {
     "end_time": "2025-10-15T04:56:42.540072Z",
     "start_time": "2025-10-15T04:56:42.528966Z"
    }
   },
   "source": [
    "df_proximity.dropna(inplace=True)"
   ],
   "outputs": [],
   "execution_count": 81
  },
  {
   "cell_type": "code",
   "metadata": {
    "ExecuteTime": {
     "end_time": "2025-10-15T04:56:42.672407Z",
     "start_time": "2025-10-15T04:56:42.664089Z"
    }
   },
   "source": [
    "df_proximity.drop(columns=['cleaned_amenities', 'id', 'host_id'], inplace=True)"
   ],
   "outputs": [],
   "execution_count": 82
  },
  {
   "cell_type": "code",
   "metadata": {
    "ExecuteTime": {
     "end_time": "2025-10-15T04:56:42.728451Z",
     "start_time": "2025-10-15T04:56:42.714965Z"
    }
   },
   "source": [
    "df_proximity.head()"
   ],
   "outputs": [
    {
     "data": {
      "text/plain": [
       "   host_response_rate  host_acceptance_rate  host_listings_count  \\\n",
       "0            0.359127             -0.109928            -0.131599   \n",
       "1            0.359127             -0.109928            -0.131599   \n",
       "2            0.359127              0.488212            -0.153245   \n",
       "3            0.359127              0.488212            -0.153245   \n",
       "4            0.359127             -0.494446            -0.164068   \n",
       "\n",
       "   host_total_listings_count  accommodates  bedrooms      beds     price  \\\n",
       "0                  -0.138987      0.030127 -0.594523 -0.722014 -0.074779   \n",
       "1                  -0.138987      0.030127 -0.594523 -0.722014 -0.042027   \n",
       "2                  -0.182817      0.484816 -0.594523  0.769689 -0.072852   \n",
       "3                  -0.160902      0.484816  0.490910 -0.224780 -0.055706   \n",
       "4                  -0.160902     -0.424562 -0.594523 -0.722014 -0.045880   \n",
       "\n",
       "   minimum_nights  maximum_nights  ...  host_response_time_3  room_type_0  \\\n",
       "0       -0.043157       -0.879003  ...             -1.447860     0.503233   \n",
       "1       -0.043157       -0.879003  ...             -1.447860     0.503233   \n",
       "2        0.060345       -1.036559  ...              0.690675     0.503233   \n",
       "3        0.060345       -1.007149  ...              0.690675     0.503233   \n",
       "4       -0.094908       -0.939925  ...             -1.447860     0.503233   \n",
       "\n",
       "   room_type_1  room_type_2  room_type_3  property_category_0  \\\n",
       "0    -0.043648    -0.477305     -0.12181             0.531981   \n",
       "1    -0.043648    -0.477305     -0.12181             0.531981   \n",
       "2    -0.043648    -0.477305     -0.12181             0.531981   \n",
       "3    -0.043648    -0.477305     -0.12181             0.531981   \n",
       "4    -0.043648    -0.477305     -0.12181             0.531981   \n",
       "\n",
       "   property_category_1  property_category_2  property_category_3  \\\n",
       "0              -0.1617            -0.469279             -0.12181   \n",
       "1              -0.1617            -0.469279             -0.12181   \n",
       "2              -0.1617            -0.469279             -0.12181   \n",
       "3              -0.1617            -0.469279             -0.12181   \n",
       "4              -0.1617            -0.469279             -0.12181   \n",
       "\n",
       "   no_of_amenities  \n",
       "0        -0.157597  \n",
       "1        -1.341578  \n",
       "2        -1.193581  \n",
       "3         0.212397  \n",
       "4         0.656390  \n",
       "\n",
       "[5 rows x 59 columns]"
      ],
      "text/html": [
       "<div>\n",
       "<style scoped>\n",
       "    .dataframe tbody tr th:only-of-type {\n",
       "        vertical-align: middle;\n",
       "    }\n",
       "\n",
       "    .dataframe tbody tr th {\n",
       "        vertical-align: top;\n",
       "    }\n",
       "\n",
       "    .dataframe thead th {\n",
       "        text-align: right;\n",
       "    }\n",
       "</style>\n",
       "<table border=\"1\" class=\"dataframe\">\n",
       "  <thead>\n",
       "    <tr style=\"text-align: right;\">\n",
       "      <th></th>\n",
       "      <th>host_response_rate</th>\n",
       "      <th>host_acceptance_rate</th>\n",
       "      <th>host_listings_count</th>\n",
       "      <th>host_total_listings_count</th>\n",
       "      <th>accommodates</th>\n",
       "      <th>bedrooms</th>\n",
       "      <th>beds</th>\n",
       "      <th>price</th>\n",
       "      <th>minimum_nights</th>\n",
       "      <th>maximum_nights</th>\n",
       "      <th>...</th>\n",
       "      <th>host_response_time_3</th>\n",
       "      <th>room_type_0</th>\n",
       "      <th>room_type_1</th>\n",
       "      <th>room_type_2</th>\n",
       "      <th>room_type_3</th>\n",
       "      <th>property_category_0</th>\n",
       "      <th>property_category_1</th>\n",
       "      <th>property_category_2</th>\n",
       "      <th>property_category_3</th>\n",
       "      <th>no_of_amenities</th>\n",
       "    </tr>\n",
       "  </thead>\n",
       "  <tbody>\n",
       "    <tr>\n",
       "      <th>0</th>\n",
       "      <td>0.359127</td>\n",
       "      <td>-0.109928</td>\n",
       "      <td>-0.131599</td>\n",
       "      <td>-0.138987</td>\n",
       "      <td>0.030127</td>\n",
       "      <td>-0.594523</td>\n",
       "      <td>-0.722014</td>\n",
       "      <td>-0.074779</td>\n",
       "      <td>-0.043157</td>\n",
       "      <td>-0.879003</td>\n",
       "      <td>...</td>\n",
       "      <td>-1.447860</td>\n",
       "      <td>0.503233</td>\n",
       "      <td>-0.043648</td>\n",
       "      <td>-0.477305</td>\n",
       "      <td>-0.12181</td>\n",
       "      <td>0.531981</td>\n",
       "      <td>-0.1617</td>\n",
       "      <td>-0.469279</td>\n",
       "      <td>-0.12181</td>\n",
       "      <td>-0.157597</td>\n",
       "    </tr>\n",
       "    <tr>\n",
       "      <th>1</th>\n",
       "      <td>0.359127</td>\n",
       "      <td>-0.109928</td>\n",
       "      <td>-0.131599</td>\n",
       "      <td>-0.138987</td>\n",
       "      <td>0.030127</td>\n",
       "      <td>-0.594523</td>\n",
       "      <td>-0.722014</td>\n",
       "      <td>-0.042027</td>\n",
       "      <td>-0.043157</td>\n",
       "      <td>-0.879003</td>\n",
       "      <td>...</td>\n",
       "      <td>-1.447860</td>\n",
       "      <td>0.503233</td>\n",
       "      <td>-0.043648</td>\n",
       "      <td>-0.477305</td>\n",
       "      <td>-0.12181</td>\n",
       "      <td>0.531981</td>\n",
       "      <td>-0.1617</td>\n",
       "      <td>-0.469279</td>\n",
       "      <td>-0.12181</td>\n",
       "      <td>-1.341578</td>\n",
       "    </tr>\n",
       "    <tr>\n",
       "      <th>2</th>\n",
       "      <td>0.359127</td>\n",
       "      <td>0.488212</td>\n",
       "      <td>-0.153245</td>\n",
       "      <td>-0.182817</td>\n",
       "      <td>0.484816</td>\n",
       "      <td>-0.594523</td>\n",
       "      <td>0.769689</td>\n",
       "      <td>-0.072852</td>\n",
       "      <td>0.060345</td>\n",
       "      <td>-1.036559</td>\n",
       "      <td>...</td>\n",
       "      <td>0.690675</td>\n",
       "      <td>0.503233</td>\n",
       "      <td>-0.043648</td>\n",
       "      <td>-0.477305</td>\n",
       "      <td>-0.12181</td>\n",
       "      <td>0.531981</td>\n",
       "      <td>-0.1617</td>\n",
       "      <td>-0.469279</td>\n",
       "      <td>-0.12181</td>\n",
       "      <td>-1.193581</td>\n",
       "    </tr>\n",
       "    <tr>\n",
       "      <th>3</th>\n",
       "      <td>0.359127</td>\n",
       "      <td>0.488212</td>\n",
       "      <td>-0.153245</td>\n",
       "      <td>-0.160902</td>\n",
       "      <td>0.484816</td>\n",
       "      <td>0.490910</td>\n",
       "      <td>-0.224780</td>\n",
       "      <td>-0.055706</td>\n",
       "      <td>0.060345</td>\n",
       "      <td>-1.007149</td>\n",
       "      <td>...</td>\n",
       "      <td>0.690675</td>\n",
       "      <td>0.503233</td>\n",
       "      <td>-0.043648</td>\n",
       "      <td>-0.477305</td>\n",
       "      <td>-0.12181</td>\n",
       "      <td>0.531981</td>\n",
       "      <td>-0.1617</td>\n",
       "      <td>-0.469279</td>\n",
       "      <td>-0.12181</td>\n",
       "      <td>0.212397</td>\n",
       "    </tr>\n",
       "    <tr>\n",
       "      <th>4</th>\n",
       "      <td>0.359127</td>\n",
       "      <td>-0.494446</td>\n",
       "      <td>-0.164068</td>\n",
       "      <td>-0.160902</td>\n",
       "      <td>-0.424562</td>\n",
       "      <td>-0.594523</td>\n",
       "      <td>-0.722014</td>\n",
       "      <td>-0.045880</td>\n",
       "      <td>-0.094908</td>\n",
       "      <td>-0.939925</td>\n",
       "      <td>...</td>\n",
       "      <td>-1.447860</td>\n",
       "      <td>0.503233</td>\n",
       "      <td>-0.043648</td>\n",
       "      <td>-0.477305</td>\n",
       "      <td>-0.12181</td>\n",
       "      <td>0.531981</td>\n",
       "      <td>-0.1617</td>\n",
       "      <td>-0.469279</td>\n",
       "      <td>-0.12181</td>\n",
       "      <td>0.656390</td>\n",
       "    </tr>\n",
       "  </tbody>\n",
       "</table>\n",
       "<p>5 rows × 59 columns</p>\n",
       "</div>"
      ]
     },
     "execution_count": 83,
     "metadata": {},
     "output_type": "execute_result"
    }
   ],
   "execution_count": 83
  },
  {
   "cell_type": "markdown",
   "metadata": {},
   "source": [
    "## Correlation"
   ]
  },
  {
   "cell_type": "code",
   "metadata": {
    "ExecuteTime": {
     "end_time": "2025-10-15T04:56:42.971276Z",
     "start_time": "2025-10-15T04:56:42.799147Z"
    }
   },
   "source": [
    "correlation_matrix = df_proximity.corr()  # get corr matrix\n",
    "\n",
    "correlation_pairs = correlation_matrix.where((correlation_matrix > 0.50) \n",
    "                                             & (correlation_matrix != 1)).stack().reset_index()  # get significant pairs except diagonals\n",
    "# to remove the duplicates"
   ],
   "outputs": [],
   "execution_count": 84
  },
  {
   "cell_type": "code",
   "metadata": {
    "ExecuteTime": {
     "end_time": "2025-10-15T04:56:43.016422Z",
     "start_time": "2025-10-15T04:56:43.011362Z"
    }
   },
   "source": [
    "correlation_pairs.columns = ['Feature 1', 'Feature 2', 'Correlation Coefficient']  # for better reference\n",
    "\n",
    "correlation_pairs = correlation_pairs[correlation_pairs['Feature 1'] < correlation_pairs['Feature 2']]  # remove other duplicate pairs"
   ],
   "outputs": [],
   "execution_count": 85
  },
  {
   "cell_type": "code",
   "metadata": {
    "ExecuteTime": {
     "end_time": "2025-10-15T04:56:43.109269Z",
     "start_time": "2025-10-15T04:56:43.100872Z"
    }
   },
   "source": [
    "correlation_pairs = correlation_pairs.sort_values('Correlation Coefficient', ascending=False)  # sort\n",
    "correlation_pairs"
   ],
   "outputs": [
    {
     "data": {
      "text/plain": [
       "                                        Feature 1  \\\n",
       "106                calculated_host_listings_count   \n",
       "32                         maximum_maximum_nights   \n",
       "132                           property_category_2   \n",
       "23                         minimum_minimum_nights   \n",
       "0                             host_listings_count   \n",
       "..                                            ...   \n",
       "95                         review_scores_location   \n",
       "41                                availability_30   \n",
       "88                    review_scores_communication   \n",
       "111  calculated_host_listings_count_private_rooms   \n",
       "118                             bathrooms_private   \n",
       "\n",
       "                                       Feature 2  Correlation Coefficient  \n",
       "106  calculated_host_listings_count_entire_homes                 0.996199  \n",
       "32                        maximum_nights_avg_ntm                 0.987370  \n",
       "132                                  room_type_2                 0.983185  \n",
       "23                        minimum_nights_avg_ntm                 0.979975  \n",
       "0                      host_total_listings_count                 0.968335  \n",
       "..                                           ...                      ...  \n",
       "95                           review_scores_value                 0.532304  \n",
       "41                              availability_365                 0.530969  \n",
       "88                        review_scores_location                 0.524969  \n",
       "111                          property_category_2                 0.513466  \n",
       "118                                         beds                 0.501583  \n",
       "\n",
       "[67 rows x 3 columns]"
      ],
      "text/html": [
       "<div>\n",
       "<style scoped>\n",
       "    .dataframe tbody tr th:only-of-type {\n",
       "        vertical-align: middle;\n",
       "    }\n",
       "\n",
       "    .dataframe tbody tr th {\n",
       "        vertical-align: top;\n",
       "    }\n",
       "\n",
       "    .dataframe thead th {\n",
       "        text-align: right;\n",
       "    }\n",
       "</style>\n",
       "<table border=\"1\" class=\"dataframe\">\n",
       "  <thead>\n",
       "    <tr style=\"text-align: right;\">\n",
       "      <th></th>\n",
       "      <th>Feature 1</th>\n",
       "      <th>Feature 2</th>\n",
       "      <th>Correlation Coefficient</th>\n",
       "    </tr>\n",
       "  </thead>\n",
       "  <tbody>\n",
       "    <tr>\n",
       "      <th>106</th>\n",
       "      <td>calculated_host_listings_count</td>\n",
       "      <td>calculated_host_listings_count_entire_homes</td>\n",
       "      <td>0.996199</td>\n",
       "    </tr>\n",
       "    <tr>\n",
       "      <th>32</th>\n",
       "      <td>maximum_maximum_nights</td>\n",
       "      <td>maximum_nights_avg_ntm</td>\n",
       "      <td>0.987370</td>\n",
       "    </tr>\n",
       "    <tr>\n",
       "      <th>132</th>\n",
       "      <td>property_category_2</td>\n",
       "      <td>room_type_2</td>\n",
       "      <td>0.983185</td>\n",
       "    </tr>\n",
       "    <tr>\n",
       "      <th>23</th>\n",
       "      <td>minimum_minimum_nights</td>\n",
       "      <td>minimum_nights_avg_ntm</td>\n",
       "      <td>0.979975</td>\n",
       "    </tr>\n",
       "    <tr>\n",
       "      <th>0</th>\n",
       "      <td>host_listings_count</td>\n",
       "      <td>host_total_listings_count</td>\n",
       "      <td>0.968335</td>\n",
       "    </tr>\n",
       "    <tr>\n",
       "      <th>...</th>\n",
       "      <td>...</td>\n",
       "      <td>...</td>\n",
       "      <td>...</td>\n",
       "    </tr>\n",
       "    <tr>\n",
       "      <th>95</th>\n",
       "      <td>review_scores_location</td>\n",
       "      <td>review_scores_value</td>\n",
       "      <td>0.532304</td>\n",
       "    </tr>\n",
       "    <tr>\n",
       "      <th>41</th>\n",
       "      <td>availability_30</td>\n",
       "      <td>availability_365</td>\n",
       "      <td>0.530969</td>\n",
       "    </tr>\n",
       "    <tr>\n",
       "      <th>88</th>\n",
       "      <td>review_scores_communication</td>\n",
       "      <td>review_scores_location</td>\n",
       "      <td>0.524969</td>\n",
       "    </tr>\n",
       "    <tr>\n",
       "      <th>111</th>\n",
       "      <td>calculated_host_listings_count_private_rooms</td>\n",
       "      <td>property_category_2</td>\n",
       "      <td>0.513466</td>\n",
       "    </tr>\n",
       "    <tr>\n",
       "      <th>118</th>\n",
       "      <td>bathrooms_private</td>\n",
       "      <td>beds</td>\n",
       "      <td>0.501583</td>\n",
       "    </tr>\n",
       "  </tbody>\n",
       "</table>\n",
       "<p>67 rows × 3 columns</p>\n",
       "</div>"
      ]
     },
     "execution_count": 86,
     "metadata": {},
     "output_type": "execute_result"
    }
   ],
   "execution_count": 86
  },
  {
   "cell_type": "markdown",
   "metadata": {},
   "source": [
    "After studying each pairs correlation, the following pairs are extracted:\n",
    "\n",
    "`review_scores_checkin` and `review_scores_communication` **(0.75 correlation)**: The check-in process is key to guest experience. Clear communication about check-in details leads to smoother arrivals, directly contributing to higher ratings.\n",
    "\n",
    "`review_scores_accuracy` and `review_scores_communication` **(0.69 correlation)**: Accurate listings and clear communication are crucial for setting guest expectations. A high correlation between these two suggests that effective communication leads to more accurate descriptions, which improves guest satisfaction.\n",
    "`\n",
    "\n",
    "These pairs align with our goal of improving the guest experience and optimizing Airbnb listings for better ratings."
   ]
  },
  {
   "cell_type": "code",
   "metadata": {
    "ExecuteTime": {
     "end_time": "2025-10-15T04:56:43.230491Z",
     "start_time": "2025-10-15T04:56:43.222723Z"
    }
   },
   "source": [
    "correlation_pairs[\n",
    "    correlation_pairs['Feature 1'].isin(['review_scores_accuracy', 'review_scores_checkin']) &\n",
    "    correlation_pairs['Feature 2'].isin(['review_scores_communication'])\n",
    "]"
   ],
   "outputs": [
    {
     "data": {
      "text/plain": [
       "                 Feature 1                    Feature 2  \\\n",
       "80   review_scores_checkin  review_scores_communication   \n",
       "67  review_scores_accuracy  review_scores_communication   \n",
       "\n",
       "    Correlation Coefficient  \n",
       "80                 0.745876  \n",
       "67                 0.691867  "
      ],
      "text/html": [
       "<div>\n",
       "<style scoped>\n",
       "    .dataframe tbody tr th:only-of-type {\n",
       "        vertical-align: middle;\n",
       "    }\n",
       "\n",
       "    .dataframe tbody tr th {\n",
       "        vertical-align: top;\n",
       "    }\n",
       "\n",
       "    .dataframe thead th {\n",
       "        text-align: right;\n",
       "    }\n",
       "</style>\n",
       "<table border=\"1\" class=\"dataframe\">\n",
       "  <thead>\n",
       "    <tr style=\"text-align: right;\">\n",
       "      <th></th>\n",
       "      <th>Feature 1</th>\n",
       "      <th>Feature 2</th>\n",
       "      <th>Correlation Coefficient</th>\n",
       "    </tr>\n",
       "  </thead>\n",
       "  <tbody>\n",
       "    <tr>\n",
       "      <th>80</th>\n",
       "      <td>review_scores_checkin</td>\n",
       "      <td>review_scores_communication</td>\n",
       "      <td>0.745876</td>\n",
       "    </tr>\n",
       "    <tr>\n",
       "      <th>67</th>\n",
       "      <td>review_scores_accuracy</td>\n",
       "      <td>review_scores_communication</td>\n",
       "      <td>0.691867</td>\n",
       "    </tr>\n",
       "  </tbody>\n",
       "</table>\n",
       "</div>"
      ]
     },
     "execution_count": 87,
     "metadata": {},
     "output_type": "execute_result"
    }
   ],
   "execution_count": 87
  },
  {
   "cell_type": "code",
   "metadata": {
    "ExecuteTime": {
     "end_time": "2025-10-15T04:56:45.177624Z",
     "start_time": "2025-10-15T04:56:43.412989Z"
    }
   },
   "source": [
    "# based on https://www.statology.org/seaborn-regplot-equation/\n",
    "fig, axes = plt.subplots(1, 2, figsize=(12, 6))\n",
    "\n",
    "# review_scores_accuracy and review_scores_communication\n",
    "sns.regplot(x='review_scores_accuracy', y='review_scores_communication', data=df_cleaned, \n",
    "            ax=axes[0], scatter_kws={'alpha':0.6}, line_kws={'color': 'red', 'linestyle': ':'})\n",
    "axes[0].set_title('Review Scores: Accuracy vs Communication (r=0.75)')\n",
    "axes[0].set_xlabel('Review Scores Accuracy')\n",
    "axes[0].set_ylabel('Review Scores Communication')\n",
    "\n",
    "# review_scores_checkin and review_scores_communication\n",
    "sns.regplot(x='review_scores_checkin', y='review_scores_communication', data=df_cleaned, \n",
    "            ax=axes[1], scatter_kws={'alpha':0.6}, line_kws={'color': 'red', 'linestyle': '--'})\n",
    "axes[1].set_title('Review Scores: Check-in vs Communication (r=0.69)')\n",
    "axes[1].set_xlabel('Review Scores Check-in')\n",
    "axes[1].set_ylabel('Review Scores Communication')\n",
    "\n",
    "plt.tight_layout()\n",
    "plt.show()"
   ],
   "outputs": [
    {
     "data": {
      "text/plain": [
       "<Figure size 1200x600 with 2 Axes>"
      ],
      "image/png": "[encoded data removed]"
     },
     "metadata": {},
     "output_type": "display_data",
     "jetTransient": {
      "display_id": null
     }
    }
   ],
   "execution_count": 88
  },
  {
   "cell_type": "markdown",
   "metadata": {},
   "source": [
    "## Distance Matrix\n",
    "\n",
    "sources:\n",
    "* https://stackoverflow.com/questions/39203662/euclidean-distance-matrix-using-pandas\n",
    "* https://docs.scipy.org/doc/scipy/reference/generated/scipy.spatial.distance.pdist.html#scipy.spatial.distance.pdist\n",
    "* https://docs.scipy.org/doc/scipy/reference/generated/scipy.spatial.distance.squareform.html#scipy.spatial.distance.squareform"
   ]
  },
  {
   "cell_type": "code",
   "metadata": {
    "ExecuteTime": {
     "end_time": "2025-10-15T04:56:45.330468Z",
     "start_time": "2025-10-15T04:56:45.327916Z"
    }
   },
   "source": [
    "# subset features for memory constraints\n",
    "selected_features = ['bedrooms', 'accommodates', 'beds','days_since_last_review','review_scores_rating',\n",
    "                     'review_scores_cleanliness','average_ratings'] # based on correlation with price\n",
    "\n",
    "subset = 10  # subset records for memory constraints"
   ],
   "outputs": [],
   "execution_count": 89
  },
  {
   "cell_type": "code",
   "metadata": {
    "ExecuteTime": {
     "end_time": "2025-10-15T04:56:45.411262Z",
     "start_time": "2025-10-15T04:56:45.396565Z"
    }
   },
   "source": [
    "df_subset = df_proximity[selected_features].iloc[:subset]\n",
    "\n",
    "# Compute Euclidean distance matrix\n",
    "distance_matrix_subset = squareform(pdist(df_subset, metric='euclidean'))"
   ],
   "outputs": [],
   "execution_count": 90
  },
  {
   "cell_type": "code",
   "metadata": {
    "ExecuteTime": {
     "end_time": "2025-10-15T04:56:45.428363Z",
     "start_time": "2025-10-15T04:56:45.424607Z"
    }
   },
   "source": [
    "distance_df_subset = pd.DataFrame(distance_matrix_subset, index=df_subset.index, columns=df_subset.index)  # for further analysis/visualization"
   ],
   "outputs": [],
   "execution_count": 91
  },
  {
   "cell_type": "code",
   "metadata": {
    "ExecuteTime": {
     "end_time": "2025-10-15T04:56:45.450417Z",
     "start_time": "2025-10-15T04:56:45.441670Z"
    }
   },
   "source": [
    "distance_df_subset.head(10)"
   ],
   "outputs": [
    {
     "data": {
      "text/plain": [
       "          0         1         2         3         4         5         6  \\\n",
       "0  0.000000  5.411501  1.647504  1.386259  0.535901  3.202506  1.490782   \n",
       "1  5.411501  0.000000  5.685238  5.504988  5.389932  6.302105  5.424175   \n",
       "2  1.647504  5.685238  0.000000  1.746835  1.907625  2.604597  2.112877   \n",
       "3  1.386259  5.504988  1.746835  0.000000  1.532729  2.088981  1.468995   \n",
       "4  0.535901  5.389932  1.907625  1.532729  0.000000  3.494985  1.328473   \n",
       "5  3.202506  6.302105  2.604597  2.088981  3.494985  0.000000  3.334545   \n",
       "6  1.490782  5.424175  2.112877  1.468995  1.328473  3.334545  0.000000   \n",
       "7  1.058761  5.559505  2.022260  2.053186  0.900178  3.820431  2.105783   \n",
       "8  0.736872  5.335540  1.131943  1.557620  1.036735  3.040332  1.891490   \n",
       "9  7.436680  9.155271  6.754820  6.187577  7.686043  4.268806  7.304732   \n",
       "\n",
       "          7         8         9  \n",
       "0  1.058761  0.736872  7.436680  \n",
       "1  5.559505  5.335540  9.155271  \n",
       "2  2.022260  1.131943  6.754820  \n",
       "3  2.053186  1.557620  6.187577  \n",
       "4  0.900178  1.036735  7.686043  \n",
       "5  3.820431  3.040332  4.268806  \n",
       "6  2.105783  1.891490  7.304732  \n",
       "7  0.000000  1.071528  8.007255  \n",
       "8  1.071528  0.000000  7.295134  \n",
       "9  8.007255  7.295134  0.000000  "
      ],
      "text/html": [
       "<div>\n",
       "<style scoped>\n",
       "    .dataframe tbody tr th:only-of-type {\n",
       "        vertical-align: middle;\n",
       "    }\n",
       "\n",
       "    .dataframe tbody tr th {\n",
       "        vertical-align: top;\n",
       "    }\n",
       "\n",
       "    .dataframe thead th {\n",
       "        text-align: right;\n",
       "    }\n",
       "</style>\n",
       "<table border=\"1\" class=\"dataframe\">\n",
       "  <thead>\n",
       "    <tr style=\"text-align: right;\">\n",
       "      <th></th>\n",
       "      <th>0</th>\n",
       "      <th>1</th>\n",
       "      <th>2</th>\n",
       "      <th>3</th>\n",
       "      <th>4</th>\n",
       "      <th>5</th>\n",
       "      <th>6</th>\n",
       "      <th>7</th>\n",
       "      <th>8</th>\n",
       "      <th>9</th>\n",
       "    </tr>\n",
       "  </thead>\n",
       "  <tbody>\n",
       "    <tr>\n",
       "      <th>0</th>\n",
       "      <td>0.000000</td>\n",
       "      <td>5.411501</td>\n",
       "      <td>1.647504</td>\n",
       "      <td>1.386259</td>\n",
       "      <td>0.535901</td>\n",
       "      <td>3.202506</td>\n",
       "      <td>1.490782</td>\n",
       "      <td>1.058761</td>\n",
       "      <td>0.736872</td>\n",
       "      <td>7.436680</td>\n",
       "    </tr>\n",
       "    <tr>\n",
       "      <th>1</th>\n",
       "      <td>5.411501</td>\n",
       "      <td>0.000000</td>\n",
       "      <td>5.685238</td>\n",
       "      <td>5.504988</td>\n",
       "      <td>5.389932</td>\n",
       "      <td>6.302105</td>\n",
       "      <td>5.424175</td>\n",
       "      <td>5.559505</td>\n",
       "      <td>5.335540</td>\n",
       "      <td>9.155271</td>\n",
       "    </tr>\n",
       "    <tr>\n",
       "      <th>2</th>\n",
       "      <td>1.647504</td>\n",
       "      <td>5.685238</td>\n",
       "      <td>0.000000</td>\n",
       "      <td>1.746835</td>\n",
       "      <td>1.907625</td>\n",
       "      <td>2.604597</td>\n",
       "      <td>2.112877</td>\n",
       "      <td>2.022260</td>\n",
       "      <td>1.131943</td>\n",
       "      <td>6.754820</td>\n",
       "    </tr>\n",
       "    <tr>\n",
       "      <th>3</th>\n",
       "      <td>1.386259</td>\n",
       "      <td>5.504988</td>\n",
       "      <td>1.746835</td>\n",
       "      <td>0.000000</td>\n",
       "      <td>1.532729</td>\n",
       "      <td>2.088981</td>\n",
       "      <td>1.468995</td>\n",
       "      <td>2.053186</td>\n",
       "      <td>1.557620</td>\n",
       "      <td>6.187577</td>\n",
       "    </tr>\n",
       "    <tr>\n",
       "      <th>4</th>\n",
       "      <td>0.535901</td>\n",
       "      <td>5.389932</td>\n",
       "      <td>1.907625</td>\n",
       "      <td>1.532729</td>\n",
       "      <td>0.000000</td>\n",
       "      <td>3.494985</td>\n",
       "      <td>1.328473</td>\n",
       "      <td>0.900178</td>\n",
       "      <td>1.036735</td>\n",
       "      <td>7.686043</td>\n",
       "    </tr>\n",
       "    <tr>\n",
       "      <th>5</th>\n",
       "      <td>3.202506</td>\n",
       "      <td>6.302105</td>\n",
       "      <td>2.604597</td>\n",
       "      <td>2.088981</td>\n",
       "      <td>3.494985</td>\n",
       "      <td>0.000000</td>\n",
       "      <td>3.334545</td>\n",
       "      <td>3.820431</td>\n",
       "      <td>3.040332</td>\n",
       "      <td>4.268806</td>\n",
       "    </tr>\n",
       "    <tr>\n",
       "      <th>6</th>\n",
       "      <td>1.490782</td>\n",
       "      <td>5.424175</td>\n",
       "      <td>2.112877</td>\n",
       "      <td>1.468995</td>\n",
       "      <td>1.328473</td>\n",
       "      <td>3.334545</td>\n",
       "      <td>0.000000</td>\n",
       "      <td>2.105783</td>\n",
       "      <td>1.891490</td>\n",
       "      <td>7.304732</td>\n",
       "    </tr>\n",
       "    <tr>\n",
       "      <th>7</th>\n",
       "      <td>1.058761</td>\n",
       "      <td>5.559505</td>\n",
       "      <td>2.022260</td>\n",
       "      <td>2.053186</td>\n",
       "      <td>0.900178</td>\n",
       "      <td>3.820431</td>\n",
       "      <td>2.105783</td>\n",
       "      <td>0.000000</td>\n",
       "      <td>1.071528</td>\n",
       "      <td>8.007255</td>\n",
       "    </tr>\n",
       "    <tr>\n",
       "      <th>8</th>\n",
       "      <td>0.736872</td>\n",
       "      <td>5.335540</td>\n",
       "      <td>1.131943</td>\n",
       "      <td>1.557620</td>\n",
       "      <td>1.036735</td>\n",
       "      <td>3.040332</td>\n",
       "      <td>1.891490</td>\n",
       "      <td>1.071528</td>\n",
       "      <td>0.000000</td>\n",
       "      <td>7.295134</td>\n",
       "    </tr>\n",
       "    <tr>\n",
       "      <th>9</th>\n",
       "      <td>7.436680</td>\n",
       "      <td>9.155271</td>\n",
       "      <td>6.754820</td>\n",
       "      <td>6.187577</td>\n",
       "      <td>7.686043</td>\n",
       "      <td>4.268806</td>\n",
       "      <td>7.304732</td>\n",
       "      <td>8.007255</td>\n",
       "      <td>7.295134</td>\n",
       "      <td>0.000000</td>\n",
       "    </tr>\n",
       "  </tbody>\n",
       "</table>\n",
       "</div>"
      ]
     },
     "execution_count": 92,
     "metadata": {},
     "output_type": "execute_result"
    }
   ],
   "execution_count": 92
  },
  {
   "cell_type": "code",
   "metadata": {
    "ExecuteTime": {
     "end_time": "2025-10-15T04:56:45.654846Z",
     "start_time": "2025-10-15T04:56:45.494199Z"
    }
   },
   "source": [
    "plt.figure(figsize=(10, 8))\n",
    "sns.heatmap(distance_df_subset, cmap='coolwarm', linewidths=0.5)\n",
    "plt.title(\"Distance Matrix Heatmap\")\n",
    "plt.xlabel(\"Listing Index\")\n",
    "plt.ylabel(\"Listing Index\")\n",
    "plt.gca().invert_yaxis()\n",
    "plt.show()"
   ],
   "outputs": [
    {
     "data": {
      "text/plain": [
       "<Figure size 1000x800 with 2 Axes>"
      ],
      "image/png": "[encoded data removed]"
     },
     "metadata": {},
     "output_type": "display_data",
     "jetTransient": {
      "display_id": null
     }
    }
   ],
   "execution_count": 93
  },
  {
   "cell_type": "markdown",
   "metadata": {},
   "source": [
    "# Data Mining\n",
    "\n",
    "The apriori algorithm will only be used to extract for the frequent item sets."
   ]
  },
  {
   "cell_type": "code",
   "metadata": {
    "ExecuteTime": {
     "end_time": "2025-10-15T04:56:45.694063Z",
     "start_time": "2025-10-15T04:56:45.690911Z"
    }
   },
   "source": [
    "def tokenize_amenities(amenities):\n",
    "    amenities_list = amenities.split(', ')\n",
    "    cleaned_list = [a.strip().lower() for a in amenities_list if a.strip()]\n",
    "    return sorted(cleaned_list)"
   ],
   "outputs": [],
   "execution_count": 94
  },
  {
   "cell_type": "code",
   "metadata": {
    "ExecuteTime": {
     "end_time": "2025-10-15T04:56:45.864949Z",
     "start_time": "2025-10-15T04:56:45.721423Z"
    }
   },
   "source": [
    "# ensure amenities is properly tokenized\n",
    "df_cleaned['cleaned_amenities'] = df_cleaned['cleaned_amenities'].apply(tokenize_amenities)\n",
    "df_cleaned[['cleaned_amenities']].head()"
   ],
   "outputs": [
    {
     "data": {
      "text/plain": [
       "                                   cleaned_amenities\n",
       "0  [air conditioning, bed linens, body soap, ceil...\n",
       "1    [air conditioning, elevator, kitchen, tv, wifi]\n",
       "2  [32, clothing storage wardrobe, cooking basics...\n",
       "3  [air conditioning, bathtub, bed linens, buildi...\n",
       "4  [bed linens, blender, books and reading materi..."
      ],
      "text/html": [
       "<div>\n",
       "<style scoped>\n",
       "    .dataframe tbody tr th:only-of-type {\n",
       "        vertical-align: middle;\n",
       "    }\n",
       "\n",
       "    .dataframe tbody tr th {\n",
       "        vertical-align: top;\n",
       "    }\n",
       "\n",
       "    .dataframe thead th {\n",
       "        text-align: right;\n",
       "    }\n",
       "</style>\n",
       "<table border=\"1\" class=\"dataframe\">\n",
       "  <thead>\n",
       "    <tr style=\"text-align: right;\">\n",
       "      <th></th>\n",
       "      <th>cleaned_amenities</th>\n",
       "    </tr>\n",
       "  </thead>\n",
       "  <tbody>\n",
       "    <tr>\n",
       "      <th>0</th>\n",
       "      <td>[air conditioning, bed linens, body soap, ceil...</td>\n",
       "    </tr>\n",
       "    <tr>\n",
       "      <th>1</th>\n",
       "      <td>[air conditioning, elevator, kitchen, tv, wifi]</td>\n",
       "    </tr>\n",
       "    <tr>\n",
       "      <th>2</th>\n",
       "      <td>[32, clothing storage wardrobe, cooking basics...</td>\n",
       "    </tr>\n",
       "    <tr>\n",
       "      <th>3</th>\n",
       "      <td>[air conditioning, bathtub, bed linens, buildi...</td>\n",
       "    </tr>\n",
       "    <tr>\n",
       "      <th>4</th>\n",
       "      <td>[bed linens, blender, books and reading materi...</td>\n",
       "    </tr>\n",
       "  </tbody>\n",
       "</table>\n",
       "</div>"
      ]
     },
     "execution_count": 95,
     "metadata": {},
     "output_type": "execute_result"
    }
   ],
   "execution_count": 95
  },
  {
   "cell_type": "code",
   "metadata": {
    "ExecuteTime": {
     "end_time": "2025-10-15T04:56:45.915018Z",
     "start_time": "2025-10-15T04:56:45.910578Z"
    }
   },
   "source": [
    "transactions = df_cleaned['cleaned_amenities'].tolist()\n",
    "ratings = df_cleaned['average_ratings'].tolist()\n",
    "min_support = 0.1 * len(df_cleaned)"
   ],
   "outputs": [],
   "execution_count": 96
  },
  {
   "cell_type": "code",
   "metadata": {
    "ExecuteTime": {
     "end_time": "2025-10-15T04:56:46.184989Z",
     "start_time": "2025-10-15T04:56:46.045475Z"
    }
   },
   "source": [
    "amenity_counts = Counter()\n",
    "for amenities in df_cleaned['cleaned_amenities']:\n",
    "    for amenity in amenities:\n",
    "        amenity_counts[amenity] += 1\n",
    "\n",
    "print(amenity_counts.most_common(10))"
   ],
   "outputs": [
    {
     "name": "stdout",
     "output_type": "stream",
     "text": [
      "[('wifi', 18534), ('kitchen', 18049), ('hangers', 15747), ('essentials', 15471), ('dishes and silverware', 15441), ('cooking basics', 14146), ('bed linens', 13649), ('hot water', 13273), ('iron', 13157), ('elevator', 13116)]\n"
     ]
    }
   ],
   "execution_count": 97
  },
  {
   "cell_type": "code",
   "metadata": {
    "ExecuteTime": {
     "end_time": "2025-10-15T04:56:46.310376Z",
     "start_time": "2025-10-15T04:56:46.192861Z"
    }
   },
   "source": [
    "# 1 item set\n",
    "item_counts = Counter()\n",
    "for t in transactions:\n",
    "    for item in t:\n",
    "        item_counts[item] += 1\n",
    "\n",
    "freq_1 = {item for item, count in item_counts.items() if count >= min_support}  # filter\n",
    "print(sorted(freq_1))"
   ],
   "outputs": [
    {
     "name": "stdout",
     "output_type": "stream",
     "text": [
      "['ac - split type ductless system', 'air conditioning', 'baking sheet', 'bbq grill', 'beach access', 'bed linens', 'blender', 'body soap', 'building staff', 'ceiling fan', 'cleaning products', 'clothing storage wardrobe', 'coffee', 'coffee maker', 'cooking basics', 'dedicated workspace', 'dining table', 'dishes and silverware', 'drying rack for clothing', 'elevator', 'essentials', 'ethernet connection', 'extra pillows and blankets', 'fire extinguisher', 'first aid kit', 'free parking on premises', 'free street parking', 'free washer u2013 in unit', 'freezer', 'hair dryer', 'hangers', 'host greets you', 'hot water', 'iron', 'kitchen', 'laundromat nearby', 'lock on bedroom door', 'long term stays allowed', 'luggage dropoff allowed', 'microwave', 'oven', 'pets allowed', 'portable fans', 'private entrance', 'private patio or balcony', 'public or shared beach access', 'refrigerator', 'room-darkening shades', 'security cameras on property', 'self check-in', 'shampoo', 'smoke alarm', 'smoking allowed', 'stove', 'toaster', 'tv', 'tv with standard cable', 'washer', 'wifi', 'wine glasses']\n"
     ]
    }
   ],
   "execution_count": 98
  },
  {
   "cell_type": "code",
   "metadata": {
    "ExecuteTime": {
     "end_time": "2025-10-15T04:56:47.241213Z",
     "start_time": "2025-10-15T04:56:46.328591Z"
    }
   },
   "source": [
    "# get 2 item sets\n",
    "combo2_counts = defaultdict(list)\n",
    "for t, rating in zip(transactions, ratings):\n",
    "    filtered = sorted([i for i in t if i in freq_1])\n",
    "    for combo in combinations(filtered, 2):\n",
    "        combo2_counts[combo].append(rating)\n",
    "\n",
    "freq_2 = {combo: ratings for combo, ratings in combo2_counts.items() if len(ratings) >= min_support}  # since len(ratings) show how many times that combo was rated\n",
    "for i, (combo, ratings) in enumerate(freq_2.items()):\n",
    "    if i == 10: break  # print top 10\n",
    "    print(f'{combo}: {ratings[:5]}')"
   ],
   "outputs": [
    {
     "name": "stdout",
     "output_type": "stream",
     "text": [
      "('air conditioning', 'bed linens'): [4.83, 4.76, 4.61, 4.83, 4.73]\n",
      "('air conditioning', 'dining table'): [4.83, 4.83, 4.73, 4.85, 4.91]\n",
      "('air conditioning', 'dishes and silverware'): [4.83, 4.76, 4.61, 4.81, 4.77]\n",
      "('air conditioning', 'elevator'): [4.83, 4.71, 4.76, 4.61, 4.81]\n",
      "('air conditioning', 'essentials'): [4.83, 4.76, 4.61, 4.81, 4.77]\n",
      "('air conditioning', 'extra pillows and blankets'): [4.83, 4.61, 4.83, 4.73, 4.53]\n",
      "('air conditioning', 'hair dryer'): [4.83, 4.76, 4.61, 4.81, 4.77]\n",
      "('air conditioning', 'hangers'): [4.83, 4.76, 4.61, 4.81, 4.77]\n",
      "('air conditioning', 'hot water'): [4.83, 4.76, 4.61, 4.81, 4.77]\n",
      "('air conditioning', 'iron'): [4.83, 4.76, 4.61, 4.81, 4.77]\n"
     ]
    }
   ],
   "execution_count": 99
  },
  {
   "cell_type": "code",
   "metadata": {
    "ExecuteTime": {
     "end_time": "2025-10-15T04:57:07.336129Z",
     "start_time": "2025-10-15T04:56:49.226251Z"
    }
   },
   "source": [
    "# get 3 item sets\n",
    "combo3_counts = defaultdict(list)\n",
    "for t, rating in zip(transactions, ratings):\n",
    "    filtered = sorted([i for i in t if i in freq_1])\n",
    "    for combo in combinations(filtered, 3):\n",
    "        pairs = list(combinations(combo, 2))\n",
    "        if all(p in freq_2 for p in pairs):\n",
    "            combo3_counts[combo].append(rating)\n",
    "\n",
    "freq_3 = {combo: ratings for combo, ratings in combo3_counts.items() if len(ratings) >= min_support}  # filter\n",
    "for i, (combo, ratings) in enumerate(freq_3.items()):\n",
    "    if i == 10: break  # print top 10\n",
    "    print(f'{combo}: {ratings[:5]}')"
   ],
   "outputs": [
    {
     "name": "stdout",
     "output_type": "stream",
     "text": [
      "('air conditioning', 'bed linens', 'dishes and silverware'): [4.83, 4.61, 4.83, 4.78, 4.75]\n",
      "('air conditioning', 'bed linens', 'essentials'): [4.83, 4.61, 4.83, 4.78, 4.75]\n",
      "('air conditioning', 'bed linens', 'hangers'): [4.83, 4.61, 4.83, 4.78, 4.75]\n",
      "('air conditioning', 'bed linens', 'hot water'): [4.83, 4.61, 4.83, 4.78, 4.75]\n",
      "('air conditioning', 'bed linens', 'iron'): [4.83, 4.61, 4.83, 4.78, 4.75]\n",
      "('air conditioning', 'bed linens', 'kitchen'): [4.83, 4.61, 4.83, 4.78, 4.75]\n",
      "('air conditioning', 'bed linens', 'refrigerator'): [4.83, 4.61, 4.83, 4.78, 4.82]\n",
      "('air conditioning', 'bed linens', 'wifi'): [4.83, 4.61, 4.83, 4.78, 4.75]\n",
      "('air conditioning', 'dishes and silverware', 'elevator'): [4.83, 4.61, 4.83, 4.86, 4.76]\n",
      "('air conditioning', 'dishes and silverware', 'essentials'): [4.83, 4.61, 4.83, 4.86, 4.76]\n"
     ]
    }
   ],
   "execution_count": 100
  },
  {
   "cell_type": "code",
   "metadata": {
    "ExecuteTime": {
     "end_time": "2025-10-15T04:57:07.413979Z",
     "start_time": "2025-10-15T04:57:07.373197Z"
    }
   },
   "source": [
    "# combine item sets and compute for average rating\n",
    "combo_ratings = {}\n",
    "for combo_dict in [freq_2, freq_3]:\n",
    "    for combo, rating_list in combo_dict.items():\n",
    "        combo_ratings[combo] = sum(rating_list) / len(rating_list)\n",
    "\n",
    "for combo, avg_rating in list(combo_ratings.items())[:10]:\n",
    "    print(f\"{combo}: {avg_rating:.2f}\")"
   ],
   "outputs": [
    {
     "name": "stdout",
     "output_type": "stream",
     "text": [
      "('air conditioning', 'bed linens'): 4.80\n",
      "('air conditioning', 'dining table'): 4.82\n",
      "('air conditioning', 'dishes and silverware'): 4.81\n",
      "('air conditioning', 'elevator'): 4.79\n",
      "('air conditioning', 'essentials'): 4.79\n",
      "('air conditioning', 'extra pillows and blankets'): 4.82\n",
      "('air conditioning', 'hair dryer'): 4.81\n",
      "('air conditioning', 'hangers'): 4.80\n",
      "('air conditioning', 'hot water'): 4.80\n",
      "('air conditioning', 'iron'): 4.80\n"
     ]
    }
   ],
   "execution_count": 101
  },
  {
   "cell_type": "code",
   "metadata": {
    "ExecuteTime": {
     "end_time": "2025-10-15T04:57:07.446002Z",
     "start_time": "2025-10-15T04:57:07.434281Z"
    }
   },
   "source": [
    "combo_ratings_df = pd.DataFrame(combo_ratings.items(), columns=['Amenity Combination', 'Average Rating'])\n",
    "combo_ratings_df = combo_ratings_df.sort_values(by='Average Rating', ascending=False)\n",
    "combo_ratings_df"
   ],
   "outputs": [
    {
     "data": {
      "text/plain": [
       "                           Amenity Combination  Average Rating\n",
       "633                 (hair dryer, wine glasses)        4.875628\n",
       "678            (coffee, room-darkening shades)        4.875186\n",
       "676  (clothing storage wardrobe, wine glasses)        4.874832\n",
       "312    (clothing storage wardrobe, hair dryer)        4.873406\n",
       "429      (room-darkening shades, wine glasses)        4.871740\n",
       "..                                         ...             ...\n",
       "707           (air conditioning, pets allowed)        4.764842\n",
       "708                         (pets allowed, tv)        4.761087\n",
       "717                      (smoking allowed, tv)        4.760236\n",
       "528                  (smoking allowed, washer)        4.757339\n",
       "158        (air conditioning, smoking allowed)        4.757123\n",
       "\n",
       "[1511 rows x 2 columns]"
      ],
      "text/html": [
       "<div>\n",
       "<style scoped>\n",
       "    .dataframe tbody tr th:only-of-type {\n",
       "        vertical-align: middle;\n",
       "    }\n",
       "\n",
       "    .dataframe tbody tr th {\n",
       "        vertical-align: top;\n",
       "    }\n",
       "\n",
       "    .dataframe thead th {\n",
       "        text-align: right;\n",
       "    }\n",
       "</style>\n",
       "<table border=\"1\" class=\"dataframe\">\n",
       "  <thead>\n",
       "    <tr style=\"text-align: right;\">\n",
       "      <th></th>\n",
       "      <th>Amenity Combination</th>\n",
       "      <th>Average Rating</th>\n",
       "    </tr>\n",
       "  </thead>\n",
       "  <tbody>\n",
       "    <tr>\n",
       "      <th>633</th>\n",
       "      <td>(hair dryer, wine glasses)</td>\n",
       "      <td>4.875628</td>\n",
       "    </tr>\n",
       "    <tr>\n",
       "      <th>678</th>\n",
       "      <td>(coffee, room-darkening shades)</td>\n",
       "      <td>4.875186</td>\n",
       "    </tr>\n",
       "    <tr>\n",
       "      <th>676</th>\n",
       "      <td>(clothing storage wardrobe, wine glasses)</td>\n",
       "      <td>4.874832</td>\n",
       "    </tr>\n",
       "    <tr>\n",
       "      <th>312</th>\n",
       "      <td>(clothing storage wardrobe, hair dryer)</td>\n",
       "      <td>4.873406</td>\n",
       "    </tr>\n",
       "    <tr>\n",
       "      <th>429</th>\n",
       "      <td>(room-darkening shades, wine glasses)</td>\n",
       "      <td>4.871740</td>\n",
       "    </tr>\n",
       "    <tr>\n",
       "      <th>...</th>\n",
       "      <td>...</td>\n",
       "      <td>...</td>\n",
       "    </tr>\n",
       "    <tr>\n",
       "      <th>707</th>\n",
       "      <td>(air conditioning, pets allowed)</td>\n",
       "      <td>4.764842</td>\n",
       "    </tr>\n",
       "    <tr>\n",
       "      <th>708</th>\n",
       "      <td>(pets allowed, tv)</td>\n",
       "      <td>4.761087</td>\n",
       "    </tr>\n",
       "    <tr>\n",
       "      <th>717</th>\n",
       "      <td>(smoking allowed, tv)</td>\n",
       "      <td>4.760236</td>\n",
       "    </tr>\n",
       "    <tr>\n",
       "      <th>528</th>\n",
       "      <td>(smoking allowed, washer)</td>\n",
       "      <td>4.757339</td>\n",
       "    </tr>\n",
       "    <tr>\n",
       "      <th>158</th>\n",
       "      <td>(air conditioning, smoking allowed)</td>\n",
       "      <td>4.757123</td>\n",
       "    </tr>\n",
       "  </tbody>\n",
       "</table>\n",
       "<p>1511 rows × 2 columns</p>\n",
       "</div>"
      ]
     },
     "execution_count": 102,
     "metadata": {},
     "output_type": "execute_result"
    }
   ],
   "execution_count": 102
  },
  {
   "cell_type": "code",
   "metadata": {
    "ExecuteTime": {
     "end_time": "2025-10-15T04:57:07.511113Z",
     "start_time": "2025-10-15T04:57:07.506239Z"
    }
   },
   "source": [
    "# get top 10 only for relevance\n",
    "top_10_combinations = combo_ratings_df.head(10)\n",
    "\n",
    "# count occurence of each amenity in the top 10 for visualization\n",
    "amenity_counter = Counter()\n",
    "for combo in top_10_combinations['Amenity Combination']:\n",
    "    for amenity in combo:\n",
    "        amenity_counter[amenity] += 1\n",
    "\n",
    "# convert to dataframe and sort\n",
    "top_amenities_df = pd.DataFrame(amenity_counter.items(), columns=['Amenity', 'Frequency'])\n",
    "top_amenities_df = top_amenities_df.sort_values(by='Frequency', ascending=False)"
   ],
   "outputs": [],
   "execution_count": 103
  },
  {
   "cell_type": "code",
   "metadata": {
    "ExecuteTime": {
     "end_time": "2025-10-15T04:57:07.716448Z",
     "start_time": "2025-10-15T04:57:07.583359Z"
    }
   },
   "source": [
    "# top 10 amenity combinations by average rating\n",
    "plt.figure(figsize=(8, 6))\n",
    "plt.barh(top_10_combinations['Amenity Combination'].astype(str), top_10_combinations['Average Rating'], color='skyblue')\n",
    "plt.xlabel('Average Rating')\n",
    "plt.ylabel('Amenity Combination')\n",
    "plt.title('Top 10 Amenity Combinations by Average Rating')\n",
    "plt.xlim(top_10_combinations['Average Rating'].min() - 0.001, top_10_combinations['Average Rating'].max() * 1.0001)  # to emphasize difference\n",
    "plt.gca().invert_yaxis()\n",
    "plt.show()"
   ],
   "outputs": [
    {
     "data": {
      "text/plain": [
       "<Figure size 800x600 with 1 Axes>"
      ],
      "image/png": "[encoded data removed]"
     },
     "metadata": {},
     "output_type": "display_data",
     "jetTransient": {
      "display_id": null
     }
    }
   ],
   "execution_count": 104
  },
  {
   "cell_type": "markdown",
   "metadata": {},
   "source": [
    "The horizontal bar chart showcases the top 10 amenity combinations ranked by their average ratings in Airbnb listings. Among these, the highest-rated combination includes **hair dryer**, and **wine glasses**. This suggests that listings offering these amenities tend to receive higher ratings compared to other combinations, and must be primary considerations for AirBnB hosts looking to provide premium experiences with comfort and convenience.\n",
    "\n",
    "Other highly-rated amenity combinations include **coffee**, **room-darkening shades**, as well as **clothing storage**. While these plus the others seem to be only minor products or features that can be offered, their presence among the highly rated combinations speaks of how much guests value having these amenities provided to them for convenience and comfort.\n",
    "\n",
    "Additionally, The presence of essential amenities such as **body soap** and **cleaning products** appears to be a common trend among the highest-rated listings, which show that small additional essentials make a difference for better experience."
   ]
  },
  {
   "cell_type": "code",
   "metadata": {
    "ExecuteTime": {
     "end_time": "2025-10-15T04:57:07.861869Z",
     "start_time": "2025-10-15T04:57:07.752667Z"
    }
   },
   "source": [
    "# top frequent amenities in combinations\n",
    "plt.figure(figsize=(8, 6))\n",
    "top_amenities_df = top_amenities_df.sort_values(by='Frequency', ascending=True)  # sort before plotting\n",
    "plt.barh(top_amenities_df['Amenity'], top_amenities_df['Frequency'], color='lightcoral')\n",
    "plt.xlabel('Frequency')\n",
    "plt.ylabel('Amenity')\n",
    "plt.title('Top Frequent Amenities in Highly Rated Combinations')\n",
    "plt.show()"
   ],
   "outputs": [
    {
     "data": {
      "text/plain": [
       "<Figure size 800x600 with 1 Axes>"
      ],
      "image/png": "[encoded data removed]"
     },
     "metadata": {},
     "output_type": "display_data",
     "jetTransient": {
      "display_id": null
     }
    }
   ],
   "execution_count": 105
  },
  {
   "cell_type": "markdown",
   "metadata": {},
   "source": [
    "This horizontal bar chart illustrates the most frequent amenities found in the top-rated amenity combinations for Airbnb listings. Each amenity's frequency reflects its importance, as these features repeatedly appear in highly rated listings.\n",
    "\n",
    "The most frequent amenity is **wine glasses**, followed by **hair dryer**. This suggests that guests like to experience some convenience and luxury during their airbnb stay. Other frequently appearing amenities, such as **drying rack for clothing**, **clothing storage wardrobe**, and **room darkening shades**, highlight the importance of convenience and privacy control.\n",
    "\n",
    "These findings indicate that guests tend to value a combination of convenience, relaxation, and practicality when booking an Airbnb. Hosts looking to enhance their ratings may benefit from incorporating these amenities into their listings."
   ]
  }
 ],
 "metadata": {
  "deepnote_notebook_id": "187a331357ac416d9d8abf6b98391bde",
  "deepnote_persisted_session": {
   "createdAt": "2025-03-11T11:22:15.109Z"
  },
  "kernelspec": {
   "display_name": "Python 3 (ipykernel)",
   "language": "python",
   "name": "python3"
  },
  "language_info": {
   "codemirror_mode": {
    "name": "ipython",
    "version": 3
   },
   "file_extension": ".py",
   "mimetype": "text/x-python",
   "name": "python",
   "nbconvert_exporter": "python",
   "pygments_lexer": "ipython3",
   "version": "3.12.9"
  }
 },
 "nbformat": 4,
 "nbformat_minor": 4
}
