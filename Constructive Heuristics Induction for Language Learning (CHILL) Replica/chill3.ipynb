{
 "cells": [
  {
   "cell_type": "code",
   "id": "initial_id",
   "metadata": {
    "collapsed": true,
    "ExecuteTime": {
     "end_time": "2025-02-25T09:03:39.888583Z",
     "start_time": "2025-02-25T09:03:36.377304Z"
    }
   },
   "source": [
    "from nltk.tokenize import word_tokenize\n",
    "from nltk.tag import pos_tag\n",
    "import spacy"
   ],
   "outputs": [],
   "execution_count": 1
  },
  {
   "metadata": {
    "ExecuteTime": {
     "end_time": "2025-02-25T09:03:40.342209Z",
     "start_time": "2025-02-25T09:03:39.891771Z"
    }
   },
   "cell_type": "code",
   "source": "nlp = spacy.load(\"en_core_web_sm\")  # for NER",
   "id": "6685ae51b048d4c5",
   "outputs": [],
   "execution_count": 2
  },
  {
   "metadata": {
    "ExecuteTime": {
     "end_time": "2025-02-25T09:03:40.694743Z",
     "start_time": "2025-02-25T09:03:40.686512Z"
    }
   },
   "cell_type": "code",
   "source": [
    "class CHILL_NLP:\n",
    "    def __init__(self, training_questions, training_labels):\n",
    "        self.query_templates = {\n",
    "            \"SELECT\": \"SELECT {columns} FROM {table} WHERE {condition};\",\n",
    "            \"COUNT\": \"SELECT COUNT(*) FROM {table} WHERE {condition};\",\n",
    "            \"MAX\": \"SELECT MAX({column}) FROM {table} WHERE {condition};\",\n",
    "            \"MIN\": \"SELECT MIN({column}) FROM {table} WHERE {condition};\",\n",
    "            \"AVG\": \"SELECT AVG({column}) FROM {table} WHERE {condition};\",\n",
    "            \"SUM\": \"SELECT SUM({column}) FROM {table} WHERE {condition};\"\n",
    "        }\n",
    "        self.nlp = spacy.load(\"en_core_web_sm\")\n",
    "\n",
    "        # Dictionary to classify locations\n",
    "        self.location_types = {\n",
    "            \"Quezon City\": \"city\",\n",
    "            \"Manila City\": \"city\",\n",
    "            \"Cebu City\": \"city\",\n",
    "            \"NCR\": \"region\",\n",
    "            \"Luzon\": \"island\",\n",
    "            \"Visayas\": \"island\",\n",
    "            \"Mindanao\": \"island\",\n",
    "            \"Palawan\": \"province\",\n",
    "            \"Cebu\": \"province\",\n",
    "            \"Davao\": \"province\",\n",
    "            \"Bulacan\": \"province\",\n",
    "        }\n",
    "\n",
    "    def process_question(self, question):\n",
    "        \"\"\"Tokenizes and POS tags the input question.\"\"\"\n",
    "        tokens = word_tokenize(question)\n",
    "        tagged = pos_tag(tokens)\n",
    "        return tokens, tagged\n",
    "\n",
    "    def extract_location(self, question):\n",
    "        \"\"\"Uses spaCy's Named Entity Recognition (NER) for better location extraction.\"\"\"\n",
    "        doc = self.nlp(question)\n",
    "        locations = [ent.text for ent in doc.ents if ent.label_ in [\"GPE\", \"LOC\"]]\n",
    "        return locations[0] if locations else None  # Return first detected location\n",
    "\n",
    "    def get_location_condition(self, location):\n",
    "        \"\"\"Determines the correct SQL condition based on location type.\"\"\"\n",
    "        if location in self.location_types:\n",
    "            location_type = self.location_types[location]\n",
    "            return f\"{location_type} = '{location}'\"\n",
    "        return None\n",
    "\n",
    "    def parse_question(self, question):\n",
    "        \"\"\"Determines SQL intent and extracts query components.\"\"\"\n",
    "        tokens, tagged = self.process_question(question)\n",
    "        table, column, condition = \"philippines_db\", None, None  # Default condition as None\n",
    "\n",
    "        # Extract location\n",
    "        location = self.extract_location(question)\n",
    "        if location:\n",
    "            condition = self.get_location_condition(location)\n",
    "\n",
    "        # Identify query type\n",
    "        intent = \"SELECT\"  # Default intent\n",
    "\n",
    "        if \"population\" in tokens:\n",
    "            column = \"population\"\n",
    "        elif \"capital\" in tokens:\n",
    "            column = \"capital\"\n",
    "        elif \"barangay\" in tokens or \"barangays\" in tokens:\n",
    "            column = \"barangay_count\"\n",
    "            intent = \"COUNT\"\n",
    "        elif \"area\" in tokens:\n",
    "            column = \"land_area\"\n",
    "        elif \"literacy\" in tokens:\n",
    "            column = \"literacy_rate\"\n",
    "        elif \"average\" in tokens:\n",
    "            column = \"some_numeric_column\"  # Default for averaging\n",
    "            intent = \"AVG\"\n",
    "        elif \"total\" in tokens or \"sum\" in tokens:\n",
    "            column = \"some_numeric_column\"  # Default for summing\n",
    "            intent = \"SUM\"\n",
    "\n",
    "        # If no valid location is found, set a generic condition\n",
    "        if condition is None:\n",
    "            if \"city\" in tokens or \"cities\" in tokens:\n",
    "                condition = \"city IS NOT NULL\"\n",
    "            elif \"province\" in tokens or \"provinces\" in tokens:\n",
    "                condition = \"province IS NOT NULL\"\n",
    "            elif \"region\" in tokens or \"regions\" in tokens:\n",
    "                condition = \"region IS NOT NULL\"\n",
    "            elif \"island\" in tokens or \"islands\" in tokens:\n",
    "                condition = \"island IS NOT NULL\"\n",
    "            else:\n",
    "                condition = \"1=1\"  # Last fallback\n",
    "\n",
    "        # Ensure column is properly assigned for non-COUNT queries\n",
    "        if intent in [\"SELECT\", \"MAX\", \"MIN\", \"AVG\", \"SUM\"] and column is None:\n",
    "            raise KeyError(f\"Column not defined for intent '{intent}' in question: '{question}'\")\n",
    "\n",
    "        # Ensure intent exists in query_templates\n",
    "        if intent not in self.query_templates:\n",
    "            raise ValueError(f\"Unknown intent '{intent}' derived from question: {question}\")\n",
    "\n",
    "        return self.query_templates[intent].format(columns=column, table=table, condition=condition)\n",
    "\n",
    "    def generate_sql(self, question):\n",
    "        \"\"\"Converts a natural language question to an SQL query.\"\"\"\n",
    "        return self.parse_question(question)"
   ],
   "id": "a5bb8217eac333e8",
   "outputs": [],
   "execution_count": 3
  },
  {
   "metadata": {
    "ExecuteTime": {
     "end_time": "2025-02-25T09:03:40.704092Z",
     "start_time": "2025-02-25T09:03:40.700438Z"
    }
   },
   "cell_type": "code",
   "source": [
    "training_questions = [\n",
    "    \"What is the population of Manila?\",\n",
    "    \"How many cities are in Luzon?\",\n",
    "    \"Which province has the highest population?\",\n",
    "    \"What is the capital of Cebu?\",\n",
    "    \"What are the major tourist spots in Palawan?\",\n",
    "    \"How many barangays are in Quezon City?\",\n",
    "    \"Which city has the largest land area?\",\n",
    "    \"What is the literacy rate in Metro Manila?\",\n",
    "    \"Which island has the most provinces?\",\n",
    "    \"What is the GDP of the Philippines?\"\n",
    "]\n",
    "\n",
    "training_labels = [\n",
    "    \"SELECT\",  # \"What is the population of Manila?\"\n",
    "    \"COUNT\",   # \"How many cities are in Luzon?\"\n",
    "    \"MAX\",     # \"Which province has the highest population?\"\n",
    "    \"SELECT\",  # \"What is the capital of Cebu?\"\n",
    "    \"SELECT\",  # \"What are the major tourist spots in Palawan?\"\n",
    "    \"COUNT\",   # \"How many barangays are in Quezon City?\"\n",
    "    \"MAX\",     # \"Which city has the largest land area?\"\n",
    "    \"SELECT\",  # \"What is the literacy rate in Metro Manila?\"\n",
    "    \"MAX\",     # \"Which island has the most provinces?\"\n",
    "    \"SELECT\"   # \"What is the GDP of the Philippines?\"\n",
    "]"
   ],
   "id": "34932e635e192ba3",
   "outputs": [],
   "execution_count": 4
  },
  {
   "metadata": {
    "ExecuteTime": {
     "end_time": "2025-02-25T09:03:41.185319Z",
     "start_time": "2025-02-25T09:03:40.710199Z"
    }
   },
   "cell_type": "code",
   "source": "chill_nlp = CHILL_NLP(training_questions, training_labels)",
   "id": "658b462f2a92987e",
   "outputs": [],
   "execution_count": 5
  },
  {
   "metadata": {
    "ExecuteTime": {
     "end_time": "2025-02-25T09:03:41.338323Z",
     "start_time": "2025-02-25T09:03:41.192268Z"
    }
   },
   "cell_type": "code",
   "source": [
    "# Example Questions\n",
    "example_questions = [\n",
    "    \"What is the population of Quezon City?\",\n",
    "    \"How many barangays are in Manila City?\",\n",
    "    \"What is the total land area of Luzon?\",\n",
    "    \"What is the capital of Cebu?\",\n",
    "    \"What is the literacy rate in Bulacan?\"\n",
    "]\n",
    "\n",
    "for q in example_questions:\n",
    "    try:\n",
    "        sql_query = chill_nlp.generate_sql(q)\n",
    "        print(f\"Question: {q}\\nSQL Query: {sql_query}\\n\")\n",
    "    except Exception as e:\n",
    "        print(f\"Error processing question '{q}': {e}\")"
   ],
   "id": "601fc12431cf36dc",
   "outputs": [
    {
     "name": "stdout",
     "output_type": "stream",
     "text": [
      "Question: What is the population of Quezon City?\n",
      "SQL Query: SELECT population FROM philippines_db WHERE city = 'Quezon City';\n",
      "\n",
      "Question: How many barangays are in Manila City?\n",
      "SQL Query: SELECT COUNT(*) FROM philippines_db WHERE city = 'Manila City';\n",
      "\n",
      "Question: What is the total land area of Luzon?\n",
      "SQL Query: SELECT land_area FROM philippines_db WHERE island = 'Luzon';\n",
      "\n",
      "Question: What is the capital of Cebu?\n",
      "SQL Query: SELECT capital FROM philippines_db WHERE province = 'Cebu';\n",
      "\n",
      "Question: What is the literacy rate in Bulacan?\n",
      "SQL Query: SELECT literacy_rate FROM philippines_db WHERE province = 'Bulacan';\n",
      "\n"
     ]
    }
   ],
   "execution_count": 6
  }
 ],
 "metadata": {
  "kernelspec": {
   "display_name": "Python 3",
   "language": "python",
   "name": "python3"
  },
  "language_info": {
   "codemirror_mode": {
    "name": "ipython",
    "version": 2
   },
   "file_extension": ".py",
   "mimetype": "text/x-python",
   "name": "python",
   "nbconvert_exporter": "python",
   "pygments_lexer": "ipython2",
   "version": "2.7.6"
  }
 },
 "nbformat": 4,
 "nbformat_minor": 5
}
